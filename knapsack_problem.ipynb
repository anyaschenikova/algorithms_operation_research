{
  "nbformat": 4,
  "nbformat_minor": 0,
  "metadata": {
    "colab": {
      "name": "IOR lab 2.ipynb",
      "provenance": [],
      "collapsed_sections": []
    },
    "kernelspec": {
      "name": "python3",
      "display_name": "Python 3"
    },
    "language_info": {
      "name": "python"
    }
  },
  "cells": [
    {
      "cell_type": "markdown",
      "source": [
        "# Лабораторная работа №2"
      ],
      "metadata": {
        "id": "5glRLXR26rXS"
      }
    },
    {
      "cell_type": "markdown",
      "source": [
        "\n",
        "1.   2-approx алгоритм\n",
        "2.   Динамическое программирование\n",
        "    *   На весах\n",
        "3. Метод ветвей и границ используя только 1 предмет\n",
        "4. PTAS или FPTAS\n",
        "\n",
        "\n",
        "\n"
      ],
      "metadata": {
        "id": "xAxKoJxT6vPb"
      }
    },
    {
      "cell_type": "markdown",
      "source": [
        "# Парсим данные"
      ],
      "metadata": {
        "id": "sHTcMEAF7S9a"
      }
    },
    {
      "cell_type": "code",
      "source": [
        "from json import dump"
      ],
      "metadata": {
        "id": "5HeEutHeqDEj"
      },
      "execution_count": null,
      "outputs": []
    },
    {
      "cell_type": "code",
      "source": [
        "import requests"
      ],
      "metadata": {
        "id": "iY01m9cKqFqt"
      },
      "execution_count": null,
      "outputs": []
    },
    {
      "cell_type": "code",
      "source": [
        "base_url = 'https://people.sc.fsu.edu/~jburkardt/datasets/knapsack_01/'"
      ],
      "metadata": {
        "id": "OJlb6ysgqIkY"
      },
      "execution_count": null,
      "outputs": []
    },
    {
      "cell_type": "code",
      "source": [
        "html_page = requests.get(base_url + 'knapsack_01.html').content.decode('utf-8')"
      ],
      "metadata": {
        "id": "TFKgql3ZqHET"
      },
      "execution_count": null,
      "outputs": []
    },
    {
      "cell_type": "code",
      "source": [
        "from bs4 import BeautifulSoup\n",
        "soup = BeautifulSoup(html_page)"
      ],
      "metadata": {
        "id": "BPbO-IMRqKtF"
      },
      "execution_count": null,
      "outputs": []
    },
    {
      "cell_type": "code",
      "source": [
        "data = {}"
      ],
      "metadata": {
        "id": "zij_f6SoqNS_"
      },
      "execution_count": null,
      "outputs": []
    },
    {
      "cell_type": "code",
      "source": [
        "for ul in soup.find_all('ul'):\n",
        "    for link in ul.find_all('a'):\n",
        "        link = link['href']\n",
        "        dataset_key = link.split('_')[0]\n",
        "        key = link.split('_')[1][0]\n",
        "        if not data.get(dataset_key):\n",
        "            data[dataset_key] = {}\n",
        "        data[dataset_key][key] = [int(item) for item in requests.get(base_url + link).content.decode('utf-8').split('\\n') if item]\n",
        "    "
      ],
      "metadata": {
        "id": "_6PtPg3zqO3f"
      },
      "execution_count": null,
      "outputs": []
    },
    {
      "cell_type": "code",
      "source": [
        "del data['p08']"
      ],
      "metadata": {
        "id": "4_WiqZIVqRdq"
      },
      "execution_count": null,
      "outputs": []
    },
    {
      "cell_type": "code",
      "source": [
        "data"
      ],
      "metadata": {
        "colab": {
          "base_uri": "https://localhost:8080/"
        },
        "id": "iZy-HYwRhxuw",
        "outputId": "5d27deb3-8f9e-4041-acde-df564b9afe44"
      },
      "execution_count": null,
      "outputs": [
        {
          "output_type": "execute_result",
          "data": {
            "text/plain": [
              "{'p01': {'c': [165],\n",
              "  'p': [92, 57, 49, 68, 60, 43, 67, 84, 87, 72],\n",
              "  's': [1, 1, 1, 1, 0, 1, 0, 0, 0, 0],\n",
              "  'w': [23, 31, 29, 44, 53, 38, 63, 85, 89, 82]},\n",
              " 'p02': {'c': [26],\n",
              "  'p': [24, 13, 23, 15, 16],\n",
              "  's': [0, 1, 1, 1, 0],\n",
              "  'w': [12, 7, 11, 8, 9]},\n",
              " 'p03': {'c': [190],\n",
              "  'p': [50, 50, 64, 46, 50, 5],\n",
              "  's': [1, 1, 0, 0, 1, 0],\n",
              "  'w': [56, 59, 80, 64, 75, 17]},\n",
              " 'p04': {'c': [50],\n",
              "  'p': [70, 20, 39, 37, 7, 5, 10],\n",
              "  's': [1, 0, 0, 1, 0, 0, 0],\n",
              "  'w': [31, 10, 20, 19, 4, 3, 6]},\n",
              " 'p05': {'c': [104],\n",
              "  'p': [350, 400, 450, 20, 70, 8, 5, 5],\n",
              "  's': [1, 0, 1, 1, 1, 0, 1, 1],\n",
              "  'w': [25, 35, 45, 5, 25, 3, 2, 2]},\n",
              " 'p06': {'c': [170],\n",
              "  'p': [442, 525, 511, 593, 546, 564, 617],\n",
              "  's': [0, 1, 0, 1, 0, 0, 1],\n",
              "  'w': [41, 50, 49, 59, 55, 57, 60]},\n",
              " 'p07': {'c': [750],\n",
              "  'p': [135,\n",
              "   139,\n",
              "   149,\n",
              "   150,\n",
              "   156,\n",
              "   163,\n",
              "   173,\n",
              "   184,\n",
              "   192,\n",
              "   201,\n",
              "   210,\n",
              "   214,\n",
              "   221,\n",
              "   229,\n",
              "   240],\n",
              "  's': [1, 0, 1, 0, 1, 0, 1, 1, 1, 0, 0, 0, 0, 1, 1],\n",
              "  'w': [70, 73, 77, 80, 82, 87, 90, 94, 98, 106, 110, 113, 115, 118, 120]}}"
            ]
          },
          "metadata": {},
          "execution_count": 18
        }
      ]
    },
    {
      "cell_type": "markdown",
      "source": [
        "# Динамическое программирование"
      ],
      "metadata": {
        "id": "kwcHaCjT7IuT"
      }
    },
    {
      "cell_type": "markdown",
      "source": [
        "# На весах"
      ],
      "metadata": {
        "id": "kH9At-pE7NKp"
      }
    },
    {
      "cell_type": "code",
      "source": [
        "def DP_weight(weights, costs, knap_weight, counter=None, show_cost_table=False):\n",
        "  cost_table = [[0 for i in range(knap_weight + 1)] for _ in range(len(weights) + 1)]\n",
        "\n",
        "  for i in range(1, len(weights)+ 1):\n",
        "    for w in range(knap_weight + 1):\n",
        "      if counter:\n",
        "        counter[0] += 1\n",
        "      if i == 0 or w == 0:\n",
        "        cost_table[i][w] = 0\n",
        "      elif weights[i-1] <= w:\n",
        "        cost_table[i][w] = max(cost_table[i-1][w], costs[i-1] + cost_table[i-1][w - weights[i-1]])\n",
        "      elif weights[i-1] > w:\n",
        "        cost_table[i][w] = cost_table[i-1][w]\n",
        "\n",
        "  if show_cost_table:\n",
        "    print(cost_table)\n",
        "  return cost_table[len(weights)][knap_weight]"
      ],
      "metadata": {
        "id": "P7HDldPi7vLi"
      },
      "execution_count": null,
      "outputs": []
    },
    {
      "cell_type": "markdown",
      "source": [
        "Тесты"
      ],
      "metadata": {
        "id": "DoYPBki3t558"
      }
    },
    {
      "cell_type": "code",
      "source": [
        "for test_name in data.keys():\n",
        "  print(f'Test name: {test_name}')\n",
        "  weights = data[test_name]['w']\n",
        "  costs = data[test_name]['p']\n",
        "  knap_weight = data[test_name]['c'][0]\n",
        "  right_cost = sum([data[test_name]['p'][i] for i in range(len(data[test_name]['s'])) if data[test_name]['s'][i]])\n",
        "  assert DP_weight(weights, costs, knap_weight) == right_cost\n",
        "  print('Test passed!')"
      ],
      "metadata": {
        "colab": {
          "base_uri": "https://localhost:8080/"
        },
        "id": "39y6TJLAt7mB",
        "outputId": "ee724c28-e31c-4374-f949-fd4a15ad0423"
      },
      "execution_count": null,
      "outputs": [
        {
          "output_type": "stream",
          "name": "stdout",
          "text": [
            "Test name: p01\n",
            "Test passed!\n",
            "Test name: p02\n",
            "Test passed!\n",
            "Test name: p03\n",
            "Test passed!\n",
            "Test name: p04\n",
            "Test passed!\n",
            "Test name: p05\n",
            "Test passed!\n",
            "Test name: p06\n",
            "Test passed!\n",
            "Test name: p07\n",
            "Test passed!\n"
          ]
        }
      ]
    },
    {
      "cell_type": "markdown",
      "source": [
        "# 2-approx алгоритм"
      ],
      "metadata": {
        "id": "GuCqiQbLOxBu"
      }
    },
    {
      "cell_type": "markdown",
      "source": [
        "![image.png](data:image/png;base64,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)"
      ],
      "metadata": {
        "id": "yKzH0eR2AEZY"
      }
    },
    {
      "cell_type": "code",
      "source": [
        "def get_cost_sum_bi(object_list, costs, counter=None):\n",
        "  sum_costs = 0\n",
        "\n",
        "  for i in range(len(object_list)):\n",
        "    if object_list[i] > 0:\n",
        "      sum_costs += costs[i]\n",
        "\n",
        "  return sum_costs"
      ],
      "metadata": {
        "id": "QOjdlCUT9eQu"
      },
      "execution_count": null,
      "outputs": []
    },
    {
      "cell_type": "code",
      "source": [
        "def greedy(weights, costs, knap_weight, counter=None):\n",
        "  quality = [i / j for i, j in zip(costs, weights)]\n",
        "\n",
        "  sorted_ind = sorted(range(len(quality)), key=lambda k: quality[k], reverse = True)\n",
        "\n",
        "  sum_weights = 0\n",
        "  object_list = [0 for i in range(len(weights))]\n",
        "\n",
        "  for el in sorted_ind:\n",
        "    if sum_weights + weights[el] <= knap_weight:\n",
        "      sum_weights += weights[el]\n",
        "      object_list[el] = 1\n",
        "    else:\n",
        "      if counter:\n",
        "          counter[0] += 2\n",
        "      if sum_weights >= weights[el]:\n",
        "        return object_list, get_cost_sum_bi(object_list, costs)\n",
        "        \n",
        "      elif weights[el] <= knap_weight:\n",
        "        object_list = [0 for i in range(len(weights))]\n",
        "        object_list[el] = 1\n",
        "        return object_list, costs[el]"
      ],
      "metadata": {
        "id": "eRHkgr10OwrJ"
      },
      "execution_count": null,
      "outputs": []
    },
    {
      "cell_type": "markdown",
      "source": [
        "Тесты:"
      ],
      "metadata": {
        "id": "7a-OpPGOjQpl"
      }
    },
    {
      "cell_type": "code",
      "source": [
        "for test_name in data.keys():\n",
        "  print(f'Test name: {test_name}')\n",
        "  weights = data[test_name]['w']\n",
        "  costs = data[test_name]['p']\n",
        "  knap_weight = data[test_name]['c'][0]\n",
        "  object_list = greedy(weights, costs, knap_weight)[0]\n",
        "  right_cost = [costs[] for i in range(len(data[test_name]['s'])) if data[test_name]['s'][i])\n",
        "  print('Test passed!')"
      ],
      "metadata": {
        "colab": {
          "base_uri": "https://localhost:8080/"
        },
        "id": "8xpzRhZBjR8q",
        "outputId": "229ebbab-82cb-4eb8-be53-d8e43af1e7c1"
      },
      "execution_count": null,
      "outputs": [
        {
          "output_type": "stream",
          "name": "stdout",
          "text": [
            "Test name: p01\n",
            "[1, 1, 1, 1, 0, 0, 0, 0, 0, 0] [1, 1, 1, 1, 0, 1, 0, 0, 0, 0]\n",
            "Test passed!\n",
            "Test name: p02\n",
            "[1, 0, 1, 0, 0] [0, 1, 1, 1, 0]\n",
            "Test passed!\n",
            "Test name: p03\n",
            "[1, 1, 0, 0, 0, 0] [1, 1, 0, 0, 1, 0]\n",
            "Test passed!\n",
            "Test name: p04\n",
            "[1, 1, 0, 0, 0, 0, 0] [1, 0, 0, 1, 0, 0, 0]\n",
            "Test passed!\n",
            "Test name: p05\n",
            "[1, 1, 0, 0, 0, 0, 0, 0] [1, 0, 1, 1, 1, 0, 1, 1]\n",
            "Test passed!\n",
            "Test name: p06\n",
            "[1, 1, 1, 0, 0, 0, 0] [0, 1, 0, 1, 0, 0, 1]\n",
            "Test passed!\n",
            "Test name: p07\n",
            "[1, 0, 1, 0, 0, 0, 1, 1, 1, 0, 0, 0, 0, 1, 1] [1, 0, 1, 0, 1, 0, 1, 1, 1, 0, 0, 0, 0, 1, 1]\n",
            "Test passed!\n"
          ]
        }
      ]
    },
    {
      "cell_type": "markdown",
      "source": [
        "# PTAS"
      ],
      "metadata": {
        "id": "g-tqO9JKWDM9"
      }
    },
    {
      "cell_type": "markdown",
      "source": [
        "Функция построения комбинаций, чтобы создать множества мощности меньше k:"
      ],
      "metadata": {
        "id": "VkRSjRJokIlw"
      }
    },
    {
      "cell_type": "code",
      "source": [
        "def combinations(iterable, r, counter=None):\n",
        "    pool = tuple(iterable)\n",
        "    n = len(pool)\n",
        "    if r > n:\n",
        "        return\n",
        "    indices = list(range(r))\n",
        "    yield list(pool[i] for i in indices)\n",
        "    while True:\n",
        "        for i in reversed(range(r)):\n",
        "            if indices[i] != i + n - r:\n",
        "                break\n",
        "        else:\n",
        "            return\n",
        "        indices[i] += 1\n",
        "        for j in range(i+1, r):\n",
        "            indices[j] = indices[j-1] + 1\n",
        "        yield list(pool[i] for i in indices)"
      ],
      "metadata": {
        "id": "C9J6fo75d65b"
      },
      "execution_count": null,
      "outputs": []
    },
    {
      "cell_type": "markdown",
      "source": [
        "Очень плохо и очень запарно создаем наборы размера k:"
      ],
      "metadata": {
        "id": "LTWqGjP7j_zZ"
      }
    },
    {
      "cell_type": "code",
      "source": [
        "def create_k_set(k, n_objects, counter=None):\n",
        "  object_sets = [[]]\n",
        "  object_ind = [i for i in range(0, n_objects)]\n",
        "\n",
        "  for i in range(1,k+1):\n",
        "    for el in list(combinations(object_ind, i)):\n",
        "      object_sets.append(el)\n",
        "\n",
        "  return object_sets"
      ],
      "metadata": {
        "id": "bGvL0KblcPCX"
      },
      "execution_count": null,
      "outputs": []
    },
    {
      "cell_type": "markdown",
      "source": [
        "Считаем общий вес и общую стоимость конекретных поднаборов:"
      ],
      "metadata": {
        "id": "SbC4jKGvz2MW"
      }
    },
    {
      "cell_type": "code",
      "source": [
        "def get_weight_sum(object_list, weights, counter=None):\n",
        "  sum_weights = 0\n",
        "\n",
        "  for el in object_list:\n",
        "    sum_weights += weights[el]\n",
        "\n",
        "  return sum_weights"
      ],
      "metadata": {
        "id": "CU23V2NZlArp"
      },
      "execution_count": null,
      "outputs": []
    },
    {
      "cell_type": "code",
      "source": [
        "def get_cost_sum(object_list, costs, counter=None):\n",
        "  sum_costs = 0\n",
        "\n",
        "  for el in object_list:\n",
        "    sum_costs += costs[el]\n",
        "\n",
        "  return sum_costs"
      ],
      "metadata": {
        "id": "H_sYIRYZnhIa"
      },
      "execution_count": null,
      "outputs": []
    },
    {
      "cell_type": "markdown",
      "source": [
        "Делаем бинарное представление обьектов, входящих в итоговый рюкзак:"
      ],
      "metadata": {
        "id": "Of38ylxF0BVs"
      }
    },
    {
      "cell_type": "code",
      "source": [
        "def get_binary(M, n_objects, counter=None):\n",
        "  arr = [0 for _ in range(n_objects)]\n",
        "\n",
        "  for el in M:\n",
        "    arr[el] = 1\n",
        "\n",
        "  return arr"
      ],
      "metadata": {
        "id": "1aTUOyoHyyDY"
      },
      "execution_count": null,
      "outputs": []
    },
    {
      "cell_type": "markdown",
      "source": [
        "Та самая GS:"
      ],
      "metadata": {
        "id": "RY5EZlAPz9f1"
      }
    },
    {
      "cell_type": "code",
      "source": [
        "def greed_search(n_objects, knap_weight, costs, weights, object_list, counter=None):\n",
        "  z_g = 0\n",
        "  X = []\n",
        "  sum_weights = get_weight_sum(object_list, weights, counter)\n",
        "\n",
        "  weight_rest = knap_weight - sum_weights\n",
        "\n",
        "  for j in range(0, n_objects):\n",
        "    if j not in object_list and weights[j] <= weight_rest:\n",
        "      z_g += costs[j]\n",
        "      weight_rest -= weights[j]\n",
        "      X.append(j)\n",
        "  \n",
        "  if counter:\n",
        "    counter[0] += 1\n",
        "  \n",
        "  return z_g, X"
      ],
      "metadata": {
        "id": "vO2wjx0tWFBX"
      },
      "execution_count": null,
      "outputs": []
    },
    {
      "cell_type": "markdown",
      "source": [
        "Основная часть алгоритма:"
      ],
      "metadata": {
        "id": "vs1JA1LO0Lzu"
      }
    },
    {
      "cell_type": "code",
      "source": [
        "def PTAS(weights, costs, knap_weight, k, counter=None):\n",
        "  n = len(weights)\n",
        "  z_h = 0\n",
        "\n",
        "  object_sets = create_k_set(k, n, counter)\n",
        "\n",
        "  for M in object_sets:\n",
        "    # if counter:\n",
        "    #   counter[0] += 1 \n",
        "    # этот counter зависит от того, считаем ли мы наборы M - промежуточными решениями, скорее всего нет\n",
        "    sum_weights = get_weight_sum(M, weights, counter)\n",
        "\n",
        "    if sum_weights > knap_weight:\n",
        "      continue\n",
        "\n",
        "    z_g, X = greed_search(n, knap_weight, costs, weights, M, counter)\n",
        "    sum_costs = get_cost_sum(M, costs, counter)\n",
        "\n",
        "    if z_g + sum_costs > z_h:\n",
        "      if counter:\n",
        "        counter[0] += 1 \n",
        "      z_h = z_g + sum_costs\n",
        "      X_h = M + X\n",
        "\n",
        "  X_h = get_binary(X_h, n, counter)\n",
        "\n",
        "  return z_h, X_h"
      ],
      "metadata": {
        "id": "G95VjLZBaYmC"
      },
      "execution_count": null,
      "outputs": []
    },
    {
      "cell_type": "markdown",
      "source": [
        "Тесты:"
      ],
      "metadata": {
        "id": "-ZwQk9rBimAN"
      }
    },
    {
      "cell_type": "code",
      "source": [
        "for test_name in data.keys():\n",
        "  print(f'Test name: {test_name}')\n",
        "  weights = data[test_name]['w']\n",
        "  costs = data[test_name]['p']\n",
        "  knap_weight = data[test_name]['c'][0]\n",
        "  assert PTAS(weights, costs, knap_weight, 7)[1] == data[test_name]['s']\n",
        "  print(PTAS(weights, costs, knap_weight, 7)[1], data[test_name]['s'])\n",
        "  print('Test passed!')"
      ],
      "metadata": {
        "colab": {
          "base_uri": "https://localhost:8080/"
        },
        "id": "t2LtEhUWiohX",
        "outputId": "6b590728-6bde-488f-d0bb-831dd3bb6d34"
      },
      "execution_count": null,
      "outputs": [
        {
          "output_type": "stream",
          "name": "stdout",
          "text": [
            "Test name: p01\n",
            "[1, 1, 1, 1, 0, 1, 0, 0, 0, 0] [1, 1, 1, 1, 0, 1, 0, 0, 0, 0]\n",
            "Test passed!\n",
            "Test name: p02\n",
            "[0, 1, 1, 1, 0] [0, 1, 1, 1, 0]\n",
            "Test passed!\n",
            "Test name: p03\n",
            "[1, 1, 0, 0, 1, 0] [1, 1, 0, 0, 1, 0]\n",
            "Test passed!\n",
            "Test name: p04\n",
            "[1, 0, 0, 1, 0, 0, 0] [1, 0, 0, 1, 0, 0, 0]\n",
            "Test passed!\n",
            "Test name: p05\n",
            "[1, 0, 1, 1, 1, 0, 1, 1] [1, 0, 1, 1, 1, 0, 1, 1]\n",
            "Test passed!\n",
            "Test name: p06\n",
            "[0, 1, 0, 1, 0, 0, 1] [0, 1, 0, 1, 0, 0, 1]\n",
            "Test passed!\n",
            "Test name: p07\n",
            "[1, 0, 1, 0, 1, 0, 1, 1, 1, 0, 0, 0, 0, 1, 1] [1, 0, 1, 0, 1, 0, 1, 1, 1, 0, 0, 0, 0, 1, 1]\n",
            "Test passed!\n"
          ]
        }
      ]
    },
    {
      "cell_type": "markdown",
      "source": [
        "# Метод ветвей и границ"
      ],
      "metadata": {
        "id": "BFwdlfkWHD6L"
      }
    },
    {
      "cell_type": "code",
      "source": [
        "weights  = [70, 73, 77, 80, 82, 87, 90, 94, 98, 106, 110, 113, 115, 118, 120]\n",
        "costs = [135, 139, 149, 150, 156, 163, 173, 184, 192, 201, 210, 214, 221, 229, 240]\n",
        "knap_weight = 750\n",
        "current_weight = 0\n",
        "current_cost = 0\n",
        "next_index = -1\n",
        "objects = [0 for i in range(len(weights))]"
      ],
      "metadata": {
        "id": "e_rLKqsrRJvk"
      },
      "execution_count": null,
      "outputs": []
    },
    {
      "cell_type": "code",
      "source": [
        "def branch_bound_method(weights, costs, knap_weight, current_weight, current_cost, next_index, objects, counter=None):\n",
        "  if next_index < len(weights) - 1:\n",
        "    next_index += 1\n",
        "    objects[next_index] = 0\n",
        "    without_obj, with_obj = {}, {}\n",
        "  \n",
        "    without_obj = branch_bound_method(weights, costs, knap_weight, current_weight, current_cost, next_index, objects.copy(), counter)\n",
        "    if counter:\n",
        "      counter[0] += 1\n",
        "\n",
        "    if weights[next_index] + current_weight <= knap_weight:\n",
        "      current_weight += weights[next_index]\n",
        "      current_cost += costs[next_index]\n",
        "      objects[next_index] = 1\n",
        "      with_obj = branch_bound_method(weights, costs, knap_weight, current_weight, current_cost, next_index, objects.copy(), counter)\n",
        "      if counter:\n",
        "        counter[0] += 1\n",
        "    \n",
        "      if without_obj['current_cost'] > with_obj['current_cost']:\n",
        "        return without_obj\n",
        "      else:\n",
        "        return with_obj\n",
        "    else:\n",
        "      return without_obj\n",
        "\n",
        "  else:\n",
        "    return {\n",
        "        'current_cost': current_cost,\n",
        "        'objects': objects.copy(),\n",
        "    }"
      ],
      "metadata": {
        "id": "j-vMFjZ8HDQ1"
      },
      "execution_count": null,
      "outputs": []
    },
    {
      "cell_type": "markdown",
      "source": [
        "Тесты"
      ],
      "metadata": {
        "id": "Gs8fv-t0hoz7"
      }
    },
    {
      "cell_type": "code",
      "source": [
        "for test_name in data.keys():\n",
        "  print(f'Test name: {test_name}')\n",
        "  weights = data[test_name]['w']\n",
        "  costs = data[test_name]['p']\n",
        "  knap_weight = data[test_name]['c'][0]\n",
        "  current_weight = 0\n",
        "  current_cost = 0\n",
        "  next_index = -1\n",
        "  objects = [0 for i in range(len(weights))]\n",
        "  assert branch_bound_method(weights, costs, knap_weight, current_weight, current_cost, next_index, objects)['objects'] == data[test_name]['s']\n",
        "  print('Test passed!')"
      ],
      "metadata": {
        "colab": {
          "base_uri": "https://localhost:8080/"
        },
        "id": "RqmuldyzawtI",
        "outputId": "0239c0c5-8ff9-4337-b367-cfea23044fa0"
      },
      "execution_count": null,
      "outputs": [
        {
          "output_type": "stream",
          "name": "stdout",
          "text": [
            "Test name: p01\n",
            "Test passed!\n",
            "Test name: p02\n",
            "Test passed!\n",
            "Test name: p03\n",
            "Test passed!\n",
            "Test name: p04\n",
            "Test passed!\n",
            "Test name: p05\n",
            "Test passed!\n",
            "Test name: p06\n",
            "Test passed!\n",
            "Test name: p07\n",
            "Test passed!\n"
          ]
        }
      ]
    },
    {
      "cell_type": "code",
      "source": [
        "from time import time"
      ],
      "metadata": {
        "id": "AMucQExixjyh"
      },
      "execution_count": null,
      "outputs": []
    },
    {
      "cell_type": "code",
      "source": [
        "additionals_args = {\n",
        "    'DP': lambda _: [],\n",
        "    '2-approx': lambda _: [],\n",
        "    'PTAS': lambda _: [7],\n",
        "    'Branch boundaries': lambda weights: [0, 0, -1, [0 for i in range(len(weights))]]\n",
        "}"
      ],
      "metadata": {
        "id": "Nm3Qg3uf0d8w"
      },
      "execution_count": null,
      "outputs": []
    },
    {
      "cell_type": "code",
      "source": [
        "def get_time_test(func, name):\n",
        "  current_time_tests = {}\n",
        "  for test_name in data.keys():\n",
        "    avg_time = 0\n",
        "    for _ in range(100):\n",
        "      start_time = time()\n",
        "      args = [data[test_name]['w'], data[test_name]['p'], data[test_name]['c'][0]] + additionals_args[name](data[test_name]['w'])\n",
        "      func(*args)\n",
        "      avg_time += time() - start_time\n",
        "    current_time_tests[test_name] = avg_time / 100\n",
        "  return current_time_tests"
      ],
      "metadata": {
        "id": "7Z3THlFExXa2"
      },
      "execution_count": null,
      "outputs": []
    },
    {
      "cell_type": "markdown",
      "source": [
        "## Время на каждый тест:"
      ],
      "metadata": {
        "id": "2TjjL-hRyRa4"
      }
    },
    {
      "cell_type": "code",
      "source": [
        "import pandas as pd"
      ],
      "metadata": {
        "id": "wHaj-YAvyOkl"
      },
      "execution_count": null,
      "outputs": []
    },
    {
      "cell_type": "code",
      "source": [
        "functions = {\n",
        "    'DP': DP_weight, # weights, costs, knap_weight\n",
        "    'PTAS': PTAS, # weights, costs, knap_weight, k\n",
        "    '2-approx': greedy, # weights, costs, knap_weight\n",
        "    'Branch boundaries': branch_bound_method # weights, costs, knap_weight, current_weight, current_cost, next_index, objects\n",
        "}"
      ],
      "metadata": {
        "id": "GaEKrBUzyd89"
      },
      "execution_count": null,
      "outputs": []
    },
    {
      "cell_type": "code",
      "source": [
        "results = {}\n",
        "for name, func in functions.items():\n",
        "  results[name] = get_time_test(func, name)\n",
        "pd.DataFrame.from_dict(results, orient='index', columns=data.keys())"
      ],
      "metadata": {
        "colab": {
          "base_uri": "https://localhost:8080/",
          "height": 175
        },
        "id": "AO2_F2OzyWdS",
        "outputId": "b1adc6ae-ce97-4c2d-e91e-c57205fc6985"
      },
      "execution_count": null,
      "outputs": [
        {
          "output_type": "execute_result",
          "data": {
            "text/plain": [
              "                        p01       p02       p03       p04       p05       p06  \\\n",
              "DP                 0.000992  0.000080  0.000638  0.000210  0.000535  0.000685   \n",
              "PTAS               0.002898  0.000123  0.000222  0.000577  0.001220  0.000422   \n",
              "2-approx           0.000007  0.000005  0.000005  0.000006  0.000007  0.000006   \n",
              "Branch boundaries  0.000340  0.000028  0.000050  0.000114  0.000295  0.000097   \n",
              "\n",
              "                        p07  \n",
              "DP                 0.007327  \n",
              "PTAS               0.125960  \n",
              "2-approx           0.000010  \n",
              "Branch boundaries  0.031038  "
            ],
            "text/html": [
              "\n",
              "  <div id=\"df-8c069d43-307e-4ed2-9d78-92539c22bce1\">\n",
              "    <div class=\"colab-df-container\">\n",
              "      <div>\n",
              "<style scoped>\n",
              "    .dataframe tbody tr th:only-of-type {\n",
              "        vertical-align: middle;\n",
              "    }\n",
              "\n",
              "    .dataframe tbody tr th {\n",
              "        vertical-align: top;\n",
              "    }\n",
              "\n",
              "    .dataframe thead th {\n",
              "        text-align: right;\n",
              "    }\n",
              "</style>\n",
              "<table border=\"1\" class=\"dataframe\">\n",
              "  <thead>\n",
              "    <tr style=\"text-align: right;\">\n",
              "      <th></th>\n",
              "      <th>p01</th>\n",
              "      <th>p02</th>\n",
              "      <th>p03</th>\n",
              "      <th>p04</th>\n",
              "      <th>p05</th>\n",
              "      <th>p06</th>\n",
              "      <th>p07</th>\n",
              "    </tr>\n",
              "  </thead>\n",
              "  <tbody>\n",
              "    <tr>\n",
              "      <th>DP</th>\n",
              "      <td>0.000992</td>\n",
              "      <td>0.000080</td>\n",
              "      <td>0.000638</td>\n",
              "      <td>0.000210</td>\n",
              "      <td>0.000535</td>\n",
              "      <td>0.000685</td>\n",
              "      <td>0.007327</td>\n",
              "    </tr>\n",
              "    <tr>\n",
              "      <th>PTAS</th>\n",
              "      <td>0.002898</td>\n",
              "      <td>0.000123</td>\n",
              "      <td>0.000222</td>\n",
              "      <td>0.000577</td>\n",
              "      <td>0.001220</td>\n",
              "      <td>0.000422</td>\n",
              "      <td>0.125960</td>\n",
              "    </tr>\n",
              "    <tr>\n",
              "      <th>2-approx</th>\n",
              "      <td>0.000007</td>\n",
              "      <td>0.000005</td>\n",
              "      <td>0.000005</td>\n",
              "      <td>0.000006</td>\n",
              "      <td>0.000007</td>\n",
              "      <td>0.000006</td>\n",
              "      <td>0.000010</td>\n",
              "    </tr>\n",
              "    <tr>\n",
              "      <th>Branch boundaries</th>\n",
              "      <td>0.000340</td>\n",
              "      <td>0.000028</td>\n",
              "      <td>0.000050</td>\n",
              "      <td>0.000114</td>\n",
              "      <td>0.000295</td>\n",
              "      <td>0.000097</td>\n",
              "      <td>0.031038</td>\n",
              "    </tr>\n",
              "  </tbody>\n",
              "</table>\n",
              "</div>\n",
              "      <button class=\"colab-df-convert\" onclick=\"convertToInteractive('df-8c069d43-307e-4ed2-9d78-92539c22bce1')\"\n",
              "              title=\"Convert this dataframe to an interactive table.\"\n",
              "              style=\"display:none;\">\n",
              "        \n",
              "  <svg xmlns=\"http://www.w3.org/2000/svg\" height=\"24px\"viewBox=\"0 0 24 24\"\n",
              "       width=\"24px\">\n",
              "    <path d=\"M0 0h24v24H0V0z\" fill=\"none\"/>\n",
              "    <path d=\"M18.56 5.44l.94 2.06.94-2.06 2.06-.94-2.06-.94-.94-2.06-.94 2.06-2.06.94zm-11 1L8.5 8.5l.94-2.06 2.06-.94-2.06-.94L8.5 2.5l-.94 2.06-2.06.94zm10 10l.94 2.06.94-2.06 2.06-.94-2.06-.94-.94-2.06-.94 2.06-2.06.94z\"/><path d=\"M17.41 7.96l-1.37-1.37c-.4-.4-.92-.59-1.43-.59-.52 0-1.04.2-1.43.59L10.3 9.45l-7.72 7.72c-.78.78-.78 2.05 0 2.83L4 21.41c.39.39.9.59 1.41.59.51 0 1.02-.2 1.41-.59l7.78-7.78 2.81-2.81c.8-.78.8-2.07 0-2.86zM5.41 20L4 18.59l7.72-7.72 1.47 1.35L5.41 20z\"/>\n",
              "  </svg>\n",
              "      </button>\n",
              "      \n",
              "  <style>\n",
              "    .colab-df-container {\n",
              "      display:flex;\n",
              "      flex-wrap:wrap;\n",
              "      gap: 12px;\n",
              "    }\n",
              "\n",
              "    .colab-df-convert {\n",
              "      background-color: #E8F0FE;\n",
              "      border: none;\n",
              "      border-radius: 50%;\n",
              "      cursor: pointer;\n",
              "      display: none;\n",
              "      fill: #1967D2;\n",
              "      height: 32px;\n",
              "      padding: 0 0 0 0;\n",
              "      width: 32px;\n",
              "    }\n",
              "\n",
              "    .colab-df-convert:hover {\n",
              "      background-color: #E2EBFA;\n",
              "      box-shadow: 0px 1px 2px rgba(60, 64, 67, 0.3), 0px 1px 3px 1px rgba(60, 64, 67, 0.15);\n",
              "      fill: #174EA6;\n",
              "    }\n",
              "\n",
              "    [theme=dark] .colab-df-convert {\n",
              "      background-color: #3B4455;\n",
              "      fill: #D2E3FC;\n",
              "    }\n",
              "\n",
              "    [theme=dark] .colab-df-convert:hover {\n",
              "      background-color: #434B5C;\n",
              "      box-shadow: 0px 1px 3px 1px rgba(0, 0, 0, 0.15);\n",
              "      filter: drop-shadow(0px 1px 2px rgba(0, 0, 0, 0.3));\n",
              "      fill: #FFFFFF;\n",
              "    }\n",
              "  </style>\n",
              "\n",
              "      <script>\n",
              "        const buttonEl =\n",
              "          document.querySelector('#df-8c069d43-307e-4ed2-9d78-92539c22bce1 button.colab-df-convert');\n",
              "        buttonEl.style.display =\n",
              "          google.colab.kernel.accessAllowed ? 'block' : 'none';\n",
              "\n",
              "        async function convertToInteractive(key) {\n",
              "          const element = document.querySelector('#df-8c069d43-307e-4ed2-9d78-92539c22bce1');\n",
              "          const dataTable =\n",
              "            await google.colab.kernel.invokeFunction('convertToInteractive',\n",
              "                                                     [key], {});\n",
              "          if (!dataTable) return;\n",
              "\n",
              "          const docLinkHtml = 'Like what you see? Visit the ' +\n",
              "            '<a target=\"_blank\" href=https://colab.research.google.com/notebooks/data_table.ipynb>data table notebook</a>'\n",
              "            + ' to learn more about interactive tables.';\n",
              "          element.innerHTML = '';\n",
              "          dataTable['output_type'] = 'display_data';\n",
              "          await google.colab.output.renderOutput(dataTable, element);\n",
              "          const docLink = document.createElement('div');\n",
              "          docLink.innerHTML = docLinkHtml;\n",
              "          element.appendChild(docLink);\n",
              "        }\n",
              "      </script>\n",
              "    </div>\n",
              "  </div>\n",
              "  "
            ]
          },
          "metadata": {},
          "execution_count": 188
        }
      ]
    },
    {
      "cell_type": "markdown",
      "source": [
        "## Лучшие итоговые стоимости"
      ],
      "metadata": {
        "id": "xDfXoT5-2G3W"
      }
    },
    {
      "cell_type": "code",
      "source": [
        "costs = {key: {} for key in data.keys()}\n",
        "for test_name in data.keys():\n",
        "    args = [data[test_name]['w'], data[test_name]['p'], data[test_name]['c'][0]] + additionals_args['DP'](data[test_name]['w'])\n",
        "    cost = DP_weight(*args)\n",
        "    costs[test_name]['DP'] = cost\n",
        "    args = [data[test_name]['w'], data[test_name]['p'], data[test_name]['c'][0]] + additionals_args['PTAS'](data[test_name]['w'])\n",
        "    cost, _ = PTAS(*args)\n",
        "    costs[test_name]['PTAS'] = cost\n",
        "    args = [data[test_name]['w'], data[test_name]['p'], data[test_name]['c'][0]] + additionals_args['2-approx'](data[test_name]['w'])\n",
        "    _, cost = greedy(*args)\n",
        "    costs[test_name]['2-approx'] = cost\n",
        "    args = [data[test_name]['w'], data[test_name]['p'], data[test_name]['c'][0]] + additionals_args['Branch boundaries'](data[test_name]['w'])\n",
        "    result = branch_bound_method(*args)\n",
        "    cost = result['current_cost']\n",
        "    costs[test_name]['Branch boundaries'] = cost\n",
        "pd.DataFrame.from_dict(costs)"
      ],
      "metadata": {
        "colab": {
          "base_uri": "https://localhost:8080/",
          "height": 175
        },
        "id": "aO2H2_O71ulu",
        "outputId": "c581cbed-9c16-45c0-8631-a8af6fb0b65d"
      },
      "execution_count": null,
      "outputs": [
        {
          "output_type": "execute_result",
          "data": {
            "text/plain": [
              "                   p01  p02  p03  p04  p05   p06   p07\n",
              "DP                 309   51  150  107  900  1735  1458\n",
              "PTAS               309   51  150  107  900  1735  1458\n",
              "2-approx           266   47  100   90  750  1478  1302\n",
              "Branch boundaries  309   51  150  107  900  1735  1458"
            ],
            "text/html": [
              "\n",
              "  <div id=\"df-4bd71fef-5cd5-427a-bca5-c9ccd45234e8\">\n",
              "    <div class=\"colab-df-container\">\n",
              "      <div>\n",
              "<style scoped>\n",
              "    .dataframe tbody tr th:only-of-type {\n",
              "        vertical-align: middle;\n",
              "    }\n",
              "\n",
              "    .dataframe tbody tr th {\n",
              "        vertical-align: top;\n",
              "    }\n",
              "\n",
              "    .dataframe thead th {\n",
              "        text-align: right;\n",
              "    }\n",
              "</style>\n",
              "<table border=\"1\" class=\"dataframe\">\n",
              "  <thead>\n",
              "    <tr style=\"text-align: right;\">\n",
              "      <th></th>\n",
              "      <th>p01</th>\n",
              "      <th>p02</th>\n",
              "      <th>p03</th>\n",
              "      <th>p04</th>\n",
              "      <th>p05</th>\n",
              "      <th>p06</th>\n",
              "      <th>p07</th>\n",
              "    </tr>\n",
              "  </thead>\n",
              "  <tbody>\n",
              "    <tr>\n",
              "      <th>DP</th>\n",
              "      <td>309</td>\n",
              "      <td>51</td>\n",
              "      <td>150</td>\n",
              "      <td>107</td>\n",
              "      <td>900</td>\n",
              "      <td>1735</td>\n",
              "      <td>1458</td>\n",
              "    </tr>\n",
              "    <tr>\n",
              "      <th>PTAS</th>\n",
              "      <td>309</td>\n",
              "      <td>51</td>\n",
              "      <td>150</td>\n",
              "      <td>107</td>\n",
              "      <td>900</td>\n",
              "      <td>1735</td>\n",
              "      <td>1458</td>\n",
              "    </tr>\n",
              "    <tr>\n",
              "      <th>2-approx</th>\n",
              "      <td>266</td>\n",
              "      <td>47</td>\n",
              "      <td>100</td>\n",
              "      <td>90</td>\n",
              "      <td>750</td>\n",
              "      <td>1478</td>\n",
              "      <td>1302</td>\n",
              "    </tr>\n",
              "    <tr>\n",
              "      <th>Branch boundaries</th>\n",
              "      <td>309</td>\n",
              "      <td>51</td>\n",
              "      <td>150</td>\n",
              "      <td>107</td>\n",
              "      <td>900</td>\n",
              "      <td>1735</td>\n",
              "      <td>1458</td>\n",
              "    </tr>\n",
              "  </tbody>\n",
              "</table>\n",
              "</div>\n",
              "      <button class=\"colab-df-convert\" onclick=\"convertToInteractive('df-4bd71fef-5cd5-427a-bca5-c9ccd45234e8')\"\n",
              "              title=\"Convert this dataframe to an interactive table.\"\n",
              "              style=\"display:none;\">\n",
              "        \n",
              "  <svg xmlns=\"http://www.w3.org/2000/svg\" height=\"24px\"viewBox=\"0 0 24 24\"\n",
              "       width=\"24px\">\n",
              "    <path d=\"M0 0h24v24H0V0z\" fill=\"none\"/>\n",
              "    <path d=\"M18.56 5.44l.94 2.06.94-2.06 2.06-.94-2.06-.94-.94-2.06-.94 2.06-2.06.94zm-11 1L8.5 8.5l.94-2.06 2.06-.94-2.06-.94L8.5 2.5l-.94 2.06-2.06.94zm10 10l.94 2.06.94-2.06 2.06-.94-2.06-.94-.94-2.06-.94 2.06-2.06.94z\"/><path d=\"M17.41 7.96l-1.37-1.37c-.4-.4-.92-.59-1.43-.59-.52 0-1.04.2-1.43.59L10.3 9.45l-7.72 7.72c-.78.78-.78 2.05 0 2.83L4 21.41c.39.39.9.59 1.41.59.51 0 1.02-.2 1.41-.59l7.78-7.78 2.81-2.81c.8-.78.8-2.07 0-2.86zM5.41 20L4 18.59l7.72-7.72 1.47 1.35L5.41 20z\"/>\n",
              "  </svg>\n",
              "      </button>\n",
              "      \n",
              "  <style>\n",
              "    .colab-df-container {\n",
              "      display:flex;\n",
              "      flex-wrap:wrap;\n",
              "      gap: 12px;\n",
              "    }\n",
              "\n",
              "    .colab-df-convert {\n",
              "      background-color: #E8F0FE;\n",
              "      border: none;\n",
              "      border-radius: 50%;\n",
              "      cursor: pointer;\n",
              "      display: none;\n",
              "      fill: #1967D2;\n",
              "      height: 32px;\n",
              "      padding: 0 0 0 0;\n",
              "      width: 32px;\n",
              "    }\n",
              "\n",
              "    .colab-df-convert:hover {\n",
              "      background-color: #E2EBFA;\n",
              "      box-shadow: 0px 1px 2px rgba(60, 64, 67, 0.3), 0px 1px 3px 1px rgba(60, 64, 67, 0.15);\n",
              "      fill: #174EA6;\n",
              "    }\n",
              "\n",
              "    [theme=dark] .colab-df-convert {\n",
              "      background-color: #3B4455;\n",
              "      fill: #D2E3FC;\n",
              "    }\n",
              "\n",
              "    [theme=dark] .colab-df-convert:hover {\n",
              "      background-color: #434B5C;\n",
              "      box-shadow: 0px 1px 3px 1px rgba(0, 0, 0, 0.15);\n",
              "      filter: drop-shadow(0px 1px 2px rgba(0, 0, 0, 0.3));\n",
              "      fill: #FFFFFF;\n",
              "    }\n",
              "  </style>\n",
              "\n",
              "      <script>\n",
              "        const buttonEl =\n",
              "          document.querySelector('#df-4bd71fef-5cd5-427a-bca5-c9ccd45234e8 button.colab-df-convert');\n",
              "        buttonEl.style.display =\n",
              "          google.colab.kernel.accessAllowed ? 'block' : 'none';\n",
              "\n",
              "        async function convertToInteractive(key) {\n",
              "          const element = document.querySelector('#df-4bd71fef-5cd5-427a-bca5-c9ccd45234e8');\n",
              "          const dataTable =\n",
              "            await google.colab.kernel.invokeFunction('convertToInteractive',\n",
              "                                                     [key], {});\n",
              "          if (!dataTable) return;\n",
              "\n",
              "          const docLinkHtml = 'Like what you see? Visit the ' +\n",
              "            '<a target=\"_blank\" href=https://colab.research.google.com/notebooks/data_table.ipynb>data table notebook</a>'\n",
              "            + ' to learn more about interactive tables.';\n",
              "          element.innerHTML = '';\n",
              "          dataTable['output_type'] = 'display_data';\n",
              "          await google.colab.output.renderOutput(dataTable, element);\n",
              "          const docLink = document.createElement('div');\n",
              "          docLink.innerHTML = docLinkHtml;\n",
              "          element.appendChild(docLink);\n",
              "        }\n",
              "      </script>\n",
              "    </div>\n",
              "  </div>\n",
              "  "
            ]
          },
          "metadata": {},
          "execution_count": 224
        }
      ]
    },
    {
      "cell_type": "markdown",
      "source": [
        "## Лучший итоговый вес"
      ],
      "metadata": {
        "id": "t1Yj1hulI9yO"
      }
    },
    {
      "cell_type": "code",
      "source": [
        "def count_total_weight(objects, weights):\n",
        "  return sum([weights[i] for i in range(len(objects)) if objects[i] == 1])"
      ],
      "metadata": {
        "id": "1HKzCkbn5vM8"
      },
      "execution_count": null,
      "outputs": []
    },
    {
      "cell_type": "code",
      "source": [
        "weights = {key: {} for key in data.keys()}\n",
        "for test_name in data.keys():\n",
        "    args = [data[test_name]['w'], data[test_name]['p'], data[test_name]['c'][0]] + additionals_args['PTAS'](data[test_name]['w'])\n",
        "    _, objects = PTAS(*args)\n",
        "    weights[test_name]['DP'] = count_total_weight(objects, data[test_name]['w'])\n",
        "    args = [data[test_name]['w'], data[test_name]['p'], data[test_name]['c'][0]] + additionals_args['PTAS'](data[test_name]['w'])\n",
        "    _, objects = PTAS(*args)\n",
        "    weights[test_name]['PTAS'] = count_total_weight(objects, data[test_name]['w'])\n",
        "    args = [data[test_name]['w'], data[test_name]['p'], data[test_name]['c'][0]] + additionals_args['2-approx'](data[test_name]['w'])\n",
        "    objects, _ = greedy(*args)\n",
        "    weights[test_name]['2-approx'] = count_total_weight(objects, data[test_name]['w'])\n",
        "    args = [data[test_name]['w'], data[test_name]['p'], data[test_name]['c'][0]] + additionals_args['Branch boundaries'](data[test_name]['w'])\n",
        "    result = branch_bound_method(*args)\n",
        "    objects = result['objects']\n",
        "    weights[test_name]['Branch boundaries'] = count_total_weight(objects, data[test_name]['w'])\n",
        "pd.DataFrame.from_dict(weights)"
      ],
      "metadata": {
        "colab": {
          "base_uri": "https://localhost:8080/",
          "height": 175
        },
        "id": "JzJHQlUb5EFS",
        "outputId": "707f0cd7-0d94-4eee-b4be-554f6da268b0"
      },
      "execution_count": null,
      "outputs": [
        {
          "output_type": "execute_result",
          "data": {
            "text/plain": [
              "                   p01  p02  p03  p04  p05  p06  p07\n",
              "DP                 165   26  190   50  104  169  749\n",
              "PTAS               165   26  190   50  104  169  749\n",
              "2-approx           127   23  115   41   60  140  667\n",
              "Branch boundaries  165   26  190   50  104  169  749"
            ],
            "text/html": [
              "\n",
              "  <div id=\"df-3a79153f-7582-45d4-9136-f60d33068930\">\n",
              "    <div class=\"colab-df-container\">\n",
              "      <div>\n",
              "<style scoped>\n",
              "    .dataframe tbody tr th:only-of-type {\n",
              "        vertical-align: middle;\n",
              "    }\n",
              "\n",
              "    .dataframe tbody tr th {\n",
              "        vertical-align: top;\n",
              "    }\n",
              "\n",
              "    .dataframe thead th {\n",
              "        text-align: right;\n",
              "    }\n",
              "</style>\n",
              "<table border=\"1\" class=\"dataframe\">\n",
              "  <thead>\n",
              "    <tr style=\"text-align: right;\">\n",
              "      <th></th>\n",
              "      <th>p01</th>\n",
              "      <th>p02</th>\n",
              "      <th>p03</th>\n",
              "      <th>p04</th>\n",
              "      <th>p05</th>\n",
              "      <th>p06</th>\n",
              "      <th>p07</th>\n",
              "    </tr>\n",
              "  </thead>\n",
              "  <tbody>\n",
              "    <tr>\n",
              "      <th>DP</th>\n",
              "      <td>165</td>\n",
              "      <td>26</td>\n",
              "      <td>190</td>\n",
              "      <td>50</td>\n",
              "      <td>104</td>\n",
              "      <td>169</td>\n",
              "      <td>749</td>\n",
              "    </tr>\n",
              "    <tr>\n",
              "      <th>PTAS</th>\n",
              "      <td>165</td>\n",
              "      <td>26</td>\n",
              "      <td>190</td>\n",
              "      <td>50</td>\n",
              "      <td>104</td>\n",
              "      <td>169</td>\n",
              "      <td>749</td>\n",
              "    </tr>\n",
              "    <tr>\n",
              "      <th>2-approx</th>\n",
              "      <td>127</td>\n",
              "      <td>23</td>\n",
              "      <td>115</td>\n",
              "      <td>41</td>\n",
              "      <td>60</td>\n",
              "      <td>140</td>\n",
              "      <td>667</td>\n",
              "    </tr>\n",
              "    <tr>\n",
              "      <th>Branch boundaries</th>\n",
              "      <td>165</td>\n",
              "      <td>26</td>\n",
              "      <td>190</td>\n",
              "      <td>50</td>\n",
              "      <td>104</td>\n",
              "      <td>169</td>\n",
              "      <td>749</td>\n",
              "    </tr>\n",
              "  </tbody>\n",
              "</table>\n",
              "</div>\n",
              "      <button class=\"colab-df-convert\" onclick=\"convertToInteractive('df-3a79153f-7582-45d4-9136-f60d33068930')\"\n",
              "              title=\"Convert this dataframe to an interactive table.\"\n",
              "              style=\"display:none;\">\n",
              "        \n",
              "  <svg xmlns=\"http://www.w3.org/2000/svg\" height=\"24px\"viewBox=\"0 0 24 24\"\n",
              "       width=\"24px\">\n",
              "    <path d=\"M0 0h24v24H0V0z\" fill=\"none\"/>\n",
              "    <path d=\"M18.56 5.44l.94 2.06.94-2.06 2.06-.94-2.06-.94-.94-2.06-.94 2.06-2.06.94zm-11 1L8.5 8.5l.94-2.06 2.06-.94-2.06-.94L8.5 2.5l-.94 2.06-2.06.94zm10 10l.94 2.06.94-2.06 2.06-.94-2.06-.94-.94-2.06-.94 2.06-2.06.94z\"/><path d=\"M17.41 7.96l-1.37-1.37c-.4-.4-.92-.59-1.43-.59-.52 0-1.04.2-1.43.59L10.3 9.45l-7.72 7.72c-.78.78-.78 2.05 0 2.83L4 21.41c.39.39.9.59 1.41.59.51 0 1.02-.2 1.41-.59l7.78-7.78 2.81-2.81c.8-.78.8-2.07 0-2.86zM5.41 20L4 18.59l7.72-7.72 1.47 1.35L5.41 20z\"/>\n",
              "  </svg>\n",
              "      </button>\n",
              "      \n",
              "  <style>\n",
              "    .colab-df-container {\n",
              "      display:flex;\n",
              "      flex-wrap:wrap;\n",
              "      gap: 12px;\n",
              "    }\n",
              "\n",
              "    .colab-df-convert {\n",
              "      background-color: #E8F0FE;\n",
              "      border: none;\n",
              "      border-radius: 50%;\n",
              "      cursor: pointer;\n",
              "      display: none;\n",
              "      fill: #1967D2;\n",
              "      height: 32px;\n",
              "      padding: 0 0 0 0;\n",
              "      width: 32px;\n",
              "    }\n",
              "\n",
              "    .colab-df-convert:hover {\n",
              "      background-color: #E2EBFA;\n",
              "      box-shadow: 0px 1px 2px rgba(60, 64, 67, 0.3), 0px 1px 3px 1px rgba(60, 64, 67, 0.15);\n",
              "      fill: #174EA6;\n",
              "    }\n",
              "\n",
              "    [theme=dark] .colab-df-convert {\n",
              "      background-color: #3B4455;\n",
              "      fill: #D2E3FC;\n",
              "    }\n",
              "\n",
              "    [theme=dark] .colab-df-convert:hover {\n",
              "      background-color: #434B5C;\n",
              "      box-shadow: 0px 1px 3px 1px rgba(0, 0, 0, 0.15);\n",
              "      filter: drop-shadow(0px 1px 2px rgba(0, 0, 0, 0.3));\n",
              "      fill: #FFFFFF;\n",
              "    }\n",
              "  </style>\n",
              "\n",
              "      <script>\n",
              "        const buttonEl =\n",
              "          document.querySelector('#df-3a79153f-7582-45d4-9136-f60d33068930 button.colab-df-convert');\n",
              "        buttonEl.style.display =\n",
              "          google.colab.kernel.accessAllowed ? 'block' : 'none';\n",
              "\n",
              "        async function convertToInteractive(key) {\n",
              "          const element = document.querySelector('#df-3a79153f-7582-45d4-9136-f60d33068930');\n",
              "          const dataTable =\n",
              "            await google.colab.kernel.invokeFunction('convertToInteractive',\n",
              "                                                     [key], {});\n",
              "          if (!dataTable) return;\n",
              "\n",
              "          const docLinkHtml = 'Like what you see? Visit the ' +\n",
              "            '<a target=\"_blank\" href=https://colab.research.google.com/notebooks/data_table.ipynb>data table notebook</a>'\n",
              "            + ' to learn more about interactive tables.';\n",
              "          element.innerHTML = '';\n",
              "          dataTable['output_type'] = 'display_data';\n",
              "          await google.colab.output.renderOutput(dataTable, element);\n",
              "          const docLink = document.createElement('div');\n",
              "          docLink.innerHTML = docLinkHtml;\n",
              "          element.appendChild(docLink);\n",
              "        }\n",
              "      </script>\n",
              "    </div>\n",
              "  </div>\n",
              "  "
            ]
          },
          "metadata": {},
          "execution_count": 241
        }
      ]
    },
    {
      "cell_type": "markdown",
      "source": [
        "## Наборы объектов"
      ],
      "metadata": {
        "id": "7hEy14K-JB2m"
      }
    },
    {
      "cell_type": "code",
      "source": [
        "result = {\n",
        "    func_name: {key: [] for key in data.keys()} for func_name in functions.keys()\n",
        "}\n",
        "for test_name in data.keys():\n",
        "    args = [data[test_name]['w'], data[test_name]['p'], data[test_name]['c'][0]] + additionals_args['PTAS'](data[test_name]['w'])\n",
        "    _, objects = PTAS(*args)\n",
        "    result['DP'][test_name] = objects\n",
        "    args = [data[test_name]['w'], data[test_name]['p'], data[test_name]['c'][0]] + additionals_args['PTAS'](data[test_name]['w'])\n",
        "    _, objects = PTAS(*args)\n",
        "    result['PTAS'][test_name] = objects\n",
        "    args = [data[test_name]['w'], data[test_name]['p'], data[test_name]['c'][0]] + additionals_args['2-approx'](data[test_name]['w'])\n",
        "    objects, _ = greedy(*args)\n",
        "    result['2-approx'][test_name] = objects\n",
        "    args = [data[test_name]['w'], data[test_name]['p'], data[test_name]['c'][0]] + additionals_args['Branch boundaries'](data[test_name]['w'])\n",
        "    result_func = branch_bound_method(*args)\n",
        "    objects = result_func['objects']\n",
        "    result['Branch boundaries'][test_name] = objects\n",
        "\n",
        "for func_name, res in result.items():\n",
        "  print(func_name)\n",
        "  for test_name, objects in res.items():\n",
        "    print(f'{test_name}: {objects}')\n",
        "  print()"
      ],
      "metadata": {
        "colab": {
          "base_uri": "https://localhost:8080/"
        },
        "id": "vrXshyUD8Jka",
        "outputId": "3bb83747-bd63-4a51-e6c0-08fb7d0b12d1"
      },
      "execution_count": null,
      "outputs": [
        {
          "output_type": "stream",
          "name": "stdout",
          "text": [
            "DP\n",
            "p01: [1, 1, 1, 1, 0, 1, 0, 0, 0, 0]\n",
            "p02: [0, 1, 1, 1, 0]\n",
            "p03: [1, 1, 0, 0, 1, 0]\n",
            "p04: [1, 0, 0, 1, 0, 0, 0]\n",
            "p05: [1, 0, 1, 1, 1, 0, 1, 1]\n",
            "p06: [0, 1, 0, 1, 0, 0, 1]\n",
            "p07: [1, 0, 1, 0, 1, 0, 1, 1, 1, 0, 0, 0, 0, 1, 1]\n",
            "\n",
            "PTAS\n",
            "p01: [1, 1, 1, 1, 0, 1, 0, 0, 0, 0]\n",
            "p02: [0, 1, 1, 1, 0]\n",
            "p03: [1, 1, 0, 0, 1, 0]\n",
            "p04: [1, 0, 0, 1, 0, 0, 0]\n",
            "p05: [1, 0, 1, 1, 1, 0, 1, 1]\n",
            "p06: [0, 1, 0, 1, 0, 0, 1]\n",
            "p07: [1, 0, 1, 0, 1, 0, 1, 1, 1, 0, 0, 0, 0, 1, 1]\n",
            "\n",
            "2-approx\n",
            "p01: [1, 1, 1, 1, 0, 0, 0, 0, 0, 0]\n",
            "p02: [1, 0, 1, 0, 0]\n",
            "p03: [1, 1, 0, 0, 0, 0]\n",
            "p04: [1, 1, 0, 0, 0, 0, 0]\n",
            "p05: [1, 1, 0, 0, 0, 0, 0, 0]\n",
            "p06: [1, 1, 1, 0, 0, 0, 0]\n",
            "p07: [1, 0, 1, 0, 0, 0, 1, 1, 1, 0, 0, 0, 0, 1, 1]\n",
            "\n",
            "Branch boundaries\n",
            "p01: [1, 1, 1, 1, 0, 1, 0, 0, 0, 0]\n",
            "p02: [0, 1, 1, 1, 0]\n",
            "p03: [1, 1, 0, 0, 1, 0]\n",
            "p04: [1, 0, 0, 1, 0, 0, 0]\n",
            "p05: [1, 0, 1, 1, 1, 0, 1, 1]\n",
            "p06: [0, 1, 0, 1, 0, 0, 1]\n",
            "p07: [1, 0, 1, 0, 1, 0, 1, 1, 1, 0, 0, 0, 0, 1, 1]\n",
            "\n"
          ]
        }
      ]
    },
    {
      "cell_type": "markdown",
      "source": [
        "## Количество операций"
      ],
      "metadata": {
        "id": "XFBhrGroDf4I"
      }
    },
    {
      "cell_type": "code",
      "source": [
        "results = {\n",
        "    func_name: {key: [] for key in data.keys()} for func_name in functions.keys()\n",
        "}\n",
        "for name, func in functions.items():\n",
        "  for test_name in data.keys():\n",
        "    counter = [0]\n",
        "    args = [data[test_name]['w'], data[test_name]['p'], data[test_name]['c'][0]] + additionals_args[name](data[test_name]['w']) + [counter]\n",
        "    func(*args)\n",
        "    results[name][test_name] = counter[0]\n",
        "\n",
        "pd.DataFrame.from_dict(results)"
      ],
      "metadata": {
        "colab": {
          "base_uri": "https://localhost:8080/",
          "height": 269
        },
        "id": "BoqMEMx1DyWj",
        "outputId": "4fe20765-4a99-44a2-8c90-8d8a798cac1d"
      },
      "execution_count": null,
      "outputs": [
        {
          "output_type": "execute_result",
          "data": {
            "text/plain": [
              "        DP   PTAS  2-approx  Branch boundaries\n",
              "p01   1660    143         2                569\n",
              "p02    135     21         2                 43\n",
              "p03   1146     36         2                 77\n",
              "p04    357     73         2                152\n",
              "p05    840    208         2                413\n",
              "p06   1197     69         2                156\n",
              "p07  11265  16383         2              44447"
            ],
            "text/html": [
              "\n",
              "  <div id=\"df-a5c4199d-4daa-4515-815b-2ddd98810e85\">\n",
              "    <div class=\"colab-df-container\">\n",
              "      <div>\n",
              "<style scoped>\n",
              "    .dataframe tbody tr th:only-of-type {\n",
              "        vertical-align: middle;\n",
              "    }\n",
              "\n",
              "    .dataframe tbody tr th {\n",
              "        vertical-align: top;\n",
              "    }\n",
              "\n",
              "    .dataframe thead th {\n",
              "        text-align: right;\n",
              "    }\n",
              "</style>\n",
              "<table border=\"1\" class=\"dataframe\">\n",
              "  <thead>\n",
              "    <tr style=\"text-align: right;\">\n",
              "      <th></th>\n",
              "      <th>DP</th>\n",
              "      <th>PTAS</th>\n",
              "      <th>2-approx</th>\n",
              "      <th>Branch boundaries</th>\n",
              "    </tr>\n",
              "  </thead>\n",
              "  <tbody>\n",
              "    <tr>\n",
              "      <th>p01</th>\n",
              "      <td>1660</td>\n",
              "      <td>143</td>\n",
              "      <td>2</td>\n",
              "      <td>569</td>\n",
              "    </tr>\n",
              "    <tr>\n",
              "      <th>p02</th>\n",
              "      <td>135</td>\n",
              "      <td>21</td>\n",
              "      <td>2</td>\n",
              "      <td>43</td>\n",
              "    </tr>\n",
              "    <tr>\n",
              "      <th>p03</th>\n",
              "      <td>1146</td>\n",
              "      <td>36</td>\n",
              "      <td>2</td>\n",
              "      <td>77</td>\n",
              "    </tr>\n",
              "    <tr>\n",
              "      <th>p04</th>\n",
              "      <td>357</td>\n",
              "      <td>73</td>\n",
              "      <td>2</td>\n",
              "      <td>152</td>\n",
              "    </tr>\n",
              "    <tr>\n",
              "      <th>p05</th>\n",
              "      <td>840</td>\n",
              "      <td>208</td>\n",
              "      <td>2</td>\n",
              "      <td>413</td>\n",
              "    </tr>\n",
              "    <tr>\n",
              "      <th>p06</th>\n",
              "      <td>1197</td>\n",
              "      <td>69</td>\n",
              "      <td>2</td>\n",
              "      <td>156</td>\n",
              "    </tr>\n",
              "    <tr>\n",
              "      <th>p07</th>\n",
              "      <td>11265</td>\n",
              "      <td>16383</td>\n",
              "      <td>2</td>\n",
              "      <td>44447</td>\n",
              "    </tr>\n",
              "  </tbody>\n",
              "</table>\n",
              "</div>\n",
              "      <button class=\"colab-df-convert\" onclick=\"convertToInteractive('df-a5c4199d-4daa-4515-815b-2ddd98810e85')\"\n",
              "              title=\"Convert this dataframe to an interactive table.\"\n",
              "              style=\"display:none;\">\n",
              "        \n",
              "  <svg xmlns=\"http://www.w3.org/2000/svg\" height=\"24px\"viewBox=\"0 0 24 24\"\n",
              "       width=\"24px\">\n",
              "    <path d=\"M0 0h24v24H0V0z\" fill=\"none\"/>\n",
              "    <path d=\"M18.56 5.44l.94 2.06.94-2.06 2.06-.94-2.06-.94-.94-2.06-.94 2.06-2.06.94zm-11 1L8.5 8.5l.94-2.06 2.06-.94-2.06-.94L8.5 2.5l-.94 2.06-2.06.94zm10 10l.94 2.06.94-2.06 2.06-.94-2.06-.94-.94-2.06-.94 2.06-2.06.94z\"/><path d=\"M17.41 7.96l-1.37-1.37c-.4-.4-.92-.59-1.43-.59-.52 0-1.04.2-1.43.59L10.3 9.45l-7.72 7.72c-.78.78-.78 2.05 0 2.83L4 21.41c.39.39.9.59 1.41.59.51 0 1.02-.2 1.41-.59l7.78-7.78 2.81-2.81c.8-.78.8-2.07 0-2.86zM5.41 20L4 18.59l7.72-7.72 1.47 1.35L5.41 20z\"/>\n",
              "  </svg>\n",
              "      </button>\n",
              "      \n",
              "  <style>\n",
              "    .colab-df-container {\n",
              "      display:flex;\n",
              "      flex-wrap:wrap;\n",
              "      gap: 12px;\n",
              "    }\n",
              "\n",
              "    .colab-df-convert {\n",
              "      background-color: #E8F0FE;\n",
              "      border: none;\n",
              "      border-radius: 50%;\n",
              "      cursor: pointer;\n",
              "      display: none;\n",
              "      fill: #1967D2;\n",
              "      height: 32px;\n",
              "      padding: 0 0 0 0;\n",
              "      width: 32px;\n",
              "    }\n",
              "\n",
              "    .colab-df-convert:hover {\n",
              "      background-color: #E2EBFA;\n",
              "      box-shadow: 0px 1px 2px rgba(60, 64, 67, 0.3), 0px 1px 3px 1px rgba(60, 64, 67, 0.15);\n",
              "      fill: #174EA6;\n",
              "    }\n",
              "\n",
              "    [theme=dark] .colab-df-convert {\n",
              "      background-color: #3B4455;\n",
              "      fill: #D2E3FC;\n",
              "    }\n",
              "\n",
              "    [theme=dark] .colab-df-convert:hover {\n",
              "      background-color: #434B5C;\n",
              "      box-shadow: 0px 1px 3px 1px rgba(0, 0, 0, 0.15);\n",
              "      filter: drop-shadow(0px 1px 2px rgba(0, 0, 0, 0.3));\n",
              "      fill: #FFFFFF;\n",
              "    }\n",
              "  </style>\n",
              "\n",
              "      <script>\n",
              "        const buttonEl =\n",
              "          document.querySelector('#df-a5c4199d-4daa-4515-815b-2ddd98810e85 button.colab-df-convert');\n",
              "        buttonEl.style.display =\n",
              "          google.colab.kernel.accessAllowed ? 'block' : 'none';\n",
              "\n",
              "        async function convertToInteractive(key) {\n",
              "          const element = document.querySelector('#df-a5c4199d-4daa-4515-815b-2ddd98810e85');\n",
              "          const dataTable =\n",
              "            await google.colab.kernel.invokeFunction('convertToInteractive',\n",
              "                                                     [key], {});\n",
              "          if (!dataTable) return;\n",
              "\n",
              "          const docLinkHtml = 'Like what you see? Visit the ' +\n",
              "            '<a target=\"_blank\" href=https://colab.research.google.com/notebooks/data_table.ipynb>data table notebook</a>'\n",
              "            + ' to learn more about interactive tables.';\n",
              "          element.innerHTML = '';\n",
              "          dataTable['output_type'] = 'display_data';\n",
              "          await google.colab.output.renderOutput(dataTable, element);\n",
              "          const docLink = document.createElement('div');\n",
              "          docLink.innerHTML = docLinkHtml;\n",
              "          element.appendChild(docLink);\n",
              "        }\n",
              "      </script>\n",
              "    </div>\n",
              "  </div>\n",
              "  "
            ]
          },
          "metadata": {},
          "execution_count": 30
        }
      ]
    },
    {
      "cell_type": "markdown",
      "source": [
        "## Печатаем промежуточное состояние для DP_weight"
      ],
      "metadata": {
        "id": "CsjYyl8eIav_"
      }
    },
    {
      "cell_type": "code",
      "source": [
        "for test_name in data.keys():\n",
        "  print(f'{test_name}')\n",
        "  DP_weight(data[test_name]['w'], data[test_name]['p'], data[test_name]['c'][0], None, True)"
      ],
      "metadata": {
        "colab": {
          "base_uri": "https://localhost:8080/"
        },
        "id": "p5ghs7qbGQeS",
        "outputId": "2d40624e-b133-4214-a5fd-7ddd3c37522b"
      },
      "execution_count": null,
      "outputs": [
        {
          "output_type": "stream",
          "name": "stdout",
          "text": [
            "p01\n",
            "[[0, 0, 0, 0, 0, 0, 0, 0, 0, 0, 0, 0, 0, 0, 0, 0, 0, 0, 0, 0, 0, 0, 0, 0, 0, 0, 0, 0, 0, 0, 0, 0, 0, 0, 0, 0, 0, 0, 0, 0, 0, 0, 0, 0, 0, 0, 0, 0, 0, 0, 0, 0, 0, 0, 0, 0, 0, 0, 0, 0, 0, 0, 0, 0, 0, 0, 0, 0, 0, 0, 0, 0, 0, 0, 0, 0, 0, 0, 0, 0, 0, 0, 0, 0, 0, 0, 0, 0, 0, 0, 0, 0, 0, 0, 0, 0, 0, 0, 0, 0, 0, 0, 0, 0, 0, 0, 0, 0, 0, 0, 0, 0, 0, 0, 0, 0, 0, 0, 0, 0, 0, 0, 0, 0, 0, 0, 0, 0, 0, 0, 0, 0, 0, 0, 0, 0, 0, 0, 0, 0, 0, 0, 0, 0, 0, 0, 0, 0, 0, 0, 0, 0, 0, 0, 0, 0, 0, 0, 0, 0, 0, 0, 0, 0, 0, 0], [0, 0, 0, 0, 0, 0, 0, 0, 0, 0, 0, 0, 0, 0, 0, 0, 0, 0, 0, 0, 0, 0, 0, 92, 92, 92, 92, 92, 92, 92, 92, 92, 92, 92, 92, 92, 92, 92, 92, 92, 92, 92, 92, 92, 92, 92, 92, 92, 92, 92, 92, 92, 92, 92, 92, 92, 92, 92, 92, 92, 92, 92, 92, 92, 92, 92, 92, 92, 92, 92, 92, 92, 92, 92, 92, 92, 92, 92, 92, 92, 92, 92, 92, 92, 92, 92, 92, 92, 92, 92, 92, 92, 92, 92, 92, 92, 92, 92, 92, 92, 92, 92, 92, 92, 92, 92, 92, 92, 92, 92, 92, 92, 92, 92, 92, 92, 92, 92, 92, 92, 92, 92, 92, 92, 92, 92, 92, 92, 92, 92, 92, 92, 92, 92, 92, 92, 92, 92, 92, 92, 92, 92, 92, 92, 92, 92, 92, 92, 92, 92, 92, 92, 92, 92, 92, 92, 92, 92, 92, 92, 92, 92, 92, 92, 92, 92], [0, 0, 0, 0, 0, 0, 0, 0, 0, 0, 0, 0, 0, 0, 0, 0, 0, 0, 0, 0, 0, 0, 0, 92, 92, 92, 92, 92, 92, 92, 92, 92, 92, 92, 92, 92, 92, 92, 92, 92, 92, 92, 92, 92, 92, 92, 92, 92, 92, 92, 92, 92, 92, 92, 149, 149, 149, 149, 149, 149, 149, 149, 149, 149, 149, 149, 149, 149, 149, 149, 149, 149, 149, 149, 149, 149, 149, 149, 149, 149, 149, 149, 149, 149, 149, 149, 149, 149, 149, 149, 149, 149, 149, 149, 149, 149, 149, 149, 149, 149, 149, 149, 149, 149, 149, 149, 149, 149, 149, 149, 149, 149, 149, 149, 149, 149, 149, 149, 149, 149, 149, 149, 149, 149, 149, 149, 149, 149, 149, 149, 149, 149, 149, 149, 149, 149, 149, 149, 149, 149, 149, 149, 149, 149, 149, 149, 149, 149, 149, 149, 149, 149, 149, 149, 149, 149, 149, 149, 149, 149, 149, 149, 149, 149, 149, 149], [0, 0, 0, 0, 0, 0, 0, 0, 0, 0, 0, 0, 0, 0, 0, 0, 0, 0, 0, 0, 0, 0, 0, 92, 92, 92, 92, 92, 92, 92, 92, 92, 92, 92, 92, 92, 92, 92, 92, 92, 92, 92, 92, 92, 92, 92, 92, 92, 92, 92, 92, 92, 141, 141, 149, 149, 149, 149, 149, 149, 149, 149, 149, 149, 149, 149, 149, 149, 149, 149, 149, 149, 149, 149, 149, 149, 149, 149, 149, 149, 149, 149, 149, 198, 198, 198, 198, 198, 198, 198, 198, 198, 198, 198, 198, 198, 198, 198, 198, 198, 198, 198, 198, 198, 198, 198, 198, 198, 198, 198, 198, 198, 198, 198, 198, 198, 198, 198, 198, 198, 198, 198, 198, 198, 198, 198, 198, 198, 198, 198, 198, 198, 198, 198, 198, 198, 198, 198, 198, 198, 198, 198, 198, 198, 198, 198, 198, 198, 198, 198, 198, 198, 198, 198, 198, 198, 198, 198, 198, 198, 198, 198, 198, 198, 198, 198], [0, 0, 0, 0, 0, 0, 0, 0, 0, 0, 0, 0, 0, 0, 0, 0, 0, 0, 0, 0, 0, 0, 0, 92, 92, 92, 92, 92, 92, 92, 92, 92, 92, 92, 92, 92, 92, 92, 92, 92, 92, 92, 92, 92, 92, 92, 92, 92, 92, 92, 92, 92, 141, 141, 149, 149, 149, 149, 149, 149, 149, 149, 149, 149, 149, 149, 149, 160, 160, 160, 160, 160, 160, 160, 160, 160, 160, 160, 160, 160, 160, 160, 160, 198, 198, 198, 198, 198, 198, 198, 198, 198, 198, 198, 198, 198, 209, 209, 217, 217, 217, 217, 217, 217, 217, 217, 217, 217, 217, 217, 217, 217, 217, 217, 217, 217, 217, 217, 217, 217, 217, 217, 217, 217, 217, 217, 217, 266, 266, 266, 266, 266, 266, 266, 266, 266, 266, 266, 266, 266, 266, 266, 266, 266, 266, 266, 266, 266, 266, 266, 266, 266, 266, 266, 266, 266, 266, 266, 266, 266, 266, 266, 266, 266, 266, 266], [0, 0, 0, 0, 0, 0, 0, 0, 0, 0, 0, 0, 0, 0, 0, 0, 0, 0, 0, 0, 0, 0, 0, 92, 92, 92, 92, 92, 92, 92, 92, 92, 92, 92, 92, 92, 92, 92, 92, 92, 92, 92, 92, 92, 92, 92, 92, 92, 92, 92, 92, 92, 141, 141, 149, 149, 149, 149, 149, 149, 149, 149, 149, 149, 149, 149, 149, 160, 160, 160, 160, 160, 160, 160, 160, 160, 160, 160, 160, 160, 160, 160, 160, 198, 198, 198, 198, 198, 198, 198, 198, 198, 198, 198, 198, 198, 209, 209, 217, 217, 217, 217, 217, 217, 217, 217, 217, 217, 217, 217, 217, 217, 217, 217, 217, 217, 217, 217, 217, 217, 220, 220, 220, 220, 220, 220, 220, 266, 266, 266, 266, 266, 266, 266, 266, 266, 266, 266, 266, 266, 266, 266, 266, 266, 266, 266, 266, 266, 266, 269, 269, 277, 277, 277, 277, 277, 277, 277, 277, 277, 277, 277, 277, 277, 277, 277], [0, 0, 0, 0, 0, 0, 0, 0, 0, 0, 0, 0, 0, 0, 0, 0, 0, 0, 0, 0, 0, 0, 0, 92, 92, 92, 92, 92, 92, 92, 92, 92, 92, 92, 92, 92, 92, 92, 92, 92, 92, 92, 92, 92, 92, 92, 92, 92, 92, 92, 92, 92, 141, 141, 149, 149, 149, 149, 149, 149, 149, 149, 149, 149, 149, 149, 149, 160, 160, 160, 160, 160, 160, 160, 160, 160, 160, 160, 160, 160, 160, 160, 160, 198, 198, 198, 198, 198, 198, 198, 198, 198, 198, 198, 198, 198, 209, 209, 217, 217, 217, 217, 217, 217, 217, 217, 217, 217, 217, 217, 217, 217, 217, 217, 217, 217, 217, 217, 217, 217, 220, 241, 241, 241, 241, 241, 241, 266, 266, 266, 266, 266, 266, 266, 266, 266, 266, 266, 266, 266, 266, 266, 266, 266, 266, 266, 266, 266, 266, 269, 269, 277, 277, 277, 277, 277, 277, 277, 277, 277, 277, 277, 277, 277, 277, 309], [0, 0, 0, 0, 0, 0, 0, 0, 0, 0, 0, 0, 0, 0, 0, 0, 0, 0, 0, 0, 0, 0, 0, 92, 92, 92, 92, 92, 92, 92, 92, 92, 92, 92, 92, 92, 92, 92, 92, 92, 92, 92, 92, 92, 92, 92, 92, 92, 92, 92, 92, 92, 141, 141, 149, 149, 149, 149, 149, 149, 149, 149, 149, 149, 149, 149, 149, 160, 160, 160, 160, 160, 160, 160, 160, 160, 160, 160, 160, 160, 160, 160, 160, 198, 198, 198, 198, 198, 198, 198, 198, 198, 198, 198, 198, 198, 209, 209, 217, 217, 217, 217, 217, 217, 217, 217, 217, 217, 217, 217, 217, 217, 217, 217, 217, 217, 217, 217, 217, 217, 220, 241, 241, 241, 241, 241, 241, 266, 266, 266, 266, 266, 266, 266, 266, 266, 266, 266, 266, 266, 266, 266, 266, 266, 266, 266, 266, 266, 266, 269, 269, 277, 277, 277, 277, 277, 277, 277, 277, 277, 277, 284, 284, 284, 284, 309], [0, 0, 0, 0, 0, 0, 0, 0, 0, 0, 0, 0, 0, 0, 0, 0, 0, 0, 0, 0, 0, 0, 0, 92, 92, 92, 92, 92, 92, 92, 92, 92, 92, 92, 92, 92, 92, 92, 92, 92, 92, 92, 92, 92, 92, 92, 92, 92, 92, 92, 92, 92, 141, 141, 149, 149, 149, 149, 149, 149, 149, 149, 149, 149, 149, 149, 149, 160, 160, 160, 160, 160, 160, 160, 160, 160, 160, 160, 160, 160, 160, 160, 160, 198, 198, 198, 198, 198, 198, 198, 198, 198, 198, 198, 198, 198, 209, 209, 217, 217, 217, 217, 217, 217, 217, 217, 217, 217, 217, 217, 217, 217, 217, 217, 217, 217, 217, 217, 217, 217, 220, 241, 241, 241, 241, 241, 241, 266, 266, 266, 266, 266, 266, 266, 266, 266, 266, 266, 266, 266, 266, 266, 266, 266, 266, 266, 266, 266, 266, 269, 269, 277, 277, 277, 277, 277, 277, 277, 277, 277, 277, 284, 284, 284, 284, 309], [0, 0, 0, 0, 0, 0, 0, 0, 0, 0, 0, 0, 0, 0, 0, 0, 0, 0, 0, 0, 0, 0, 0, 92, 92, 92, 92, 92, 92, 92, 92, 92, 92, 92, 92, 92, 92, 92, 92, 92, 92, 92, 92, 92, 92, 92, 92, 92, 92, 92, 92, 92, 141, 141, 149, 149, 149, 149, 149, 149, 149, 149, 149, 149, 149, 149, 149, 160, 160, 160, 160, 160, 160, 160, 160, 160, 160, 160, 160, 160, 160, 160, 160, 198, 198, 198, 198, 198, 198, 198, 198, 198, 198, 198, 198, 198, 209, 209, 217, 217, 217, 217, 217, 217, 217, 217, 217, 217, 217, 217, 217, 217, 217, 217, 217, 217, 217, 217, 217, 217, 220, 241, 241, 241, 241, 241, 241, 266, 266, 266, 266, 266, 266, 266, 266, 266, 266, 266, 266, 266, 266, 266, 266, 266, 266, 266, 266, 266, 266, 269, 269, 277, 277, 277, 277, 277, 277, 277, 277, 277, 277, 284, 284, 284, 284, 309], [0, 0, 0, 0, 0, 0, 0, 0, 0, 0, 0, 0, 0, 0, 0, 0, 0, 0, 0, 0, 0, 0, 0, 92, 92, 92, 92, 92, 92, 92, 92, 92, 92, 92, 92, 92, 92, 92, 92, 92, 92, 92, 92, 92, 92, 92, 92, 92, 92, 92, 92, 92, 141, 141, 149, 149, 149, 149, 149, 149, 149, 149, 149, 149, 149, 149, 149, 160, 160, 160, 160, 160, 160, 160, 160, 160, 160, 160, 160, 160, 160, 160, 160, 198, 198, 198, 198, 198, 198, 198, 198, 198, 198, 198, 198, 198, 209, 209, 217, 217, 217, 217, 217, 217, 217, 217, 217, 217, 217, 217, 217, 217, 217, 217, 217, 217, 217, 217, 217, 217, 220, 241, 241, 241, 241, 241, 241, 266, 266, 266, 266, 266, 266, 266, 266, 266, 266, 266, 266, 266, 266, 266, 266, 266, 266, 266, 266, 266, 266, 269, 269, 277, 277, 277, 277, 277, 277, 277, 277, 277, 277, 284, 284, 284, 284, 309]]\n",
            "p02\n",
            "[[0, 0, 0, 0, 0, 0, 0, 0, 0, 0, 0, 0, 0, 0, 0, 0, 0, 0, 0, 0, 0, 0, 0, 0, 0, 0, 0], [0, 0, 0, 0, 0, 0, 0, 0, 0, 0, 0, 0, 24, 24, 24, 24, 24, 24, 24, 24, 24, 24, 24, 24, 24, 24, 24], [0, 0, 0, 0, 0, 0, 0, 13, 13, 13, 13, 13, 24, 24, 24, 24, 24, 24, 24, 37, 37, 37, 37, 37, 37, 37, 37], [0, 0, 0, 0, 0, 0, 0, 13, 13, 13, 13, 23, 24, 24, 24, 24, 24, 24, 36, 37, 37, 37, 37, 47, 47, 47, 47], [0, 0, 0, 0, 0, 0, 0, 13, 15, 15, 15, 23, 24, 24, 24, 28, 28, 28, 36, 38, 39, 39, 39, 47, 47, 47, 51], [0, 0, 0, 0, 0, 0, 0, 13, 15, 16, 16, 23, 24, 24, 24, 28, 29, 31, 36, 38, 39, 40, 40, 47, 47, 47, 51]]\n",
            "p03\n",
            "[[0, 0, 0, 0, 0, 0, 0, 0, 0, 0, 0, 0, 0, 0, 0, 0, 0, 0, 0, 0, 0, 0, 0, 0, 0, 0, 0, 0, 0, 0, 0, 0, 0, 0, 0, 0, 0, 0, 0, 0, 0, 0, 0, 0, 0, 0, 0, 0, 0, 0, 0, 0, 0, 0, 0, 0, 0, 0, 0, 0, 0, 0, 0, 0, 0, 0, 0, 0, 0, 0, 0, 0, 0, 0, 0, 0, 0, 0, 0, 0, 0, 0, 0, 0, 0, 0, 0, 0, 0, 0, 0, 0, 0, 0, 0, 0, 0, 0, 0, 0, 0, 0, 0, 0, 0, 0, 0, 0, 0, 0, 0, 0, 0, 0, 0, 0, 0, 0, 0, 0, 0, 0, 0, 0, 0, 0, 0, 0, 0, 0, 0, 0, 0, 0, 0, 0, 0, 0, 0, 0, 0, 0, 0, 0, 0, 0, 0, 0, 0, 0, 0, 0, 0, 0, 0, 0, 0, 0, 0, 0, 0, 0, 0, 0, 0, 0, 0, 0, 0, 0, 0, 0, 0, 0, 0, 0, 0, 0, 0, 0, 0, 0, 0, 0, 0, 0, 0, 0, 0, 0, 0], [0, 0, 0, 0, 0, 0, 0, 0, 0, 0, 0, 0, 0, 0, 0, 0, 0, 0, 0, 0, 0, 0, 0, 0, 0, 0, 0, 0, 0, 0, 0, 0, 0, 0, 0, 0, 0, 0, 0, 0, 0, 0, 0, 0, 0, 0, 0, 0, 0, 0, 0, 0, 0, 0, 0, 0, 50, 50, 50, 50, 50, 50, 50, 50, 50, 50, 50, 50, 50, 50, 50, 50, 50, 50, 50, 50, 50, 50, 50, 50, 50, 50, 50, 50, 50, 50, 50, 50, 50, 50, 50, 50, 50, 50, 50, 50, 50, 50, 50, 50, 50, 50, 50, 50, 50, 50, 50, 50, 50, 50, 50, 50, 50, 50, 50, 50, 50, 50, 50, 50, 50, 50, 50, 50, 50, 50, 50, 50, 50, 50, 50, 50, 50, 50, 50, 50, 50, 50, 50, 50, 50, 50, 50, 50, 50, 50, 50, 50, 50, 50, 50, 50, 50, 50, 50, 50, 50, 50, 50, 50, 50, 50, 50, 50, 50, 50, 50, 50, 50, 50, 50, 50, 50, 50, 50, 50, 50, 50, 50, 50, 50, 50, 50, 50, 50, 50, 50, 50, 50, 50, 50], [0, 0, 0, 0, 0, 0, 0, 0, 0, 0, 0, 0, 0, 0, 0, 0, 0, 0, 0, 0, 0, 0, 0, 0, 0, 0, 0, 0, 0, 0, 0, 0, 0, 0, 0, 0, 0, 0, 0, 0, 0, 0, 0, 0, 0, 0, 0, 0, 0, 0, 0, 0, 0, 0, 0, 0, 50, 50, 50, 50, 50, 50, 50, 50, 50, 50, 50, 50, 50, 50, 50, 50, 50, 50, 50, 50, 50, 50, 50, 50, 50, 50, 50, 50, 50, 50, 50, 50, 50, 50, 50, 50, 50, 50, 50, 50, 50, 50, 50, 50, 50, 50, 50, 50, 50, 50, 50, 50, 50, 50, 50, 50, 50, 50, 50, 100, 100, 100, 100, 100, 100, 100, 100, 100, 100, 100, 100, 100, 100, 100, 100, 100, 100, 100, 100, 100, 100, 100, 100, 100, 100, 100, 100, 100, 100, 100, 100, 100, 100, 100, 100, 100, 100, 100, 100, 100, 100, 100, 100, 100, 100, 100, 100, 100, 100, 100, 100, 100, 100, 100, 100, 100, 100, 100, 100, 100, 100, 100, 100, 100, 100, 100, 100, 100, 100, 100, 100, 100, 100, 100, 100], [0, 0, 0, 0, 0, 0, 0, 0, 0, 0, 0, 0, 0, 0, 0, 0, 0, 0, 0, 0, 0, 0, 0, 0, 0, 0, 0, 0, 0, 0, 0, 0, 0, 0, 0, 0, 0, 0, 0, 0, 0, 0, 0, 0, 0, 0, 0, 0, 0, 0, 0, 0, 0, 0, 0, 0, 50, 50, 50, 50, 50, 50, 50, 50, 50, 50, 50, 50, 50, 50, 50, 50, 50, 50, 50, 50, 50, 50, 50, 50, 64, 64, 64, 64, 64, 64, 64, 64, 64, 64, 64, 64, 64, 64, 64, 64, 64, 64, 64, 64, 64, 64, 64, 64, 64, 64, 64, 64, 64, 64, 64, 64, 64, 64, 64, 100, 100, 100, 100, 100, 100, 100, 100, 100, 100, 100, 100, 100, 100, 100, 100, 100, 100, 100, 100, 100, 114, 114, 114, 114, 114, 114, 114, 114, 114, 114, 114, 114, 114, 114, 114, 114, 114, 114, 114, 114, 114, 114, 114, 114, 114, 114, 114, 114, 114, 114, 114, 114, 114, 114, 114, 114, 114, 114, 114, 114, 114, 114, 114, 114, 114, 114, 114, 114, 114, 114, 114, 114, 114, 114, 114], [0, 0, 0, 0, 0, 0, 0, 0, 0, 0, 0, 0, 0, 0, 0, 0, 0, 0, 0, 0, 0, 0, 0, 0, 0, 0, 0, 0, 0, 0, 0, 0, 0, 0, 0, 0, 0, 0, 0, 0, 0, 0, 0, 0, 0, 0, 0, 0, 0, 0, 0, 0, 0, 0, 0, 0, 50, 50, 50, 50, 50, 50, 50, 50, 50, 50, 50, 50, 50, 50, 50, 50, 50, 50, 50, 50, 50, 50, 50, 50, 64, 64, 64, 64, 64, 64, 64, 64, 64, 64, 64, 64, 64, 64, 64, 64, 64, 64, 64, 64, 64, 64, 64, 64, 64, 64, 64, 64, 64, 64, 64, 64, 64, 64, 64, 100, 100, 100, 100, 100, 100, 100, 100, 100, 100, 100, 100, 100, 100, 100, 100, 100, 100, 100, 100, 100, 114, 114, 114, 114, 114, 114, 114, 114, 114, 114, 114, 114, 114, 114, 114, 114, 114, 114, 114, 114, 114, 114, 114, 114, 114, 114, 114, 114, 114, 114, 114, 114, 114, 114, 114, 114, 114, 114, 114, 114, 114, 114, 114, 146, 146, 146, 146, 146, 146, 146, 146, 146, 146, 146, 146], [0, 0, 0, 0, 0, 0, 0, 0, 0, 0, 0, 0, 0, 0, 0, 0, 0, 0, 0, 0, 0, 0, 0, 0, 0, 0, 0, 0, 0, 0, 0, 0, 0, 0, 0, 0, 0, 0, 0, 0, 0, 0, 0, 0, 0, 0, 0, 0, 0, 0, 0, 0, 0, 0, 0, 0, 50, 50, 50, 50, 50, 50, 50, 50, 50, 50, 50, 50, 50, 50, 50, 50, 50, 50, 50, 50, 50, 50, 50, 50, 64, 64, 64, 64, 64, 64, 64, 64, 64, 64, 64, 64, 64, 64, 64, 64, 64, 64, 64, 64, 64, 64, 64, 64, 64, 64, 64, 64, 64, 64, 64, 64, 64, 64, 64, 100, 100, 100, 100, 100, 100, 100, 100, 100, 100, 100, 100, 100, 100, 100, 100, 100, 100, 100, 100, 100, 114, 114, 114, 114, 114, 114, 114, 114, 114, 114, 114, 114, 114, 114, 114, 114, 114, 114, 114, 114, 114, 114, 114, 114, 114, 114, 114, 114, 114, 114, 114, 114, 114, 114, 114, 114, 114, 114, 114, 114, 114, 114, 114, 146, 146, 146, 146, 146, 146, 146, 146, 146, 146, 146, 150], [0, 0, 0, 0, 0, 0, 0, 0, 0, 0, 0, 0, 0, 0, 0, 0, 0, 5, 5, 5, 5, 5, 5, 5, 5, 5, 5, 5, 5, 5, 5, 5, 5, 5, 5, 5, 5, 5, 5, 5, 5, 5, 5, 5, 5, 5, 5, 5, 5, 5, 5, 5, 5, 5, 5, 5, 50, 50, 50, 50, 50, 50, 50, 50, 50, 50, 50, 50, 50, 50, 50, 50, 50, 55, 55, 55, 55, 55, 55, 55, 64, 64, 64, 64, 64, 64, 64, 64, 64, 64, 64, 64, 64, 64, 64, 64, 64, 69, 69, 69, 69, 69, 69, 69, 69, 69, 69, 69, 69, 69, 69, 69, 69, 69, 69, 100, 100, 100, 100, 100, 100, 100, 100, 100, 100, 100, 100, 100, 100, 100, 100, 100, 105, 105, 105, 105, 114, 114, 114, 114, 114, 114, 114, 114, 114, 114, 114, 114, 114, 114, 114, 114, 114, 119, 119, 119, 119, 119, 119, 119, 119, 119, 119, 119, 119, 119, 119, 119, 119, 119, 119, 119, 119, 119, 119, 119, 119, 119, 119, 146, 146, 146, 146, 146, 146, 146, 146, 146, 146, 146, 150]]\n",
            "p04\n",
            "[[0, 0, 0, 0, 0, 0, 0, 0, 0, 0, 0, 0, 0, 0, 0, 0, 0, 0, 0, 0, 0, 0, 0, 0, 0, 0, 0, 0, 0, 0, 0, 0, 0, 0, 0, 0, 0, 0, 0, 0, 0, 0, 0, 0, 0, 0, 0, 0, 0, 0, 0], [0, 0, 0, 0, 0, 0, 0, 0, 0, 0, 0, 0, 0, 0, 0, 0, 0, 0, 0, 0, 0, 0, 0, 0, 0, 0, 0, 0, 0, 0, 0, 70, 70, 70, 70, 70, 70, 70, 70, 70, 70, 70, 70, 70, 70, 70, 70, 70, 70, 70, 70], [0, 0, 0, 0, 0, 0, 0, 0, 0, 0, 20, 20, 20, 20, 20, 20, 20, 20, 20, 20, 20, 20, 20, 20, 20, 20, 20, 20, 20, 20, 20, 70, 70, 70, 70, 70, 70, 70, 70, 70, 70, 90, 90, 90, 90, 90, 90, 90, 90, 90, 90], [0, 0, 0, 0, 0, 0, 0, 0, 0, 0, 20, 20, 20, 20, 20, 20, 20, 20, 20, 20, 39, 39, 39, 39, 39, 39, 39, 39, 39, 39, 59, 70, 70, 70, 70, 70, 70, 70, 70, 70, 70, 90, 90, 90, 90, 90, 90, 90, 90, 90, 90], [0, 0, 0, 0, 0, 0, 0, 0, 0, 0, 20, 20, 20, 20, 20, 20, 20, 20, 20, 37, 39, 39, 39, 39, 39, 39, 39, 39, 39, 57, 59, 70, 70, 70, 70, 70, 70, 70, 70, 76, 76, 90, 90, 90, 90, 90, 90, 90, 90, 96, 107], [0, 0, 0, 0, 7, 7, 7, 7, 7, 7, 20, 20, 20, 20, 27, 27, 27, 27, 27, 37, 39, 39, 39, 44, 46, 46, 46, 46, 46, 57, 59, 70, 70, 70, 70, 77, 77, 77, 77, 77, 77, 90, 90, 90, 90, 97, 97, 97, 97, 97, 107], [0, 0, 0, 5, 7, 7, 7, 12, 12, 12, 20, 20, 20, 25, 27, 27, 27, 32, 32, 37, 39, 39, 42, 44, 46, 46, 49, 51, 51, 57, 59, 70, 70, 70, 75, 77, 77, 77, 82, 82, 82, 90, 90, 90, 95, 97, 97, 97, 102, 102, 107], [0, 0, 0, 5, 7, 7, 10, 12, 12, 15, 20, 20, 20, 25, 27, 27, 30, 32, 32, 37, 39, 39, 42, 44, 46, 47, 49, 51, 52, 57, 59, 70, 70, 70, 75, 77, 77, 80, 82, 82, 85, 90, 90, 90, 95, 97, 97, 100, 102, 102, 107]]\n",
            "p05\n",
            "[[0, 0, 0, 0, 0, 0, 0, 0, 0, 0, 0, 0, 0, 0, 0, 0, 0, 0, 0, 0, 0, 0, 0, 0, 0, 0, 0, 0, 0, 0, 0, 0, 0, 0, 0, 0, 0, 0, 0, 0, 0, 0, 0, 0, 0, 0, 0, 0, 0, 0, 0, 0, 0, 0, 0, 0, 0, 0, 0, 0, 0, 0, 0, 0, 0, 0, 0, 0, 0, 0, 0, 0, 0, 0, 0, 0, 0, 0, 0, 0, 0, 0, 0, 0, 0, 0, 0, 0, 0, 0, 0, 0, 0, 0, 0, 0, 0, 0, 0, 0, 0, 0, 0, 0, 0], [0, 0, 0, 0, 0, 0, 0, 0, 0, 0, 0, 0, 0, 0, 0, 0, 0, 0, 0, 0, 0, 0, 0, 0, 0, 350, 350, 350, 350, 350, 350, 350, 350, 350, 350, 350, 350, 350, 350, 350, 350, 350, 350, 350, 350, 350, 350, 350, 350, 350, 350, 350, 350, 350, 350, 350, 350, 350, 350, 350, 350, 350, 350, 350, 350, 350, 350, 350, 350, 350, 350, 350, 350, 350, 350, 350, 350, 350, 350, 350, 350, 350, 350, 350, 350, 350, 350, 350, 350, 350, 350, 350, 350, 350, 350, 350, 350, 350, 350, 350, 350, 350, 350, 350, 350], [0, 0, 0, 0, 0, 0, 0, 0, 0, 0, 0, 0, 0, 0, 0, 0, 0, 0, 0, 0, 0, 0, 0, 0, 0, 350, 350, 350, 350, 350, 350, 350, 350, 350, 350, 400, 400, 400, 400, 400, 400, 400, 400, 400, 400, 400, 400, 400, 400, 400, 400, 400, 400, 400, 400, 400, 400, 400, 400, 400, 750, 750, 750, 750, 750, 750, 750, 750, 750, 750, 750, 750, 750, 750, 750, 750, 750, 750, 750, 750, 750, 750, 750, 750, 750, 750, 750, 750, 750, 750, 750, 750, 750, 750, 750, 750, 750, 750, 750, 750, 750, 750, 750, 750, 750], [0, 0, 0, 0, 0, 0, 0, 0, 0, 0, 0, 0, 0, 0, 0, 0, 0, 0, 0, 0, 0, 0, 0, 0, 0, 350, 350, 350, 350, 350, 350, 350, 350, 350, 350, 400, 400, 400, 400, 400, 400, 400, 400, 400, 400, 450, 450, 450, 450, 450, 450, 450, 450, 450, 450, 450, 450, 450, 450, 450, 750, 750, 750, 750, 750, 750, 750, 750, 750, 750, 800, 800, 800, 800, 800, 800, 800, 800, 800, 800, 850, 850, 850, 850, 850, 850, 850, 850, 850, 850, 850, 850, 850, 850, 850, 850, 850, 850, 850, 850, 850, 850, 850, 850, 850], [0, 0, 0, 0, 0, 20, 20, 20, 20, 20, 20, 20, 20, 20, 20, 20, 20, 20, 20, 20, 20, 20, 20, 20, 20, 350, 350, 350, 350, 350, 370, 370, 370, 370, 370, 400, 400, 400, 400, 400, 420, 420, 420, 420, 420, 450, 450, 450, 450, 450, 470, 470, 470, 470, 470, 470, 470, 470, 470, 470, 750, 750, 750, 750, 750, 770, 770, 770, 770, 770, 800, 800, 800, 800, 800, 820, 820, 820, 820, 820, 850, 850, 850, 850, 850, 870, 870, 870, 870, 870, 870, 870, 870, 870, 870, 870, 870, 870, 870, 870, 870, 870, 870, 870, 870], [0, 0, 0, 0, 0, 20, 20, 20, 20, 20, 20, 20, 20, 20, 20, 20, 20, 20, 20, 20, 20, 20, 20, 20, 20, 350, 350, 350, 350, 350, 370, 370, 370, 370, 370, 400, 400, 400, 400, 400, 420, 420, 420, 420, 420, 450, 450, 450, 450, 450, 470, 470, 470, 470, 470, 470, 470, 470, 470, 470, 750, 750, 750, 750, 750, 770, 770, 770, 770, 770, 800, 800, 800, 800, 800, 820, 820, 820, 820, 820, 850, 850, 850, 850, 850, 870, 870, 870, 870, 870, 870, 870, 870, 870, 870, 870, 870, 870, 870, 870, 890, 890, 890, 890, 890], [0, 0, 0, 8, 8, 20, 20, 20, 28, 28, 28, 28, 28, 28, 28, 28, 28, 28, 28, 28, 28, 28, 28, 28, 28, 350, 350, 350, 358, 358, 370, 370, 370, 378, 378, 400, 400, 400, 408, 408, 420, 420, 420, 428, 428, 450, 450, 450, 458, 458, 470, 470, 470, 478, 478, 478, 478, 478, 478, 478, 750, 750, 750, 758, 758, 770, 770, 770, 778, 778, 800, 800, 800, 808, 808, 820, 820, 820, 828, 828, 850, 850, 850, 858, 858, 870, 870, 870, 878, 878, 878, 878, 878, 878, 878, 878, 878, 878, 878, 878, 890, 890, 890, 898, 898], [0, 0, 5, 8, 8, 20, 20, 25, 28, 28, 33, 33, 33, 33, 33, 33, 33, 33, 33, 33, 33, 33, 33, 33, 33, 350, 350, 355, 358, 358, 370, 370, 375, 378, 378, 400, 400, 405, 408, 408, 420, 420, 425, 428, 428, 450, 450, 455, 458, 458, 470, 470, 475, 478, 478, 483, 483, 483, 483, 483, 750, 750, 755, 758, 758, 770, 770, 775, 778, 778, 800, 800, 805, 808, 808, 820, 820, 825, 828, 828, 850, 850, 855, 858, 858, 870, 870, 875, 878, 878, 883, 883, 883, 883, 883, 883, 883, 883, 883, 883, 890, 890, 895, 898, 898], [0, 0, 5, 8, 10, 20, 20, 25, 28, 30, 33, 33, 38, 38, 38, 38, 38, 38, 38, 38, 38, 38, 38, 38, 38, 350, 350, 355, 358, 360, 370, 370, 375, 378, 380, 400, 400, 405, 408, 410, 420, 420, 425, 428, 430, 450, 450, 455, 458, 460, 470, 470, 475, 478, 480, 483, 483, 488, 488, 488, 750, 750, 755, 758, 760, 770, 770, 775, 778, 780, 800, 800, 805, 808, 810, 820, 820, 825, 828, 830, 850, 850, 855, 858, 860, 870, 870, 875, 878, 880, 883, 883, 888, 888, 888, 888, 888, 888, 888, 888, 890, 890, 895, 898, 900]]\n",
            "p06\n",
            "[[0, 0, 0, 0, 0, 0, 0, 0, 0, 0, 0, 0, 0, 0, 0, 0, 0, 0, 0, 0, 0, 0, 0, 0, 0, 0, 0, 0, 0, 0, 0, 0, 0, 0, 0, 0, 0, 0, 0, 0, 0, 0, 0, 0, 0, 0, 0, 0, 0, 0, 0, 0, 0, 0, 0, 0, 0, 0, 0, 0, 0, 0, 0, 0, 0, 0, 0, 0, 0, 0, 0, 0, 0, 0, 0, 0, 0, 0, 0, 0, 0, 0, 0, 0, 0, 0, 0, 0, 0, 0, 0, 0, 0, 0, 0, 0, 0, 0, 0, 0, 0, 0, 0, 0, 0, 0, 0, 0, 0, 0, 0, 0, 0, 0, 0, 0, 0, 0, 0, 0, 0, 0, 0, 0, 0, 0, 0, 0, 0, 0, 0, 0, 0, 0, 0, 0, 0, 0, 0, 0, 0, 0, 0, 0, 0, 0, 0, 0, 0, 0, 0, 0, 0, 0, 0, 0, 0, 0, 0, 0, 0, 0, 0, 0, 0, 0, 0, 0, 0, 0, 0], [0, 0, 0, 0, 0, 0, 0, 0, 0, 0, 0, 0, 0, 0, 0, 0, 0, 0, 0, 0, 0, 0, 0, 0, 0, 0, 0, 0, 0, 0, 0, 0, 0, 0, 0, 0, 0, 0, 0, 0, 0, 442, 442, 442, 442, 442, 442, 442, 442, 442, 442, 442, 442, 442, 442, 442, 442, 442, 442, 442, 442, 442, 442, 442, 442, 442, 442, 442, 442, 442, 442, 442, 442, 442, 442, 442, 442, 442, 442, 442, 442, 442, 442, 442, 442, 442, 442, 442, 442, 442, 442, 442, 442, 442, 442, 442, 442, 442, 442, 442, 442, 442, 442, 442, 442, 442, 442, 442, 442, 442, 442, 442, 442, 442, 442, 442, 442, 442, 442, 442, 442, 442, 442, 442, 442, 442, 442, 442, 442, 442, 442, 442, 442, 442, 442, 442, 442, 442, 442, 442, 442, 442, 442, 442, 442, 442, 442, 442, 442, 442, 442, 442, 442, 442, 442, 442, 442, 442, 442, 442, 442, 442, 442, 442, 442, 442, 442, 442, 442, 442, 442], [0, 0, 0, 0, 0, 0, 0, 0, 0, 0, 0, 0, 0, 0, 0, 0, 0, 0, 0, 0, 0, 0, 0, 0, 0, 0, 0, 0, 0, 0, 0, 0, 0, 0, 0, 0, 0, 0, 0, 0, 0, 442, 442, 442, 442, 442, 442, 442, 442, 442, 525, 525, 525, 525, 525, 525, 525, 525, 525, 525, 525, 525, 525, 525, 525, 525, 525, 525, 525, 525, 525, 525, 525, 525, 525, 525, 525, 525, 525, 525, 525, 525, 525, 525, 525, 525, 525, 525, 525, 525, 525, 967, 967, 967, 967, 967, 967, 967, 967, 967, 967, 967, 967, 967, 967, 967, 967, 967, 967, 967, 967, 967, 967, 967, 967, 967, 967, 967, 967, 967, 967, 967, 967, 967, 967, 967, 967, 967, 967, 967, 967, 967, 967, 967, 967, 967, 967, 967, 967, 967, 967, 967, 967, 967, 967, 967, 967, 967, 967, 967, 967, 967, 967, 967, 967, 967, 967, 967, 967, 967, 967, 967, 967, 967, 967, 967, 967, 967, 967, 967, 967], [0, 0, 0, 0, 0, 0, 0, 0, 0, 0, 0, 0, 0, 0, 0, 0, 0, 0, 0, 0, 0, 0, 0, 0, 0, 0, 0, 0, 0, 0, 0, 0, 0, 0, 0, 0, 0, 0, 0, 0, 0, 442, 442, 442, 442, 442, 442, 442, 442, 511, 525, 525, 525, 525, 525, 525, 525, 525, 525, 525, 525, 525, 525, 525, 525, 525, 525, 525, 525, 525, 525, 525, 525, 525, 525, 525, 525, 525, 525, 525, 525, 525, 525, 525, 525, 525, 525, 525, 525, 525, 953, 967, 967, 967, 967, 967, 967, 967, 967, 1036, 1036, 1036, 1036, 1036, 1036, 1036, 1036, 1036, 1036, 1036, 1036, 1036, 1036, 1036, 1036, 1036, 1036, 1036, 1036, 1036, 1036, 1036, 1036, 1036, 1036, 1036, 1036, 1036, 1036, 1036, 1036, 1036, 1036, 1036, 1036, 1036, 1036, 1036, 1036, 1036, 1478, 1478, 1478, 1478, 1478, 1478, 1478, 1478, 1478, 1478, 1478, 1478, 1478, 1478, 1478, 1478, 1478, 1478, 1478, 1478, 1478, 1478, 1478, 1478, 1478, 1478, 1478, 1478, 1478, 1478, 1478], [0, 0, 0, 0, 0, 0, 0, 0, 0, 0, 0, 0, 0, 0, 0, 0, 0, 0, 0, 0, 0, 0, 0, 0, 0, 0, 0, 0, 0, 0, 0, 0, 0, 0, 0, 0, 0, 0, 0, 0, 0, 442, 442, 442, 442, 442, 442, 442, 442, 511, 525, 525, 525, 525, 525, 525, 525, 525, 525, 593, 593, 593, 593, 593, 593, 593, 593, 593, 593, 593, 593, 593, 593, 593, 593, 593, 593, 593, 593, 593, 593, 593, 593, 593, 593, 593, 593, 593, 593, 593, 953, 967, 967, 967, 967, 967, 967, 967, 967, 1036, 1036, 1036, 1036, 1036, 1036, 1036, 1036, 1036, 1104, 1118, 1118, 1118, 1118, 1118, 1118, 1118, 1118, 1118, 1118, 1118, 1118, 1118, 1118, 1118, 1118, 1118, 1118, 1118, 1118, 1118, 1118, 1118, 1118, 1118, 1118, 1118, 1118, 1118, 1118, 1118, 1478, 1478, 1478, 1478, 1478, 1478, 1478, 1478, 1478, 1546, 1560, 1560, 1560, 1560, 1560, 1560, 1560, 1560, 1629, 1629, 1629, 1629, 1629, 1629, 1629, 1629, 1629, 1629, 1629, 1629, 1629], [0, 0, 0, 0, 0, 0, 0, 0, 0, 0, 0, 0, 0, 0, 0, 0, 0, 0, 0, 0, 0, 0, 0, 0, 0, 0, 0, 0, 0, 0, 0, 0, 0, 0, 0, 0, 0, 0, 0, 0, 0, 442, 442, 442, 442, 442, 442, 442, 442, 511, 525, 525, 525, 525, 525, 546, 546, 546, 546, 593, 593, 593, 593, 593, 593, 593, 593, 593, 593, 593, 593, 593, 593, 593, 593, 593, 593, 593, 593, 593, 593, 593, 593, 593, 593, 593, 593, 593, 593, 593, 953, 967, 967, 967, 967, 967, 988, 988, 988, 1036, 1036, 1036, 1036, 1036, 1057, 1071, 1071, 1071, 1104, 1118, 1118, 1118, 1118, 1118, 1139, 1139, 1139, 1139, 1139, 1139, 1139, 1139, 1139, 1139, 1139, 1139, 1139, 1139, 1139, 1139, 1139, 1139, 1139, 1139, 1139, 1139, 1139, 1139, 1139, 1139, 1478, 1478, 1478, 1478, 1478, 1499, 1513, 1513, 1513, 1546, 1560, 1560, 1560, 1560, 1582, 1582, 1582, 1582, 1629, 1629, 1629, 1629, 1629, 1650, 1664, 1664, 1664, 1664, 1664, 1664, 1664], [0, 0, 0, 0, 0, 0, 0, 0, 0, 0, 0, 0, 0, 0, 0, 0, 0, 0, 0, 0, 0, 0, 0, 0, 0, 0, 0, 0, 0, 0, 0, 0, 0, 0, 0, 0, 0, 0, 0, 0, 0, 442, 442, 442, 442, 442, 442, 442, 442, 511, 525, 525, 525, 525, 525, 546, 546, 564, 564, 593, 593, 593, 593, 593, 593, 593, 593, 593, 593, 593, 593, 593, 593, 593, 593, 593, 593, 593, 593, 593, 593, 593, 593, 593, 593, 593, 593, 593, 593, 593, 953, 967, 967, 967, 967, 967, 988, 988, 1006, 1036, 1036, 1036, 1036, 1036, 1057, 1071, 1075, 1089, 1104, 1118, 1118, 1118, 1118, 1118, 1139, 1139, 1157, 1157, 1157, 1157, 1157, 1157, 1157, 1157, 1157, 1157, 1157, 1157, 1157, 1157, 1157, 1157, 1157, 1157, 1157, 1157, 1157, 1157, 1157, 1157, 1478, 1478, 1478, 1478, 1478, 1499, 1513, 1517, 1531, 1546, 1560, 1560, 1560, 1560, 1582, 1582, 1600, 1600, 1629, 1629, 1629, 1629, 1635, 1650, 1664, 1668, 1682, 1682, 1682, 1682, 1682], [0, 0, 0, 0, 0, 0, 0, 0, 0, 0, 0, 0, 0, 0, 0, 0, 0, 0, 0, 0, 0, 0, 0, 0, 0, 0, 0, 0, 0, 0, 0, 0, 0, 0, 0, 0, 0, 0, 0, 0, 0, 442, 442, 442, 442, 442, 442, 442, 442, 511, 525, 525, 525, 525, 525, 546, 546, 564, 564, 593, 617, 617, 617, 617, 617, 617, 617, 617, 617, 617, 617, 617, 617, 617, 617, 617, 617, 617, 617, 617, 617, 617, 617, 617, 617, 617, 617, 617, 617, 617, 953, 967, 967, 967, 967, 967, 988, 988, 1006, 1036, 1036, 1059, 1059, 1059, 1059, 1071, 1075, 1089, 1104, 1128, 1142, 1142, 1142, 1142, 1142, 1163, 1163, 1181, 1181, 1210, 1210, 1210, 1210, 1210, 1210, 1210, 1210, 1210, 1210, 1210, 1210, 1210, 1210, 1210, 1210, 1210, 1210, 1210, 1210, 1210, 1478, 1478, 1478, 1478, 1478, 1499, 1513, 1517, 1531, 1546, 1570, 1584, 1584, 1584, 1584, 1584, 1605, 1605, 1629, 1653, 1653, 1653, 1653, 1653, 1674, 1688, 1692, 1706, 1721, 1735, 1735]]\n",
            "p07\n",
            "[[0, 0, 0, 0, 0, 0, 0, 0, 0, 0, 0, 0, 0, 0, 0, 0, 0, 0, 0, 0, 0, 0, 0, 0, 0, 0, 0, 0, 0, 0, 0, 0, 0, 0, 0, 0, 0, 0, 0, 0, 0, 0, 0, 0, 0, 0, 0, 0, 0, 0, 0, 0, 0, 0, 0, 0, 0, 0, 0, 0, 0, 0, 0, 0, 0, 0, 0, 0, 0, 0, 0, 0, 0, 0, 0, 0, 0, 0, 0, 0, 0, 0, 0, 0, 0, 0, 0, 0, 0, 0, 0, 0, 0, 0, 0, 0, 0, 0, 0, 0, 0, 0, 0, 0, 0, 0, 0, 0, 0, 0, 0, 0, 0, 0, 0, 0, 0, 0, 0, 0, 0, 0, 0, 0, 0, 0, 0, 0, 0, 0, 0, 0, 0, 0, 0, 0, 0, 0, 0, 0, 0, 0, 0, 0, 0, 0, 0, 0, 0, 0, 0, 0, 0, 0, 0, 0, 0, 0, 0, 0, 0, 0, 0, 0, 0, 0, 0, 0, 0, 0, 0, 0, 0, 0, 0, 0, 0, 0, 0, 0, 0, 0, 0, 0, 0, 0, 0, 0, 0, 0, 0, 0, 0, 0, 0, 0, 0, 0, 0, 0, 0, 0, 0, 0, 0, 0, 0, 0, 0, 0, 0, 0, 0, 0, 0, 0, 0, 0, 0, 0, 0, 0, 0, 0, 0, 0, 0, 0, 0, 0, 0, 0, 0, 0, 0, 0, 0, 0, 0, 0, 0, 0, 0, 0, 0, 0, 0, 0, 0, 0, 0, 0, 0, 0, 0, 0, 0, 0, 0, 0, 0, 0, 0, 0, 0, 0, 0, 0, 0, 0, 0, 0, 0, 0, 0, 0, 0, 0, 0, 0, 0, 0, 0, 0, 0, 0, 0, 0, 0, 0, 0, 0, 0, 0, 0, 0, 0, 0, 0, 0, 0, 0, 0, 0, 0, 0, 0, 0, 0, 0, 0, 0, 0, 0, 0, 0, 0, 0, 0, 0, 0, 0, 0, 0, 0, 0, 0, 0, 0, 0, 0, 0, 0, 0, 0, 0, 0, 0, 0, 0, 0, 0, 0, 0, 0, 0, 0, 0, 0, 0, 0, 0, 0, 0, 0, 0, 0, 0, 0, 0, 0, 0, 0, 0, 0, 0, 0, 0, 0, 0, 0, 0, 0, 0, 0, 0, 0, 0, 0, 0, 0, 0, 0, 0, 0, 0, 0, 0, 0, 0, 0, 0, 0, 0, 0, 0, 0, 0, 0, 0, 0, 0, 0, 0, 0, 0, 0, 0, 0, 0, 0, 0, 0, 0, 0, 0, 0, 0, 0, 0, 0, 0, 0, 0, 0, 0, 0, 0, 0, 0, 0, 0, 0, 0, 0, 0, 0, 0, 0, 0, 0, 0, 0, 0, 0, 0, 0, 0, 0, 0, 0, 0, 0, 0, 0, 0, 0, 0, 0, 0, 0, 0, 0, 0, 0, 0, 0, 0, 0, 0, 0, 0, 0, 0, 0, 0, 0, 0, 0, 0, 0, 0, 0, 0, 0, 0, 0, 0, 0, 0, 0, 0, 0, 0, 0, 0, 0, 0, 0, 0, 0, 0, 0, 0, 0, 0, 0, 0, 0, 0, 0, 0, 0, 0, 0, 0, 0, 0, 0, 0, 0, 0, 0, 0, 0, 0, 0, 0, 0, 0, 0, 0, 0, 0, 0, 0, 0, 0, 0, 0, 0, 0, 0, 0, 0, 0, 0, 0, 0, 0, 0, 0, 0, 0, 0, 0, 0, 0, 0, 0, 0, 0, 0, 0, 0, 0, 0, 0, 0, 0, 0, 0, 0, 0, 0, 0, 0, 0, 0, 0, 0, 0, 0, 0, 0, 0, 0, 0, 0, 0, 0, 0, 0, 0, 0, 0, 0, 0, 0, 0, 0, 0, 0, 0, 0, 0, 0, 0, 0, 0, 0, 0, 0, 0, 0, 0, 0, 0, 0, 0, 0, 0, 0, 0, 0, 0, 0, 0, 0, 0, 0, 0, 0, 0, 0, 0, 0, 0, 0, 0, 0, 0, 0, 0, 0, 0, 0, 0, 0, 0, 0, 0, 0, 0, 0, 0, 0, 0, 0, 0, 0, 0, 0, 0, 0, 0, 0, 0, 0, 0, 0, 0, 0, 0, 0, 0, 0, 0, 0, 0, 0, 0, 0, 0, 0, 0, 0, 0, 0, 0, 0, 0, 0, 0, 0, 0, 0, 0, 0, 0, 0, 0, 0, 0, 0, 0, 0, 0, 0, 0, 0, 0, 0, 0, 0, 0, 0, 0, 0, 0, 0, 0, 0, 0, 0, 0, 0, 0, 0, 0, 0, 0, 0, 0, 0, 0, 0, 0, 0, 0, 0, 0, 0, 0, 0, 0, 0, 0, 0, 0, 0], [0, 0, 0, 0, 0, 0, 0, 0, 0, 0, 0, 0, 0, 0, 0, 0, 0, 0, 0, 0, 0, 0, 0, 0, 0, 0, 0, 0, 0, 0, 0, 0, 0, 0, 0, 0, 0, 0, 0, 0, 0, 0, 0, 0, 0, 0, 0, 0, 0, 0, 0, 0, 0, 0, 0, 0, 0, 0, 0, 0, 0, 0, 0, 0, 0, 0, 0, 0, 0, 0, 135, 135, 135, 135, 135, 135, 135, 135, 135, 135, 135, 135, 135, 135, 135, 135, 135, 135, 135, 135, 135, 135, 135, 135, 135, 135, 135, 135, 135, 135, 135, 135, 135, 135, 135, 135, 135, 135, 135, 135, 135, 135, 135, 135, 135, 135, 135, 135, 135, 135, 135, 135, 135, 135, 135, 135, 135, 135, 135, 135, 135, 135, 135, 135, 135, 135, 135, 135, 135, 135, 135, 135, 135, 135, 135, 135, 135, 135, 135, 135, 135, 135, 135, 135, 135, 135, 135, 135, 135, 135, 135, 135, 135, 135, 135, 135, 135, 135, 135, 135, 135, 135, 135, 135, 135, 135, 135, 135, 135, 135, 135, 135, 135, 135, 135, 135, 135, 135, 135, 135, 135, 135, 135, 135, 135, 135, 135, 135, 135, 135, 135, 135, 135, 135, 135, 135, 135, 135, 135, 135, 135, 135, 135, 135, 135, 135, 135, 135, 135, 135, 135, 135, 135, 135, 135, 135, 135, 135, 135, 135, 135, 135, 135, 135, 135, 135, 135, 135, 135, 135, 135, 135, 135, 135, 135, 135, 135, 135, 135, 135, 135, 135, 135, 135, 135, 135, 135, 135, 135, 135, 135, 135, 135, 135, 135, 135, 135, 135, 135, 135, 135, 135, 135, 135, 135, 135, 135, 135, 135, 135, 135, 135, 135, 135, 135, 135, 135, 135, 135, 135, 135, 135, 135, 135, 135, 135, 135, 135, 135, 135, 135, 135, 135, 135, 135, 135, 135, 135, 135, 135, 135, 135, 135, 135, 135, 135, 135, 135, 135, 135, 135, 135, 135, 135, 135, 135, 135, 135, 135, 135, 135, 135, 135, 135, 135, 135, 135, 135, 135, 135, 135, 135, 135, 135, 135, 135, 135, 135, 135, 135, 135, 135, 135, 135, 135, 135, 135, 135, 135, 135, 135, 135, 135, 135, 135, 135, 135, 135, 135, 135, 135, 135, 135, 135, 135, 135, 135, 135, 135, 135, 135, 135, 135, 135, 135, 135, 135, 135, 135, 135, 135, 135, 135, 135, 135, 135, 135, 135, 135, 135, 135, 135, 135, 135, 135, 135, 135, 135, 135, 135, 135, 135, 135, 135, 135, 135, 135, 135, 135, 135, 135, 135, 135, 135, 135, 135, 135, 135, 135, 135, 135, 135, 135, 135, 135, 135, 135, 135, 135, 135, 135, 135, 135, 135, 135, 135, 135, 135, 135, 135, 135, 135, 135, 135, 135, 135, 135, 135, 135, 135, 135, 135, 135, 135, 135, 135, 135, 135, 135, 135, 135, 135, 135, 135, 135, 135, 135, 135, 135, 135, 135, 135, 135, 135, 135, 135, 135, 135, 135, 135, 135, 135, 135, 135, 135, 135, 135, 135, 135, 135, 135, 135, 135, 135, 135, 135, 135, 135, 135, 135, 135, 135, 135, 135, 135, 135, 135, 135, 135, 135, 135, 135, 135, 135, 135, 135, 135, 135, 135, 135, 135, 135, 135, 135, 135, 135, 135, 135, 135, 135, 135, 135, 135, 135, 135, 135, 135, 135, 135, 135, 135, 135, 135, 135, 135, 135, 135, 135, 135, 135, 135, 135, 135, 135, 135, 135, 135, 135, 135, 135, 135, 135, 135, 135, 135, 135, 135, 135, 135, 135, 135, 135, 135, 135, 135, 135, 135, 135, 135, 135, 135, 135, 135, 135, 135, 135, 135, 135, 135, 135, 135, 135, 135, 135, 135, 135, 135, 135, 135, 135, 135, 135, 135, 135, 135, 135, 135, 135, 135, 135, 135, 135, 135, 135, 135, 135, 135, 135, 135, 135, 135, 135, 135, 135, 135, 135, 135, 135, 135, 135, 135, 135, 135, 135, 135, 135, 135, 135, 135, 135, 135, 135, 135, 135, 135, 135, 135, 135, 135, 135, 135, 135, 135, 135, 135, 135, 135, 135, 135, 135, 135, 135, 135, 135, 135, 135, 135, 135, 135, 135, 135, 135, 135, 135, 135, 135, 135, 135, 135, 135, 135, 135, 135, 135, 135, 135, 135, 135, 135, 135, 135, 135, 135, 135, 135, 135, 135, 135, 135, 135, 135, 135, 135, 135, 135, 135, 135, 135, 135, 135, 135, 135, 135, 135, 135, 135, 135, 135, 135, 135, 135, 135, 135, 135, 135, 135, 135, 135, 135, 135, 135, 135, 135, 135, 135, 135, 135, 135, 135, 135, 135], [0, 0, 0, 0, 0, 0, 0, 0, 0, 0, 0, 0, 0, 0, 0, 0, 0, 0, 0, 0, 0, 0, 0, 0, 0, 0, 0, 0, 0, 0, 0, 0, 0, 0, 0, 0, 0, 0, 0, 0, 0, 0, 0, 0, 0, 0, 0, 0, 0, 0, 0, 0, 0, 0, 0, 0, 0, 0, 0, 0, 0, 0, 0, 0, 0, 0, 0, 0, 0, 0, 135, 135, 135, 139, 139, 139, 139, 139, 139, 139, 139, 139, 139, 139, 139, 139, 139, 139, 139, 139, 139, 139, 139, 139, 139, 139, 139, 139, 139, 139, 139, 139, 139, 139, 139, 139, 139, 139, 139, 139, 139, 139, 139, 139, 139, 139, 139, 139, 139, 139, 139, 139, 139, 139, 139, 139, 139, 139, 139, 139, 139, 139, 139, 139, 139, 139, 139, 139, 139, 139, 139, 139, 139, 274, 274, 274, 274, 274, 274, 274, 274, 274, 274, 274, 274, 274, 274, 274, 274, 274, 274, 274, 274, 274, 274, 274, 274, 274, 274, 274, 274, 274, 274, 274, 274, 274, 274, 274, 274, 274, 274, 274, 274, 274, 274, 274, 274, 274, 274, 274, 274, 274, 274, 274, 274, 274, 274, 274, 274, 274, 274, 274, 274, 274, 274, 274, 274, 274, 274, 274, 274, 274, 274, 274, 274, 274, 274, 274, 274, 274, 274, 274, 274, 274, 274, 274, 274, 274, 274, 274, 274, 274, 274, 274, 274, 274, 274, 274, 274, 274, 274, 274, 274, 274, 274, 274, 274, 274, 274, 274, 274, 274, 274, 274, 274, 274, 274, 274, 274, 274, 274, 274, 274, 274, 274, 274, 274, 274, 274, 274, 274, 274, 274, 274, 274, 274, 274, 274, 274, 274, 274, 274, 274, 274, 274, 274, 274, 274, 274, 274, 274, 274, 274, 274, 274, 274, 274, 274, 274, 274, 274, 274, 274, 274, 274, 274, 274, 274, 274, 274, 274, 274, 274, 274, 274, 274, 274, 274, 274, 274, 274, 274, 274, 274, 274, 274, 274, 274, 274, 274, 274, 274, 274, 274, 274, 274, 274, 274, 274, 274, 274, 274, 274, 274, 274, 274, 274, 274, 274, 274, 274, 274, 274, 274, 274, 274, 274, 274, 274, 274, 274, 274, 274, 274, 274, 274, 274, 274, 274, 274, 274, 274, 274, 274, 274, 274, 274, 274, 274, 274, 274, 274, 274, 274, 274, 274, 274, 274, 274, 274, 274, 274, 274, 274, 274, 274, 274, 274, 274, 274, 274, 274, 274, 274, 274, 274, 274, 274, 274, 274, 274, 274, 274, 274, 274, 274, 274, 274, 274, 274, 274, 274, 274, 274, 274, 274, 274, 274, 274, 274, 274, 274, 274, 274, 274, 274, 274, 274, 274, 274, 274, 274, 274, 274, 274, 274, 274, 274, 274, 274, 274, 274, 274, 274, 274, 274, 274, 274, 274, 274, 274, 274, 274, 274, 274, 274, 274, 274, 274, 274, 274, 274, 274, 274, 274, 274, 274, 274, 274, 274, 274, 274, 274, 274, 274, 274, 274, 274, 274, 274, 274, 274, 274, 274, 274, 274, 274, 274, 274, 274, 274, 274, 274, 274, 274, 274, 274, 274, 274, 274, 274, 274, 274, 274, 274, 274, 274, 274, 274, 274, 274, 274, 274, 274, 274, 274, 274, 274, 274, 274, 274, 274, 274, 274, 274, 274, 274, 274, 274, 274, 274, 274, 274, 274, 274, 274, 274, 274, 274, 274, 274, 274, 274, 274, 274, 274, 274, 274, 274, 274, 274, 274, 274, 274, 274, 274, 274, 274, 274, 274, 274, 274, 274, 274, 274, 274, 274, 274, 274, 274, 274, 274, 274, 274, 274, 274, 274, 274, 274, 274, 274, 274, 274, 274, 274, 274, 274, 274, 274, 274, 274, 274, 274, 274, 274, 274, 274, 274, 274, 274, 274, 274, 274, 274, 274, 274, 274, 274, 274, 274, 274, 274, 274, 274, 274, 274, 274, 274, 274, 274, 274, 274, 274, 274, 274, 274, 274, 274, 274, 274, 274, 274, 274, 274, 274, 274, 274, 274, 274, 274, 274, 274, 274, 274, 274, 274, 274, 274, 274, 274, 274, 274, 274, 274, 274, 274, 274, 274, 274, 274, 274, 274, 274, 274, 274, 274, 274, 274, 274, 274, 274, 274, 274, 274, 274, 274, 274, 274, 274, 274, 274, 274, 274, 274, 274, 274, 274, 274, 274, 274, 274, 274, 274, 274, 274, 274, 274, 274, 274, 274, 274, 274, 274, 274, 274, 274, 274, 274, 274, 274, 274, 274, 274, 274, 274, 274, 274, 274, 274, 274, 274, 274, 274, 274, 274, 274, 274, 274, 274, 274, 274, 274, 274, 274, 274, 274, 274, 274, 274, 274, 274], [0, 0, 0, 0, 0, 0, 0, 0, 0, 0, 0, 0, 0, 0, 0, 0, 0, 0, 0, 0, 0, 0, 0, 0, 0, 0, 0, 0, 0, 0, 0, 0, 0, 0, 0, 0, 0, 0, 0, 0, 0, 0, 0, 0, 0, 0, 0, 0, 0, 0, 0, 0, 0, 0, 0, 0, 0, 0, 0, 0, 0, 0, 0, 0, 0, 0, 0, 0, 0, 0, 135, 135, 135, 139, 139, 139, 139, 149, 149, 149, 149, 149, 149, 149, 149, 149, 149, 149, 149, 149, 149, 149, 149, 149, 149, 149, 149, 149, 149, 149, 149, 149, 149, 149, 149, 149, 149, 149, 149, 149, 149, 149, 149, 149, 149, 149, 149, 149, 149, 149, 149, 149, 149, 149, 149, 149, 149, 149, 149, 149, 149, 149, 149, 149, 149, 149, 149, 149, 149, 149, 149, 149, 149, 274, 274, 274, 274, 284, 284, 284, 288, 288, 288, 288, 288, 288, 288, 288, 288, 288, 288, 288, 288, 288, 288, 288, 288, 288, 288, 288, 288, 288, 288, 288, 288, 288, 288, 288, 288, 288, 288, 288, 288, 288, 288, 288, 288, 288, 288, 288, 288, 288, 288, 288, 288, 288, 288, 288, 288, 288, 288, 288, 288, 288, 288, 288, 288, 288, 288, 288, 288, 288, 288, 288, 288, 288, 288, 288, 288, 288, 423, 423, 423, 423, 423, 423, 423, 423, 423, 423, 423, 423, 423, 423, 423, 423, 423, 423, 423, 423, 423, 423, 423, 423, 423, 423, 423, 423, 423, 423, 423, 423, 423, 423, 423, 423, 423, 423, 423, 423, 423, 423, 423, 423, 423, 423, 423, 423, 423, 423, 423, 423, 423, 423, 423, 423, 423, 423, 423, 423, 423, 423, 423, 423, 423, 423, 423, 423, 423, 423, 423, 423, 423, 423, 423, 423, 423, 423, 423, 423, 423, 423, 423, 423, 423, 423, 423, 423, 423, 423, 423, 423, 423, 423, 423, 423, 423, 423, 423, 423, 423, 423, 423, 423, 423, 423, 423, 423, 423, 423, 423, 423, 423, 423, 423, 423, 423, 423, 423, 423, 423, 423, 423, 423, 423, 423, 423, 423, 423, 423, 423, 423, 423, 423, 423, 423, 423, 423, 423, 423, 423, 423, 423, 423, 423, 423, 423, 423, 423, 423, 423, 423, 423, 423, 423, 423, 423, 423, 423, 423, 423, 423, 423, 423, 423, 423, 423, 423, 423, 423, 423, 423, 423, 423, 423, 423, 423, 423, 423, 423, 423, 423, 423, 423, 423, 423, 423, 423, 423, 423, 423, 423, 423, 423, 423, 423, 423, 423, 423, 423, 423, 423, 423, 423, 423, 423, 423, 423, 423, 423, 423, 423, 423, 423, 423, 423, 423, 423, 423, 423, 423, 423, 423, 423, 423, 423, 423, 423, 423, 423, 423, 423, 423, 423, 423, 423, 423, 423, 423, 423, 423, 423, 423, 423, 423, 423, 423, 423, 423, 423, 423, 423, 423, 423, 423, 423, 423, 423, 423, 423, 423, 423, 423, 423, 423, 423, 423, 423, 423, 423, 423, 423, 423, 423, 423, 423, 423, 423, 423, 423, 423, 423, 423, 423, 423, 423, 423, 423, 423, 423, 423, 423, 423, 423, 423, 423, 423, 423, 423, 423, 423, 423, 423, 423, 423, 423, 423, 423, 423, 423, 423, 423, 423, 423, 423, 423, 423, 423, 423, 423, 423, 423, 423, 423, 423, 423, 423, 423, 423, 423, 423, 423, 423, 423, 423, 423, 423, 423, 423, 423, 423, 423, 423, 423, 423, 423, 423, 423, 423, 423, 423, 423, 423, 423, 423, 423, 423, 423, 423, 423, 423, 423, 423, 423, 423, 423, 423, 423, 423, 423, 423, 423, 423, 423, 423, 423, 423, 423, 423, 423, 423, 423, 423, 423, 423, 423, 423, 423, 423, 423, 423, 423, 423, 423, 423, 423, 423, 423, 423, 423, 423, 423, 423, 423, 423, 423, 423, 423, 423, 423, 423, 423, 423, 423, 423, 423, 423, 423, 423, 423, 423, 423, 423, 423, 423, 423, 423, 423, 423, 423, 423, 423, 423, 423, 423, 423, 423, 423, 423, 423, 423, 423, 423, 423, 423, 423, 423, 423, 423, 423, 423, 423, 423, 423, 423, 423, 423, 423, 423, 423, 423, 423, 423, 423, 423, 423, 423, 423, 423, 423, 423, 423, 423, 423, 423, 423, 423, 423, 423, 423, 423, 423, 423, 423, 423, 423, 423, 423, 423, 423, 423, 423, 423, 423, 423, 423, 423, 423, 423, 423, 423, 423, 423, 423, 423, 423, 423, 423, 423, 423, 423, 423, 423, 423, 423, 423, 423, 423, 423, 423, 423, 423, 423, 423, 423, 423, 423, 423, 423, 423, 423], [0, 0, 0, 0, 0, 0, 0, 0, 0, 0, 0, 0, 0, 0, 0, 0, 0, 0, 0, 0, 0, 0, 0, 0, 0, 0, 0, 0, 0, 0, 0, 0, 0, 0, 0, 0, 0, 0, 0, 0, 0, 0, 0, 0, 0, 0, 0, 0, 0, 0, 0, 0, 0, 0, 0, 0, 0, 0, 0, 0, 0, 0, 0, 0, 0, 0, 0, 0, 0, 0, 135, 135, 135, 139, 139, 139, 139, 149, 149, 149, 150, 150, 150, 150, 150, 150, 150, 150, 150, 150, 150, 150, 150, 150, 150, 150, 150, 150, 150, 150, 150, 150, 150, 150, 150, 150, 150, 150, 150, 150, 150, 150, 150, 150, 150, 150, 150, 150, 150, 150, 150, 150, 150, 150, 150, 150, 150, 150, 150, 150, 150, 150, 150, 150, 150, 150, 150, 150, 150, 150, 150, 150, 150, 274, 274, 274, 274, 284, 284, 284, 288, 288, 288, 289, 289, 289, 289, 299, 299, 299, 299, 299, 299, 299, 299, 299, 299, 299, 299, 299, 299, 299, 299, 299, 299, 299, 299, 299, 299, 299, 299, 299, 299, 299, 299, 299, 299, 299, 299, 299, 299, 299, 299, 299, 299, 299, 299, 299, 299, 299, 299, 299, 299, 299, 299, 299, 299, 299, 299, 299, 299, 299, 299, 299, 299, 299, 299, 299, 299, 299, 423, 423, 423, 424, 424, 424, 424, 434, 434, 434, 438, 438, 438, 438, 438, 438, 438, 438, 438, 438, 438, 438, 438, 438, 438, 438, 438, 438, 438, 438, 438, 438, 438, 438, 438, 438, 438, 438, 438, 438, 438, 438, 438, 438, 438, 438, 438, 438, 438, 438, 438, 438, 438, 438, 438, 438, 438, 438, 438, 438, 438, 438, 438, 438, 438, 438, 438, 438, 438, 438, 438, 438, 438, 438, 438, 438, 438, 438, 438, 438, 573, 573, 573, 573, 573, 573, 573, 573, 573, 573, 573, 573, 573, 573, 573, 573, 573, 573, 573, 573, 573, 573, 573, 573, 573, 573, 573, 573, 573, 573, 573, 573, 573, 573, 573, 573, 573, 573, 573, 573, 573, 573, 573, 573, 573, 573, 573, 573, 573, 573, 573, 573, 573, 573, 573, 573, 573, 573, 573, 573, 573, 573, 573, 573, 573, 573, 573, 573, 573, 573, 573, 573, 573, 573, 573, 573, 573, 573, 573, 573, 573, 573, 573, 573, 573, 573, 573, 573, 573, 573, 573, 573, 573, 573, 573, 573, 573, 573, 573, 573, 573, 573, 573, 573, 573, 573, 573, 573, 573, 573, 573, 573, 573, 573, 573, 573, 573, 573, 573, 573, 573, 573, 573, 573, 573, 573, 573, 573, 573, 573, 573, 573, 573, 573, 573, 573, 573, 573, 573, 573, 573, 573, 573, 573, 573, 573, 573, 573, 573, 573, 573, 573, 573, 573, 573, 573, 573, 573, 573, 573, 573, 573, 573, 573, 573, 573, 573, 573, 573, 573, 573, 573, 573, 573, 573, 573, 573, 573, 573, 573, 573, 573, 573, 573, 573, 573, 573, 573, 573, 573, 573, 573, 573, 573, 573, 573, 573, 573, 573, 573, 573, 573, 573, 573, 573, 573, 573, 573, 573, 573, 573, 573, 573, 573, 573, 573, 573, 573, 573, 573, 573, 573, 573, 573, 573, 573, 573, 573, 573, 573, 573, 573, 573, 573, 573, 573, 573, 573, 573, 573, 573, 573, 573, 573, 573, 573, 573, 573, 573, 573, 573, 573, 573, 573, 573, 573, 573, 573, 573, 573, 573, 573, 573, 573, 573, 573, 573, 573, 573, 573, 573, 573, 573, 573, 573, 573, 573, 573, 573, 573, 573, 573, 573, 573, 573, 573, 573, 573, 573, 573, 573, 573, 573, 573, 573, 573, 573, 573, 573, 573, 573, 573, 573, 573, 573, 573, 573, 573, 573, 573, 573, 573, 573, 573, 573, 573, 573, 573, 573, 573, 573, 573, 573, 573, 573, 573, 573, 573, 573, 573, 573, 573, 573, 573, 573, 573, 573, 573, 573, 573, 573, 573, 573, 573, 573, 573, 573, 573, 573, 573, 573, 573, 573, 573, 573, 573, 573, 573, 573, 573, 573, 573, 573, 573, 573, 573, 573, 573, 573, 573, 573, 573, 573, 573, 573, 573, 573, 573, 573, 573, 573, 573, 573, 573, 573, 573, 573, 573, 573, 573, 573, 573, 573, 573, 573, 573, 573, 573, 573, 573, 573, 573, 573, 573, 573, 573, 573, 573, 573, 573, 573, 573, 573, 573, 573, 573, 573, 573, 573, 573, 573, 573, 573, 573, 573, 573, 573, 573, 573, 573, 573, 573, 573, 573, 573, 573, 573, 573, 573, 573, 573, 573, 573, 573, 573, 573, 573, 573, 573, 573, 573], [0, 0, 0, 0, 0, 0, 0, 0, 0, 0, 0, 0, 0, 0, 0, 0, 0, 0, 0, 0, 0, 0, 0, 0, 0, 0, 0, 0, 0, 0, 0, 0, 0, 0, 0, 0, 0, 0, 0, 0, 0, 0, 0, 0, 0, 0, 0, 0, 0, 0, 0, 0, 0, 0, 0, 0, 0, 0, 0, 0, 0, 0, 0, 0, 0, 0, 0, 0, 0, 0, 135, 135, 135, 139, 139, 139, 139, 149, 149, 149, 150, 150, 156, 156, 156, 156, 156, 156, 156, 156, 156, 156, 156, 156, 156, 156, 156, 156, 156, 156, 156, 156, 156, 156, 156, 156, 156, 156, 156, 156, 156, 156, 156, 156, 156, 156, 156, 156, 156, 156, 156, 156, 156, 156, 156, 156, 156, 156, 156, 156, 156, 156, 156, 156, 156, 156, 156, 156, 156, 156, 156, 156, 156, 274, 274, 274, 274, 284, 284, 284, 288, 288, 291, 291, 291, 295, 295, 299, 299, 305, 305, 305, 306, 306, 306, 306, 306, 306, 306, 306, 306, 306, 306, 306, 306, 306, 306, 306, 306, 306, 306, 306, 306, 306, 306, 306, 306, 306, 306, 306, 306, 306, 306, 306, 306, 306, 306, 306, 306, 306, 306, 306, 306, 306, 306, 306, 306, 306, 306, 306, 306, 306, 306, 306, 306, 306, 306, 306, 306, 306, 423, 423, 423, 424, 424, 430, 430, 434, 434, 440, 440, 440, 444, 444, 444, 445, 445, 445, 445, 455, 455, 455, 455, 455, 455, 455, 455, 455, 455, 455, 455, 455, 455, 455, 455, 455, 455, 455, 455, 455, 455, 455, 455, 455, 455, 455, 455, 455, 455, 455, 455, 455, 455, 455, 455, 455, 455, 455, 455, 455, 455, 455, 455, 455, 455, 455, 455, 455, 455, 455, 455, 455, 455, 455, 455, 455, 455, 455, 455, 455, 573, 573, 579, 579, 579, 580, 580, 580, 580, 590, 590, 590, 594, 594, 594, 594, 594, 594, 594, 594, 594, 594, 594, 594, 594, 594, 594, 594, 594, 594, 594, 594, 594, 594, 594, 594, 594, 594, 594, 594, 594, 594, 594, 594, 594, 594, 594, 594, 594, 594, 594, 594, 594, 594, 594, 594, 594, 594, 594, 594, 594, 594, 594, 594, 594, 594, 594, 594, 594, 594, 594, 594, 594, 594, 594, 594, 594, 594, 594, 594, 594, 594, 729, 729, 729, 729, 729, 729, 729, 729, 729, 729, 729, 729, 729, 729, 729, 729, 729, 729, 729, 729, 729, 729, 729, 729, 729, 729, 729, 729, 729, 729, 729, 729, 729, 729, 729, 729, 729, 729, 729, 729, 729, 729, 729, 729, 729, 729, 729, 729, 729, 729, 729, 729, 729, 729, 729, 729, 729, 729, 729, 729, 729, 729, 729, 729, 729, 729, 729, 729, 729, 729, 729, 729, 729, 729, 729, 729, 729, 729, 729, 729, 729, 729, 729, 729, 729, 729, 729, 729, 729, 729, 729, 729, 729, 729, 729, 729, 729, 729, 729, 729, 729, 729, 729, 729, 729, 729, 729, 729, 729, 729, 729, 729, 729, 729, 729, 729, 729, 729, 729, 729, 729, 729, 729, 729, 729, 729, 729, 729, 729, 729, 729, 729, 729, 729, 729, 729, 729, 729, 729, 729, 729, 729, 729, 729, 729, 729, 729, 729, 729, 729, 729, 729, 729, 729, 729, 729, 729, 729, 729, 729, 729, 729, 729, 729, 729, 729, 729, 729, 729, 729, 729, 729, 729, 729, 729, 729, 729, 729, 729, 729, 729, 729, 729, 729, 729, 729, 729, 729, 729, 729, 729, 729, 729, 729, 729, 729, 729, 729, 729, 729, 729, 729, 729, 729, 729, 729, 729, 729, 729, 729, 729, 729, 729, 729, 729, 729, 729, 729, 729, 729, 729, 729, 729, 729, 729, 729, 729, 729, 729, 729, 729, 729, 729, 729, 729, 729, 729, 729, 729, 729, 729, 729, 729, 729, 729, 729, 729, 729, 729, 729, 729, 729, 729, 729, 729, 729, 729, 729, 729, 729, 729, 729, 729, 729, 729, 729, 729, 729, 729, 729, 729, 729, 729, 729, 729, 729, 729, 729, 729, 729, 729, 729, 729, 729, 729, 729, 729, 729, 729, 729, 729, 729, 729, 729, 729, 729, 729, 729, 729, 729, 729, 729, 729, 729, 729, 729, 729, 729, 729, 729, 729, 729, 729, 729, 729, 729, 729, 729, 729, 729, 729, 729, 729, 729, 729, 729, 729, 729, 729, 729, 729, 729, 729, 729, 729, 729, 729, 729, 729, 729, 729, 729, 729, 729, 729, 729, 729, 729, 729, 729, 729, 729, 729, 729, 729, 729, 729, 729, 729, 729, 729, 729, 729, 729, 729, 729, 729, 729, 729], [0, 0, 0, 0, 0, 0, 0, 0, 0, 0, 0, 0, 0, 0, 0, 0, 0, 0, 0, 0, 0, 0, 0, 0, 0, 0, 0, 0, 0, 0, 0, 0, 0, 0, 0, 0, 0, 0, 0, 0, 0, 0, 0, 0, 0, 0, 0, 0, 0, 0, 0, 0, 0, 0, 0, 0, 0, 0, 0, 0, 0, 0, 0, 0, 0, 0, 0, 0, 0, 0, 135, 135, 135, 139, 139, 139, 139, 149, 149, 149, 150, 150, 156, 156, 156, 156, 156, 163, 163, 163, 163, 163, 163, 163, 163, 163, 163, 163, 163, 163, 163, 163, 163, 163, 163, 163, 163, 163, 163, 163, 163, 163, 163, 163, 163, 163, 163, 163, 163, 163, 163, 163, 163, 163, 163, 163, 163, 163, 163, 163, 163, 163, 163, 163, 163, 163, 163, 163, 163, 163, 163, 163, 163, 274, 274, 274, 274, 284, 284, 284, 288, 288, 291, 291, 291, 295, 295, 299, 299, 305, 305, 305, 306, 306, 312, 312, 312, 313, 313, 319, 319, 319, 319, 319, 319, 319, 319, 319, 319, 319, 319, 319, 319, 319, 319, 319, 319, 319, 319, 319, 319, 319, 319, 319, 319, 319, 319, 319, 319, 319, 319, 319, 319, 319, 319, 319, 319, 319, 319, 319, 319, 319, 319, 319, 319, 319, 319, 319, 319, 319, 423, 423, 423, 424, 424, 430, 430, 434, 434, 440, 440, 440, 444, 444, 447, 447, 447, 451, 451, 455, 455, 455, 458, 458, 462, 462, 468, 468, 468, 469, 469, 469, 469, 469, 469, 469, 469, 469, 469, 469, 469, 469, 469, 469, 469, 469, 469, 469, 469, 469, 469, 469, 469, 469, 469, 469, 469, 469, 469, 469, 469, 469, 469, 469, 469, 469, 469, 469, 469, 469, 469, 469, 469, 469, 469, 469, 469, 469, 469, 469, 573, 573, 579, 579, 579, 580, 580, 586, 586, 590, 590, 590, 594, 594, 597, 597, 603, 603, 603, 607, 607, 607, 608, 608, 608, 608, 618, 618, 618, 618, 618, 618, 618, 618, 618, 618, 618, 618, 618, 618, 618, 618, 618, 618, 618, 618, 618, 618, 618, 618, 618, 618, 618, 618, 618, 618, 618, 618, 618, 618, 618, 618, 618, 618, 618, 618, 618, 618, 618, 618, 618, 618, 618, 618, 618, 618, 618, 618, 618, 618, 618, 618, 729, 729, 729, 729, 729, 736, 736, 742, 742, 742, 743, 743, 743, 743, 753, 753, 753, 757, 757, 757, 757, 757, 757, 757, 757, 757, 757, 757, 757, 757, 757, 757, 757, 757, 757, 757, 757, 757, 757, 757, 757, 757, 757, 757, 757, 757, 757, 757, 757, 757, 757, 757, 757, 757, 757, 757, 757, 757, 757, 757, 757, 757, 757, 757, 757, 757, 757, 757, 757, 757, 757, 757, 757, 757, 757, 757, 757, 757, 757, 757, 757, 757, 757, 757, 757, 757, 757, 892, 892, 892, 892, 892, 892, 892, 892, 892, 892, 892, 892, 892, 892, 892, 892, 892, 892, 892, 892, 892, 892, 892, 892, 892, 892, 892, 892, 892, 892, 892, 892, 892, 892, 892, 892, 892, 892, 892, 892, 892, 892, 892, 892, 892, 892, 892, 892, 892, 892, 892, 892, 892, 892, 892, 892, 892, 892, 892, 892, 892, 892, 892, 892, 892, 892, 892, 892, 892, 892, 892, 892, 892, 892, 892, 892, 892, 892, 892, 892, 892, 892, 892, 892, 892, 892, 892, 892, 892, 892, 892, 892, 892, 892, 892, 892, 892, 892, 892, 892, 892, 892, 892, 892, 892, 892, 892, 892, 892, 892, 892, 892, 892, 892, 892, 892, 892, 892, 892, 892, 892, 892, 892, 892, 892, 892, 892, 892, 892, 892, 892, 892, 892, 892, 892, 892, 892, 892, 892, 892, 892, 892, 892, 892, 892, 892, 892, 892, 892, 892, 892, 892, 892, 892, 892, 892, 892, 892, 892, 892, 892, 892, 892, 892, 892, 892, 892, 892, 892, 892, 892, 892, 892, 892, 892, 892, 892, 892, 892, 892, 892, 892, 892, 892, 892, 892, 892, 892, 892, 892, 892, 892, 892, 892, 892, 892, 892, 892, 892, 892, 892, 892, 892, 892, 892, 892, 892, 892, 892, 892, 892, 892, 892, 892, 892, 892, 892, 892, 892, 892, 892, 892, 892, 892, 892, 892, 892, 892, 892, 892, 892, 892, 892, 892, 892, 892, 892, 892, 892, 892, 892, 892, 892, 892, 892, 892, 892, 892, 892, 892, 892, 892, 892, 892, 892, 892, 892, 892, 892, 892, 892, 892, 892, 892, 892, 892, 892, 892, 892, 892, 892, 892, 892, 892, 892, 892, 892, 892, 892, 892, 892, 892], [0, 0, 0, 0, 0, 0, 0, 0, 0, 0, 0, 0, 0, 0, 0, 0, 0, 0, 0, 0, 0, 0, 0, 0, 0, 0, 0, 0, 0, 0, 0, 0, 0, 0, 0, 0, 0, 0, 0, 0, 0, 0, 0, 0, 0, 0, 0, 0, 0, 0, 0, 0, 0, 0, 0, 0, 0, 0, 0, 0, 0, 0, 0, 0, 0, 0, 0, 0, 0, 0, 135, 135, 135, 139, 139, 139, 139, 149, 149, 149, 150, 150, 156, 156, 156, 156, 156, 163, 163, 163, 173, 173, 173, 173, 173, 173, 173, 173, 173, 173, 173, 173, 173, 173, 173, 173, 173, 173, 173, 173, 173, 173, 173, 173, 173, 173, 173, 173, 173, 173, 173, 173, 173, 173, 173, 173, 173, 173, 173, 173, 173, 173, 173, 173, 173, 173, 173, 173, 173, 173, 173, 173, 173, 274, 274, 274, 274, 284, 284, 284, 288, 288, 291, 291, 291, 295, 295, 299, 299, 305, 308, 308, 308, 312, 312, 312, 312, 322, 322, 322, 323, 323, 329, 329, 329, 329, 329, 336, 336, 336, 336, 336, 336, 336, 336, 336, 336, 336, 336, 336, 336, 336, 336, 336, 336, 336, 336, 336, 336, 336, 336, 336, 336, 336, 336, 336, 336, 336, 336, 336, 336, 336, 336, 336, 336, 336, 336, 336, 336, 336, 423, 423, 423, 424, 424, 430, 430, 434, 434, 440, 440, 440, 444, 447, 447, 447, 447, 457, 457, 457, 461, 461, 464, 464, 464, 468, 468, 472, 472, 478, 478, 478, 479, 479, 485, 485, 485, 486, 486, 492, 492, 492, 492, 492, 492, 492, 492, 492, 492, 492, 492, 492, 492, 492, 492, 492, 492, 492, 492, 492, 492, 492, 492, 492, 492, 492, 492, 492, 492, 492, 492, 492, 492, 492, 492, 492, 492, 492, 492, 492, 573, 573, 579, 579, 579, 580, 580, 586, 586, 590, 596, 596, 596, 597, 597, 603, 603, 607, 607, 613, 613, 613, 617, 617, 620, 620, 620, 624, 624, 628, 628, 628, 631, 631, 635, 635, 641, 641, 641, 642, 642, 642, 642, 642, 642, 642, 642, 642, 642, 642, 642, 642, 642, 642, 642, 642, 642, 642, 642, 642, 642, 642, 642, 642, 642, 642, 642, 642, 642, 642, 642, 642, 642, 642, 642, 642, 642, 642, 642, 642, 642, 642, 729, 729, 729, 729, 729, 736, 736, 742, 746, 746, 752, 752, 752, 753, 753, 759, 759, 763, 763, 763, 767, 767, 770, 770, 776, 776, 776, 780, 780, 780, 781, 781, 781, 781, 791, 791, 791, 791, 791, 791, 791, 791, 791, 791, 791, 791, 791, 791, 791, 791, 791, 791, 791, 791, 791, 791, 791, 791, 791, 791, 791, 791, 791, 791, 791, 791, 791, 791, 791, 791, 791, 791, 791, 791, 791, 791, 791, 791, 791, 791, 791, 791, 791, 791, 791, 791, 791, 892, 892, 892, 902, 902, 902, 902, 902, 909, 909, 915, 915, 915, 916, 916, 916, 916, 926, 926, 926, 930, 930, 930, 930, 930, 930, 930, 930, 930, 930, 930, 930, 930, 930, 930, 930, 930, 930, 930, 930, 930, 930, 930, 930, 930, 930, 930, 930, 930, 930, 930, 930, 930, 930, 930, 930, 930, 930, 930, 930, 930, 930, 930, 930, 930, 930, 930, 930, 930, 930, 930, 930, 930, 930, 930, 930, 930, 930, 930, 930, 930, 930, 930, 930, 930, 930, 930, 930, 930, 930, 1065, 1065, 1065, 1065, 1065, 1065, 1065, 1065, 1065, 1065, 1065, 1065, 1065, 1065, 1065, 1065, 1065, 1065, 1065, 1065, 1065, 1065, 1065, 1065, 1065, 1065, 1065, 1065, 1065, 1065, 1065, 1065, 1065, 1065, 1065, 1065, 1065, 1065, 1065, 1065, 1065, 1065, 1065, 1065, 1065, 1065, 1065, 1065, 1065, 1065, 1065, 1065, 1065, 1065, 1065, 1065, 1065, 1065, 1065, 1065, 1065, 1065, 1065, 1065, 1065, 1065, 1065, 1065, 1065, 1065, 1065, 1065, 1065, 1065, 1065, 1065, 1065, 1065, 1065, 1065, 1065, 1065, 1065, 1065, 1065, 1065, 1065, 1065, 1065, 1065, 1065, 1065, 1065, 1065, 1065, 1065, 1065, 1065, 1065, 1065, 1065, 1065, 1065, 1065, 1065, 1065, 1065, 1065, 1065, 1065, 1065, 1065, 1065, 1065, 1065, 1065, 1065, 1065, 1065, 1065, 1065, 1065, 1065, 1065, 1065, 1065, 1065, 1065, 1065, 1065, 1065, 1065, 1065, 1065, 1065, 1065, 1065, 1065, 1065, 1065, 1065, 1065, 1065, 1065, 1065, 1065, 1065, 1065, 1065, 1065, 1065, 1065, 1065, 1065, 1065, 1065, 1065, 1065, 1065, 1065, 1065, 1065, 1065, 1065, 1065, 1065, 1065, 1065, 1065, 1065, 1065, 1065, 1065, 1065, 1065, 1065, 1065, 1065, 1065, 1065, 1065, 1065, 1065, 1065, 1065, 1065, 1065, 1065, 1065, 1065, 1065, 1065], [0, 0, 0, 0, 0, 0, 0, 0, 0, 0, 0, 0, 0, 0, 0, 0, 0, 0, 0, 0, 0, 0, 0, 0, 0, 0, 0, 0, 0, 0, 0, 0, 0, 0, 0, 0, 0, 0, 0, 0, 0, 0, 0, 0, 0, 0, 0, 0, 0, 0, 0, 0, 0, 0, 0, 0, 0, 0, 0, 0, 0, 0, 0, 0, 0, 0, 0, 0, 0, 0, 135, 135, 135, 139, 139, 139, 139, 149, 149, 149, 150, 150, 156, 156, 156, 156, 156, 163, 163, 163, 173, 173, 173, 173, 184, 184, 184, 184, 184, 184, 184, 184, 184, 184, 184, 184, 184, 184, 184, 184, 184, 184, 184, 184, 184, 184, 184, 184, 184, 184, 184, 184, 184, 184, 184, 184, 184, 184, 184, 184, 184, 184, 184, 184, 184, 184, 184, 184, 184, 184, 184, 184, 184, 274, 274, 274, 274, 284, 284, 284, 288, 288, 291, 291, 291, 295, 295, 299, 299, 305, 308, 308, 308, 312, 319, 319, 319, 323, 323, 323, 323, 333, 333, 333, 334, 334, 340, 340, 340, 340, 340, 347, 347, 347, 357, 357, 357, 357, 357, 357, 357, 357, 357, 357, 357, 357, 357, 357, 357, 357, 357, 357, 357, 357, 357, 357, 357, 357, 357, 357, 357, 357, 357, 357, 357, 357, 357, 357, 357, 357, 423, 423, 423, 424, 424, 430, 430, 434, 434, 440, 440, 440, 444, 447, 447, 447, 447, 458, 458, 458, 461, 468, 468, 468, 472, 472, 475, 475, 475, 479, 479, 483, 483, 489, 492, 492, 492, 496, 496, 496, 496, 506, 506, 506, 507, 507, 513, 513, 513, 513, 513, 520, 520, 520, 520, 520, 520, 520, 520, 520, 520, 520, 520, 520, 520, 520, 520, 520, 520, 520, 520, 520, 520, 520, 520, 520, 520, 520, 520, 520, 573, 573, 579, 579, 579, 580, 580, 586, 586, 590, 596, 596, 596, 597, 607, 607, 607, 608, 608, 614, 614, 618, 618, 624, 624, 624, 628, 631, 631, 631, 631, 641, 641, 641, 645, 645, 648, 648, 648, 652, 652, 656, 656, 662, 662, 662, 663, 663, 669, 669, 669, 670, 670, 676, 676, 676, 676, 676, 676, 676, 676, 676, 676, 676, 676, 676, 676, 676, 676, 676, 676, 676, 676, 676, 676, 676, 676, 676, 676, 676, 676, 676, 729, 729, 729, 729, 729, 736, 736, 742, 746, 746, 752, 752, 757, 757, 763, 763, 763, 764, 764, 770, 770, 774, 780, 780, 780, 781, 781, 787, 787, 791, 791, 797, 797, 797, 801, 801, 804, 804, 804, 808, 808, 812, 812, 812, 815, 815, 819, 819, 825, 825, 825, 826, 826, 826, 826, 826, 826, 826, 826, 826, 826, 826, 826, 826, 826, 826, 826, 826, 826, 826, 826, 826, 826, 826, 826, 826, 826, 826, 826, 826, 826, 826, 826, 826, 826, 826, 826, 892, 892, 892, 902, 902, 902, 902, 913, 913, 913, 915, 915, 920, 920, 926, 930, 930, 936, 936, 936, 937, 937, 943, 943, 947, 947, 947, 951, 951, 954, 954, 960, 960, 960, 964, 964, 964, 965, 965, 965, 965, 975, 975, 975, 975, 975, 975, 975, 975, 975, 975, 975, 975, 975, 975, 975, 975, 975, 975, 975, 975, 975, 975, 975, 975, 975, 975, 975, 975, 975, 975, 975, 975, 975, 975, 975, 975, 975, 975, 975, 975, 975, 975, 975, 975, 975, 975, 975, 975, 975, 1065, 1065, 1065, 1065, 1076, 1076, 1076, 1086, 1086, 1086, 1086, 1086, 1093, 1093, 1099, 1099, 1099, 1100, 1100, 1100, 1100, 1110, 1110, 1110, 1114, 1114, 1114, 1114, 1114, 1114, 1114, 1114, 1114, 1114, 1114, 1114, 1114, 1114, 1114, 1114, 1114, 1114, 1114, 1114, 1114, 1114, 1114, 1114, 1114, 1114, 1114, 1114, 1114, 1114, 1114, 1114, 1114, 1114, 1114, 1114, 1114, 1114, 1114, 1114, 1114, 1114, 1114, 1114, 1114, 1114, 1114, 1114, 1114, 1114, 1114, 1114, 1114, 1114, 1114, 1114, 1114, 1114, 1114, 1114, 1114, 1114, 1114, 1114, 1114, 1114, 1114, 1114, 1114, 1114, 1249, 1249, 1249, 1249, 1249, 1249, 1249, 1249, 1249, 1249, 1249, 1249, 1249, 1249, 1249, 1249, 1249, 1249, 1249, 1249, 1249, 1249, 1249, 1249, 1249, 1249, 1249, 1249, 1249, 1249, 1249, 1249, 1249, 1249, 1249, 1249, 1249, 1249, 1249, 1249, 1249, 1249, 1249, 1249, 1249, 1249, 1249, 1249, 1249, 1249, 1249, 1249, 1249, 1249, 1249, 1249, 1249, 1249, 1249, 1249, 1249, 1249, 1249, 1249, 1249, 1249, 1249, 1249, 1249, 1249, 1249, 1249, 1249, 1249, 1249, 1249, 1249, 1249, 1249, 1249, 1249, 1249, 1249, 1249, 1249, 1249, 1249, 1249, 1249, 1249, 1249, 1249, 1249, 1249, 1249, 1249, 1249, 1249], [0, 0, 0, 0, 0, 0, 0, 0, 0, 0, 0, 0, 0, 0, 0, 0, 0, 0, 0, 0, 0, 0, 0, 0, 0, 0, 0, 0, 0, 0, 0, 0, 0, 0, 0, 0, 0, 0, 0, 0, 0, 0, 0, 0, 0, 0, 0, 0, 0, 0, 0, 0, 0, 0, 0, 0, 0, 0, 0, 0, 0, 0, 0, 0, 0, 0, 0, 0, 0, 0, 135, 135, 135, 139, 139, 139, 139, 149, 149, 149, 150, 150, 156, 156, 156, 156, 156, 163, 163, 163, 173, 173, 173, 173, 184, 184, 184, 184, 192, 192, 192, 192, 192, 192, 192, 192, 192, 192, 192, 192, 192, 192, 192, 192, 192, 192, 192, 192, 192, 192, 192, 192, 192, 192, 192, 192, 192, 192, 192, 192, 192, 192, 192, 192, 192, 192, 192, 192, 192, 192, 192, 192, 192, 274, 274, 274, 274, 284, 284, 284, 288, 288, 291, 291, 291, 295, 295, 299, 299, 305, 308, 308, 308, 312, 319, 319, 319, 323, 327, 327, 327, 333, 333, 333, 334, 341, 341, 341, 342, 342, 348, 348, 348, 348, 357, 357, 357, 357, 365, 365, 365, 365, 376, 376, 376, 376, 376, 376, 376, 376, 376, 376, 376, 376, 376, 376, 376, 376, 376, 376, 376, 376, 376, 376, 376, 376, 376, 376, 376, 376, 423, 423, 423, 424, 424, 430, 430, 434, 434, 440, 440, 440, 444, 447, 447, 447, 447, 458, 458, 458, 461, 468, 468, 468, 472, 476, 476, 476, 480, 480, 483, 483, 483, 489, 492, 492, 492, 497, 500, 500, 500, 506, 511, 511, 511, 515, 515, 515, 515, 525, 525, 525, 526, 526, 532, 532, 532, 532, 532, 539, 539, 539, 549, 549, 549, 549, 549, 549, 549, 549, 549, 549, 549, 549, 549, 549, 549, 549, 549, 549, 573, 573, 579, 579, 579, 580, 580, 586, 586, 590, 596, 596, 596, 597, 607, 607, 607, 608, 615, 615, 615, 618, 618, 624, 624, 626, 628, 632, 632, 632, 636, 641, 641, 641, 645, 650, 650, 650, 653, 660, 660, 660, 664, 664, 667, 667, 667, 671, 671, 675, 675, 681, 684, 684, 684, 688, 688, 688, 688, 698, 698, 698, 699, 699, 705, 705, 705, 705, 705, 712, 712, 712, 712, 712, 712, 712, 712, 712, 712, 712, 712, 712, 729, 729, 729, 729, 729, 736, 736, 742, 746, 746, 752, 752, 757, 757, 763, 763, 765, 765, 771, 771, 771, 774, 780, 780, 780, 782, 788, 788, 788, 791, 799, 799, 799, 800, 801, 806, 806, 810, 810, 816, 816, 816, 820, 823, 823, 823, 823, 833, 833, 833, 837, 837, 840, 840, 840, 844, 844, 848, 848, 854, 854, 854, 855, 855, 861, 861, 861, 862, 862, 868, 868, 868, 868, 868, 868, 868, 868, 868, 868, 868, 868, 868, 868, 868, 868, 868, 868, 892, 892, 892, 902, 902, 902, 902, 913, 913, 913, 915, 921, 921, 921, 926, 930, 930, 936, 936, 938, 938, 944, 944, 949, 949, 955, 955, 955, 956, 956, 962, 962, 966, 972, 972, 972, 973, 973, 979, 979, 983, 983, 989, 989, 989, 993, 993, 996, 996, 996, 1000, 1000, 1004, 1004, 1004, 1007, 1007, 1011, 1011, 1017, 1017, 1017, 1018, 1018, 1018, 1018, 1018, 1018, 1018, 1018, 1018, 1018, 1018, 1018, 1018, 1018, 1018, 1018, 1018, 1018, 1018, 1018, 1018, 1018, 1018, 1018, 1018, 1018, 1018, 1018, 1065, 1065, 1065, 1065, 1076, 1076, 1076, 1086, 1086, 1086, 1086, 1094, 1094, 1094, 1099, 1105, 1105, 1105, 1107, 1107, 1112, 1112, 1118, 1122, 1122, 1128, 1128, 1128, 1129, 1129, 1135, 1135, 1139, 1139, 1139, 1143, 1143, 1146, 1146, 1152, 1152, 1152, 1156, 1156, 1156, 1157, 1157, 1157, 1157, 1167, 1167, 1167, 1167, 1167, 1167, 1167, 1167, 1167, 1167, 1167, 1167, 1167, 1167, 1167, 1167, 1167, 1167, 1167, 1167, 1167, 1167, 1167, 1167, 1167, 1167, 1167, 1167, 1167, 1167, 1167, 1167, 1167, 1167, 1167, 1167, 1167, 1167, 1167, 1167, 1167, 1167, 1167, 1167, 1167, 1249, 1249, 1249, 1249, 1257, 1257, 1257, 1257, 1268, 1268, 1268, 1278, 1278, 1278, 1278, 1278, 1285, 1285, 1291, 1291, 1291, 1292, 1292, 1292, 1292, 1302, 1302, 1302, 1306, 1306, 1306, 1306, 1306, 1306, 1306, 1306, 1306, 1306, 1306, 1306, 1306, 1306, 1306, 1306, 1306, 1306, 1306, 1306, 1306, 1306, 1306, 1306, 1306, 1306, 1306, 1306, 1306, 1306, 1306, 1306, 1306, 1306, 1306, 1306, 1306, 1306, 1306, 1306, 1306, 1306, 1306, 1306, 1306, 1306, 1306, 1306, 1306, 1306, 1306, 1306, 1306, 1306, 1306, 1306, 1306, 1306, 1306, 1306, 1306, 1306, 1306, 1306, 1306, 1306, 1306, 1306, 1306, 1306], [0, 0, 0, 0, 0, 0, 0, 0, 0, 0, 0, 0, 0, 0, 0, 0, 0, 0, 0, 0, 0, 0, 0, 0, 0, 0, 0, 0, 0, 0, 0, 0, 0, 0, 0, 0, 0, 0, 0, 0, 0, 0, 0, 0, 0, 0, 0, 0, 0, 0, 0, 0, 0, 0, 0, 0, 0, 0, 0, 0, 0, 0, 0, 0, 0, 0, 0, 0, 0, 0, 135, 135, 135, 139, 139, 139, 139, 149, 149, 149, 150, 150, 156, 156, 156, 156, 156, 163, 163, 163, 173, 173, 173, 173, 184, 184, 184, 184, 192, 192, 192, 192, 192, 192, 192, 192, 201, 201, 201, 201, 201, 201, 201, 201, 201, 201, 201, 201, 201, 201, 201, 201, 201, 201, 201, 201, 201, 201, 201, 201, 201, 201, 201, 201, 201, 201, 201, 201, 201, 201, 201, 201, 201, 274, 274, 274, 274, 284, 284, 284, 288, 288, 291, 291, 291, 295, 295, 299, 299, 305, 308, 308, 308, 312, 319, 319, 319, 323, 327, 327, 327, 333, 333, 333, 334, 341, 341, 341, 342, 342, 348, 348, 348, 350, 357, 357, 357, 357, 365, 365, 365, 365, 376, 376, 376, 376, 376, 376, 376, 376, 385, 385, 385, 385, 393, 393, 393, 393, 393, 393, 393, 393, 393, 393, 393, 393, 393, 393, 393, 393, 423, 423, 423, 424, 424, 430, 430, 434, 434, 440, 440, 440, 444, 447, 447, 447, 447, 458, 458, 458, 461, 468, 468, 468, 472, 476, 476, 476, 480, 480, 483, 483, 483, 489, 492, 492, 492, 497, 500, 500, 500, 506, 511, 511, 511, 515, 515, 515, 515, 525, 525, 525, 526, 526, 532, 532, 532, 534, 534, 539, 539, 542, 549, 549, 549, 549, 549, 549, 549, 549, 558, 558, 558, 558, 566, 566, 566, 566, 577, 577, 577, 577, 579, 579, 579, 580, 580, 586, 586, 590, 596, 596, 596, 597, 607, 607, 607, 608, 615, 615, 615, 618, 618, 624, 624, 626, 628, 632, 632, 632, 636, 641, 641, 641, 645, 650, 650, 650, 653, 660, 660, 660, 664, 664, 667, 667, 667, 671, 671, 675, 675, 681, 684, 684, 684, 688, 688, 688, 688, 698, 698, 698, 699, 699, 705, 705, 705, 707, 712, 712, 712, 716, 716, 716, 716, 726, 726, 726, 727, 727, 733, 733, 733, 733, 733, 740, 740, 740, 750, 750, 750, 750, 752, 752, 757, 757, 763, 763, 765, 765, 771, 771, 771, 774, 780, 780, 780, 782, 788, 788, 788, 791, 799, 799, 799, 800, 801, 806, 806, 810, 810, 816, 816, 816, 820, 823, 823, 823, 823, 833, 833, 833, 837, 837, 840, 840, 840, 844, 844, 848, 848, 854, 854, 854, 855, 861, 861, 861, 865, 865, 868, 868, 868, 872, 872, 876, 876, 882, 885, 885, 885, 889, 889, 889, 889, 899, 899, 899, 900, 900, 906, 906, 906, 906, 906, 913, 913, 913, 913, 915, 921, 921, 921, 926, 930, 930, 936, 936, 938, 938, 944, 944, 949, 949, 955, 955, 955, 956, 956, 962, 962, 966, 972, 972, 972, 973, 973, 979, 979, 983, 983, 989, 989, 989, 993, 993, 996, 996, 1000, 1000, 1000, 1004, 1004, 1007, 1007, 1011, 1011, 1017, 1017, 1017, 1021, 1024, 1024, 1024, 1024, 1034, 1034, 1034, 1038, 1038, 1041, 1041, 1041, 1045, 1045, 1049, 1049, 1055, 1055, 1055, 1056, 1056, 1062, 1062, 1062, 1063, 1063, 1069, 1069, 1069, 1069, 1069, 1069, 1076, 1076, 1076, 1086, 1086, 1086, 1086, 1094, 1094, 1094, 1099, 1105, 1105, 1105, 1107, 1107, 1112, 1112, 1118, 1122, 1122, 1128, 1128, 1128, 1129, 1129, 1135, 1135, 1139, 1139, 1139, 1143, 1143, 1146, 1146, 1152, 1152, 1156, 1156, 1156, 1157, 1157, 1163, 1163, 1167, 1173, 1173, 1173, 1174, 1174, 1180, 1180, 1184, 1184, 1190, 1190, 1190, 1194, 1194, 1197, 1197, 1197, 1201, 1201, 1205, 1205, 1205, 1208, 1208, 1212, 1212, 1218, 1218, 1218, 1219, 1219, 1219, 1219, 1219, 1219, 1219, 1219, 1219, 1219, 1219, 1219, 1219, 1219, 1219, 1219, 1249, 1249, 1249, 1249, 1257, 1257, 1257, 1257, 1268, 1268, 1268, 1278, 1278, 1278, 1278, 1278, 1285, 1285, 1291, 1291, 1291, 1292, 1292, 1295, 1295, 1302, 1302, 1306, 1306, 1306, 1308, 1308, 1313, 1313, 1319, 1323, 1323, 1329, 1329, 1329, 1330, 1330, 1336, 1336, 1340, 1340, 1340, 1344, 1344, 1347, 1347, 1353, 1353, 1353, 1357, 1357, 1357, 1358, 1358, 1358, 1358, 1368, 1368, 1368, 1368, 1368, 1368, 1368, 1368, 1368, 1368, 1368, 1368, 1368, 1368, 1368, 1368, 1368, 1368, 1368, 1368, 1368, 1368, 1368, 1368, 1368, 1368, 1368, 1368, 1368, 1368, 1368, 1368, 1368, 1368, 1368, 1368, 1368], [0, 0, 0, 0, 0, 0, 0, 0, 0, 0, 0, 0, 0, 0, 0, 0, 0, 0, 0, 0, 0, 0, 0, 0, 0, 0, 0, 0, 0, 0, 0, 0, 0, 0, 0, 0, 0, 0, 0, 0, 0, 0, 0, 0, 0, 0, 0, 0, 0, 0, 0, 0, 0, 0, 0, 0, 0, 0, 0, 0, 0, 0, 0, 0, 0, 0, 0, 0, 0, 0, 135, 135, 135, 139, 139, 139, 139, 149, 149, 149, 150, 150, 156, 156, 156, 156, 156, 163, 163, 163, 173, 173, 173, 173, 184, 184, 184, 184, 192, 192, 192, 192, 192, 192, 192, 192, 201, 201, 201, 201, 210, 210, 210, 210, 210, 210, 210, 210, 210, 210, 210, 210, 210, 210, 210, 210, 210, 210, 210, 210, 210, 210, 210, 210, 210, 210, 210, 210, 210, 210, 210, 210, 210, 274, 274, 274, 274, 284, 284, 284, 288, 288, 291, 291, 291, 295, 295, 299, 299, 305, 308, 308, 308, 312, 319, 319, 319, 323, 327, 327, 327, 333, 333, 333, 334, 341, 341, 341, 342, 342, 348, 348, 348, 350, 357, 357, 357, 359, 365, 365, 365, 365, 376, 376, 376, 376, 376, 376, 376, 376, 385, 385, 385, 385, 394, 394, 394, 394, 402, 402, 402, 402, 402, 402, 402, 402, 411, 411, 411, 411, 423, 423, 423, 424, 424, 430, 430, 434, 434, 440, 440, 440, 444, 447, 447, 447, 447, 458, 458, 458, 461, 468, 468, 468, 472, 476, 476, 476, 480, 480, 483, 483, 483, 489, 492, 492, 492, 497, 500, 500, 500, 506, 511, 511, 511, 515, 515, 515, 515, 525, 525, 525, 526, 526, 532, 532, 532, 534, 537, 539, 539, 543, 549, 549, 549, 551, 551, 551, 552, 552, 558, 558, 558, 560, 567, 567, 567, 567, 577, 577, 577, 577, 586, 586, 586, 586, 586, 586, 586, 590, 596, 596, 596, 597, 607, 607, 607, 608, 615, 615, 615, 618, 618, 624, 624, 626, 628, 632, 632, 632, 636, 641, 641, 641, 645, 650, 650, 650, 653, 660, 660, 660, 664, 664, 667, 667, 667, 671, 671, 675, 675, 681, 684, 684, 684, 688, 688, 688, 690, 698, 698, 698, 699, 699, 705, 705, 705, 707, 712, 712, 712, 716, 721, 721, 721, 726, 726, 726, 727, 735, 735, 735, 736, 736, 742, 742, 742, 744, 750, 750, 750, 752, 759, 759, 759, 759, 763, 763, 765, 765, 771, 771, 771, 774, 780, 780, 780, 782, 788, 788, 788, 791, 799, 799, 799, 800, 801, 806, 806, 810, 810, 816, 816, 816, 820, 823, 823, 823, 825, 833, 833, 833, 837, 837, 840, 840, 840, 844, 844, 848, 848, 854, 854, 854, 855, 861, 861, 861, 865, 870, 870, 870, 874, 874, 877, 877, 877, 882, 885, 885, 885, 891, 894, 894, 894, 899, 899, 899, 900, 908, 908, 908, 909, 909, 915, 915, 915, 917, 922, 922, 922, 926, 926, 926, 930, 936, 936, 936, 938, 938, 944, 944, 949, 949, 955, 955, 955, 956, 960, 962, 962, 966, 972, 972, 972, 973, 973, 979, 979, 983, 983, 989, 989, 989, 993, 993, 996, 996, 1000, 1000, 1000, 1004, 1009, 1009, 1009, 1011, 1011, 1017, 1017, 1020, 1021, 1026, 1026, 1026, 1030, 1034, 1034, 1034, 1038, 1043, 1043, 1043, 1047, 1047, 1050, 1050, 1050, 1055, 1055, 1058, 1058, 1064, 1064, 1064, 1065, 1071, 1071, 1071, 1075, 1075, 1078, 1078, 1078, 1082, 1082, 1086, 1086, 1092, 1095, 1095, 1095, 1099, 1099, 1099, 1105, 1109, 1109, 1109, 1110, 1112, 1116, 1118, 1122, 1122, 1128, 1128, 1128, 1129, 1129, 1135, 1135, 1139, 1139, 1139, 1143, 1143, 1146, 1146, 1152, 1152, 1156, 1156, 1159, 1159, 1165, 1165, 1165, 1167, 1173, 1173, 1173, 1176, 1182, 1182, 1182, 1184, 1184, 1190, 1190, 1193, 1194, 1199, 1199, 1199, 1203, 1203, 1206, 1206, 1210, 1210, 1210, 1214, 1214, 1217, 1218, 1221, 1221, 1227, 1227, 1227, 1231, 1234, 1234, 1234, 1234, 1244, 1244, 1244, 1248, 1248, 1251, 1251, 1251, 1255, 1255, 1259, 1259, 1265, 1265, 1265, 1266, 1268, 1272, 1272, 1278, 1278, 1278, 1279, 1279, 1285, 1285, 1291, 1291, 1291, 1292, 1292, 1296, 1296, 1302, 1302, 1306, 1306, 1306, 1309, 1315, 1315, 1315, 1319, 1323, 1323, 1329, 1329, 1332, 1332, 1338, 1338, 1338, 1340, 1340, 1345, 1345, 1349, 1349, 1349, 1353, 1353, 1356, 1357, 1362, 1362, 1366, 1366, 1366, 1367, 1368, 1373, 1373, 1377, 1383, 1383, 1383, 1384, 1384, 1390, 1390, 1394, 1394, 1400, 1400, 1400, 1404, 1404, 1407, 1407, 1407, 1411, 1411, 1415, 1415, 1415, 1418, 1418, 1422, 1422, 1428, 1428, 1428, 1429, 1429, 1429, 1429], [0, 0, 0, 0, 0, 0, 0, 0, 0, 0, 0, 0, 0, 0, 0, 0, 0, 0, 0, 0, 0, 0, 0, 0, 0, 0, 0, 0, 0, 0, 0, 0, 0, 0, 0, 0, 0, 0, 0, 0, 0, 0, 0, 0, 0, 0, 0, 0, 0, 0, 0, 0, 0, 0, 0, 0, 0, 0, 0, 0, 0, 0, 0, 0, 0, 0, 0, 0, 0, 0, 135, 135, 135, 139, 139, 139, 139, 149, 149, 149, 150, 150, 156, 156, 156, 156, 156, 163, 163, 163, 173, 173, 173, 173, 184, 184, 184, 184, 192, 192, 192, 192, 192, 192, 192, 192, 201, 201, 201, 201, 210, 210, 210, 214, 214, 214, 214, 214, 214, 214, 214, 214, 214, 214, 214, 214, 214, 214, 214, 214, 214, 214, 214, 214, 214, 214, 214, 214, 214, 214, 214, 214, 214, 274, 274, 274, 274, 284, 284, 284, 288, 288, 291, 291, 291, 295, 295, 299, 299, 305, 308, 308, 308, 312, 319, 319, 319, 323, 327, 327, 327, 333, 333, 333, 334, 341, 341, 341, 342, 342, 348, 348, 348, 350, 357, 357, 357, 359, 365, 365, 365, 365, 376, 376, 376, 376, 376, 376, 376, 376, 385, 385, 385, 387, 394, 394, 394, 398, 402, 402, 402, 406, 406, 406, 406, 406, 411, 411, 411, 415, 423, 423, 423, 424, 424, 430, 430, 434, 434, 440, 440, 440, 444, 447, 447, 447, 447, 458, 458, 458, 461, 468, 468, 468, 472, 476, 476, 476, 480, 480, 483, 483, 483, 489, 492, 492, 492, 497, 500, 500, 500, 506, 511, 511, 511, 515, 515, 515, 515, 525, 525, 525, 526, 526, 532, 532, 532, 534, 537, 539, 539, 543, 549, 549, 549, 551, 551, 551, 555, 555, 558, 558, 558, 562, 567, 567, 567, 571, 577, 577, 577, 579, 586, 586, 586, 590, 590, 590, 590, 590, 596, 596, 596, 599, 607, 607, 607, 608, 615, 615, 615, 618, 618, 624, 624, 626, 628, 632, 632, 632, 636, 641, 641, 641, 645, 650, 650, 650, 653, 660, 660, 660, 664, 664, 667, 667, 667, 671, 671, 675, 675, 681, 684, 684, 684, 688, 688, 688, 690, 698, 698, 698, 699, 699, 705, 705, 705, 707, 712, 712, 712, 716, 721, 721, 721, 726, 726, 726, 729, 735, 735, 735, 739, 739, 742, 742, 742, 746, 750, 750, 750, 752, 759, 759, 759, 763, 763, 763, 765, 765, 771, 771, 771, 774, 780, 780, 780, 782, 788, 788, 788, 791, 799, 799, 799, 800, 801, 806, 806, 810, 810, 816, 816, 816, 820, 823, 823, 823, 825, 833, 833, 833, 837, 837, 840, 840, 840, 844, 844, 848, 848, 854, 854, 854, 855, 861, 861, 861, 865, 870, 870, 870, 874, 874, 877, 878, 878, 882, 885, 885, 885, 891, 894, 894, 895, 899, 899, 899, 902, 908, 908, 908, 912, 912, 915, 915, 915, 919, 922, 922, 922, 926, 926, 926, 930, 936, 936, 936, 940, 940, 944, 944, 949, 949, 955, 955, 955, 956, 960, 962, 962, 966, 972, 972, 972, 973, 973, 979, 979, 983, 983, 989, 989, 989, 993, 993, 996, 996, 1000, 1000, 1000, 1004, 1009, 1009, 1009, 1013, 1013, 1017, 1017, 1020, 1021, 1026, 1026, 1026, 1030, 1034, 1034, 1034, 1038, 1043, 1043, 1043, 1047, 1047, 1050, 1051, 1051, 1055, 1055, 1058, 1058, 1064, 1064, 1064, 1068, 1071, 1071, 1071, 1075, 1075, 1078, 1079, 1084, 1084, 1084, 1088, 1088, 1092, 1095, 1095, 1096, 1099, 1099, 1099, 1105, 1109, 1109, 1109, 1113, 1113, 1116, 1118, 1122, 1122, 1128, 1128, 1128, 1129, 1129, 1135, 1135, 1139, 1139, 1139, 1143, 1143, 1146, 1146, 1152, 1152, 1156, 1156, 1159, 1159, 1165, 1165, 1165, 1169, 1173, 1173, 1173, 1176, 1182, 1182, 1182, 1186, 1186, 1190, 1190, 1193, 1194, 1199, 1199, 1199, 1203, 1203, 1206, 1207, 1210, 1210, 1210, 1214, 1214, 1217, 1218, 1223, 1223, 1227, 1227, 1227, 1231, 1234, 1234, 1235, 1240, 1244, 1244, 1244, 1248, 1248, 1251, 1252, 1257, 1257, 1257, 1261, 1261, 1265, 1265, 1265, 1269, 1269, 1272, 1272, 1278, 1278, 1278, 1279, 1285, 1285, 1285, 1291, 1291, 1292, 1292, 1292, 1296, 1296, 1302, 1302, 1306, 1309, 1309, 1309, 1315, 1315, 1315, 1319, 1323, 1323, 1329, 1329, 1332, 1332, 1338, 1338, 1338, 1342, 1342, 1345, 1345, 1349, 1349, 1349, 1353, 1353, 1356, 1357, 1362, 1362, 1366, 1366, 1366, 1370, 1370, 1373, 1373, 1379, 1383, 1383, 1383, 1387, 1387, 1390, 1390, 1396, 1396, 1400, 1400, 1400, 1404, 1404, 1407, 1408, 1413, 1413, 1413, 1417, 1417, 1420, 1420, 1424, 1424, 1424, 1428, 1428, 1431, 1432, 1435, 1435, 1441], [0, 0, 0, 0, 0, 0, 0, 0, 0, 0, 0, 0, 0, 0, 0, 0, 0, 0, 0, 0, 0, 0, 0, 0, 0, 0, 0, 0, 0, 0, 0, 0, 0, 0, 0, 0, 0, 0, 0, 0, 0, 0, 0, 0, 0, 0, 0, 0, 0, 0, 0, 0, 0, 0, 0, 0, 0, 0, 0, 0, 0, 0, 0, 0, 0, 0, 0, 0, 0, 0, 135, 135, 135, 139, 139, 139, 139, 149, 149, 149, 150, 150, 156, 156, 156, 156, 156, 163, 163, 163, 173, 173, 173, 173, 184, 184, 184, 184, 192, 192, 192, 192, 192, 192, 192, 192, 201, 201, 201, 201, 210, 210, 210, 214, 214, 221, 221, 221, 221, 221, 221, 221, 221, 221, 221, 221, 221, 221, 221, 221, 221, 221, 221, 221, 221, 221, 221, 221, 221, 221, 221, 221, 221, 274, 274, 274, 274, 284, 284, 284, 288, 288, 291, 291, 291, 295, 295, 299, 299, 305, 308, 308, 308, 312, 319, 319, 319, 323, 327, 327, 327, 333, 333, 333, 334, 341, 341, 341, 342, 342, 348, 348, 348, 350, 357, 357, 357, 359, 365, 365, 365, 365, 376, 376, 376, 376, 376, 377, 377, 377, 385, 385, 385, 387, 394, 394, 394, 398, 402, 405, 405, 406, 406, 413, 413, 413, 413, 413, 413, 415, 423, 423, 423, 424, 424, 431, 431, 434, 435, 440, 440, 440, 444, 447, 447, 447, 447, 458, 458, 458, 461, 468, 468, 468, 472, 476, 476, 476, 480, 480, 483, 483, 483, 489, 492, 492, 492, 497, 500, 500, 500, 506, 511, 511, 511, 515, 515, 515, 515, 525, 525, 525, 526, 526, 532, 532, 532, 534, 537, 540, 540, 543, 549, 549, 549, 551, 554, 554, 555, 555, 562, 562, 562, 563, 567, 569, 569, 571, 577, 578, 578, 579, 586, 586, 586, 590, 590, 597, 597, 597, 597, 597, 597, 599, 607, 607, 607, 608, 615, 615, 615, 618, 619, 624, 624, 626, 628, 632, 632, 632, 636, 641, 641, 641, 645, 650, 650, 650, 653, 660, 660, 660, 664, 664, 667, 667, 667, 671, 671, 675, 675, 681, 684, 684, 684, 688, 689, 689, 690, 698, 698, 698, 699, 701, 705, 705, 705, 707, 712, 713, 713, 716, 721, 721, 721, 726, 727, 732, 732, 735, 736, 736, 739, 739, 746, 746, 746, 747, 750, 753, 753, 753, 759, 759, 760, 763, 764, 770, 770, 770, 772, 772, 772, 776, 780, 780, 780, 782, 788, 788, 788, 791, 799, 799, 799, 800, 801, 807, 807, 810, 811, 816, 816, 816, 820, 823, 823, 823, 825, 833, 833, 833, 837, 837, 840, 840, 840, 844, 845, 848, 848, 854, 854, 854, 855, 861, 862, 862, 865, 870, 871, 871, 874, 874, 881, 881, 881, 885, 885, 888, 888, 891, 894, 894, 896, 899, 902, 905, 905, 908, 909, 909, 912, 912, 919, 919, 919, 920, 922, 926, 926, 926, 928, 933, 933, 936, 937, 942, 942, 942, 947, 947, 949, 950, 956, 956, 956, 960, 960, 963, 963, 966, 972, 972, 972, 973, 973, 980, 980, 983, 984, 989, 989, 989, 993, 993, 996, 996, 1000, 1001, 1001, 1004, 1009, 1009, 1009, 1013, 1013, 1020, 1020, 1020, 1021, 1026, 1027, 1027, 1031, 1034, 1037, 1037, 1038, 1043, 1044, 1044, 1047, 1047, 1054, 1054, 1054, 1058, 1058, 1061, 1061, 1064, 1065, 1065, 1069, 1071, 1075, 1075, 1075, 1076, 1082, 1082, 1084, 1086, 1091, 1091, 1091, 1095, 1095, 1098, 1099, 1099, 1103, 1106, 1106, 1109, 1112, 1115, 1115, 1116, 1120, 1120, 1122, 1123, 1129, 1129, 1129, 1133, 1133, 1136, 1136, 1139, 1140, 1143, 1143, 1143, 1147, 1147, 1152, 1152, 1157, 1157, 1159, 1161, 1165, 1165, 1165, 1170, 1173, 1176, 1176, 1176, 1182, 1182, 1183, 1186, 1187, 1193, 1193, 1193, 1194, 1199, 1200, 1200, 1204, 1204, 1210, 1210, 1210, 1214, 1214, 1217, 1217, 1221, 1221, 1223, 1225, 1230, 1230, 1230, 1234, 1234, 1238, 1238, 1241, 1244, 1247, 1247, 1248, 1251, 1255, 1255, 1257, 1259, 1264, 1264, 1264, 1268, 1268, 1271, 1272, 1272, 1276, 1276, 1279, 1279, 1285, 1285, 1285, 1289, 1292, 1292, 1292, 1296, 1296, 1299, 1300, 1305, 1305, 1305, 1309, 1309, 1313, 1316, 1316, 1317, 1320, 1320, 1323, 1326, 1330, 1330, 1332, 1334, 1338, 1338, 1339, 1343, 1343, 1349, 1349, 1349, 1350, 1350, 1356, 1356, 1360, 1360, 1362, 1364, 1366, 1367, 1367, 1373, 1373, 1377, 1377, 1380, 1383, 1386, 1386, 1387, 1390, 1394, 1394, 1396, 1397, 1403, 1403, 1403, 1407, 1407, 1411, 1411, 1414, 1415, 1420, 1420, 1420, 1424, 1424, 1427, 1428, 1431, 1431, 1431, 1435, 1435, 1438, 1439, 1444], [0, 0, 0, 0, 0, 0, 0, 0, 0, 0, 0, 0, 0, 0, 0, 0, 0, 0, 0, 0, 0, 0, 0, 0, 0, 0, 0, 0, 0, 0, 0, 0, 0, 0, 0, 0, 0, 0, 0, 0, 0, 0, 0, 0, 0, 0, 0, 0, 0, 0, 0, 0, 0, 0, 0, 0, 0, 0, 0, 0, 0, 0, 0, 0, 0, 0, 0, 0, 0, 0, 135, 135, 135, 139, 139, 139, 139, 149, 149, 149, 150, 150, 156, 156, 156, 156, 156, 163, 163, 163, 173, 173, 173, 173, 184, 184, 184, 184, 192, 192, 192, 192, 192, 192, 192, 192, 201, 201, 201, 201, 210, 210, 210, 214, 214, 221, 221, 221, 229, 229, 229, 229, 229, 229, 229, 229, 229, 229, 229, 229, 229, 229, 229, 229, 229, 229, 229, 229, 229, 229, 229, 229, 229, 274, 274, 274, 274, 284, 284, 284, 288, 288, 291, 291, 291, 295, 295, 299, 299, 305, 308, 308, 308, 312, 319, 319, 319, 323, 327, 327, 327, 333, 333, 333, 334, 341, 341, 341, 342, 342, 348, 348, 348, 350, 357, 357, 357, 359, 365, 365, 365, 368, 376, 376, 376, 378, 378, 378, 379, 379, 385, 385, 385, 387, 394, 394, 394, 398, 402, 405, 405, 406, 413, 413, 413, 413, 421, 421, 421, 421, 423, 423, 423, 424, 430, 431, 431, 434, 439, 440, 440, 443, 444, 450, 450, 450, 450, 458, 458, 458, 461, 468, 468, 468, 472, 476, 476, 476, 480, 480, 483, 483, 483, 489, 492, 492, 492, 497, 500, 500, 500, 506, 511, 511, 511, 515, 515, 515, 517, 525, 525, 525, 526, 526, 532, 532, 532, 534, 537, 540, 540, 543, 549, 549, 549, 552, 556, 556, 556, 562, 562, 562, 563, 570, 570, 570, 571, 571, 577, 578, 578, 579, 586, 586, 586, 590, 594, 597, 597, 597, 605, 605, 605, 605, 607, 607, 607, 608, 615, 615, 615, 618, 623, 624, 624, 627, 631, 634, 634, 635, 636, 642, 642, 642, 645, 650, 650, 650, 653, 660, 660, 660, 664, 664, 667, 667, 667, 671, 671, 675, 675, 681, 684, 684, 684, 688, 689, 689, 690, 698, 698, 698, 701, 705, 705, 705, 709, 709, 712, 713, 713, 718, 721, 721, 721, 726, 729, 732, 732, 735, 740, 740, 740, 744, 746, 746, 746, 754, 754, 754, 755, 755, 761, 761, 761, 763, 766, 770, 770, 772, 778, 778, 778, 780, 783, 783, 784, 784, 791, 791, 791, 792, 799, 799, 799, 800, 806, 807, 807, 810, 815, 816, 816, 819, 820, 826, 826, 826, 826, 833, 833, 833, 837, 837, 840, 840, 844, 844, 845, 848, 848, 854, 854, 855, 857, 861, 862, 862, 865, 870, 871, 871, 874, 879, 881, 881, 882, 889, 889, 889, 893, 893, 896, 896, 896, 900, 902, 905, 905, 910, 913, 913, 913, 917, 919, 919, 919, 927, 927, 927, 928, 930, 934, 934, 934, 936, 941, 942, 942, 945, 950, 950, 950, 955, 956, 961, 961, 964, 965, 965, 968, 968, 975, 975, 975, 976, 979, 982, 982, 983, 988, 989, 989, 992, 993, 999, 999, 999, 1001, 1001, 1001, 1005, 1009, 1009, 1009, 1013, 1017, 1020, 1020, 1020, 1028, 1028, 1028, 1029, 1031, 1036, 1037, 1039, 1040, 1045, 1045, 1045, 1049, 1052, 1054, 1054, 1054, 1062, 1062, 1062, 1066, 1066, 1069, 1069, 1069, 1073, 1075, 1077, 1077, 1083, 1083, 1083, 1084, 1090, 1091, 1091, 1094, 1099, 1100, 1100, 1103, 1103, 1110, 1110, 1110, 1114, 1114, 1117, 1117, 1120, 1123, 1123, 1125, 1128, 1131, 1134, 1134, 1137, 1138, 1138, 1141, 1141, 1148, 1148, 1148, 1149, 1151, 1155, 1155, 1155, 1157, 1162, 1162, 1165, 1166, 1171, 1171, 1171, 1176, 1176, 1178, 1179, 1185, 1185, 1185, 1189, 1189, 1193, 1193, 1195, 1201, 1201, 1201, 1202, 1204, 1209, 1210, 1212, 1213, 1218, 1218, 1218, 1222, 1222, 1225, 1225, 1229, 1230, 1230, 1233, 1238, 1238, 1238, 1242, 1242, 1249, 1249, 1249, 1250, 1255, 1256, 1256, 1260, 1263, 1266, 1266, 1267, 1272, 1273, 1273, 1276, 1276, 1283, 1283, 1283, 1287, 1287, 1290, 1290, 1293, 1294, 1294, 1298, 1300, 1304, 1304, 1304, 1305, 1311, 1311, 1313, 1315, 1320, 1320, 1320, 1324, 1324, 1327, 1328, 1328, 1332, 1335, 1335, 1338, 1341, 1344, 1344, 1345, 1349, 1349, 1351, 1352, 1358, 1358, 1358, 1362, 1362, 1365, 1365, 1368, 1369, 1372, 1372, 1373, 1376, 1377, 1381, 1381, 1386, 1386, 1388, 1390, 1394, 1394, 1394, 1399, 1402, 1405, 1405, 1405, 1411, 1411, 1412, 1415, 1416, 1422, 1422, 1422, 1423, 1428, 1429, 1429, 1433, 1433, 1439, 1439, 1439, 1443, 1443, 1446, 1446], [0, 0, 0, 0, 0, 0, 0, 0, 0, 0, 0, 0, 0, 0, 0, 0, 0, 0, 0, 0, 0, 0, 0, 0, 0, 0, 0, 0, 0, 0, 0, 0, 0, 0, 0, 0, 0, 0, 0, 0, 0, 0, 0, 0, 0, 0, 0, 0, 0, 0, 0, 0, 0, 0, 0, 0, 0, 0, 0, 0, 0, 0, 0, 0, 0, 0, 0, 0, 0, 0, 135, 135, 135, 139, 139, 139, 139, 149, 149, 149, 150, 150, 156, 156, 156, 156, 156, 163, 163, 163, 173, 173, 173, 173, 184, 184, 184, 184, 192, 192, 192, 192, 192, 192, 192, 192, 201, 201, 201, 201, 210, 210, 210, 214, 214, 221, 221, 221, 229, 229, 240, 240, 240, 240, 240, 240, 240, 240, 240, 240, 240, 240, 240, 240, 240, 240, 240, 240, 240, 240, 240, 240, 240, 274, 274, 274, 274, 284, 284, 284, 288, 288, 291, 291, 291, 295, 295, 299, 299, 305, 308, 308, 308, 312, 319, 319, 319, 323, 327, 327, 327, 333, 333, 333, 334, 341, 341, 341, 342, 342, 348, 348, 348, 350, 357, 357, 357, 359, 365, 365, 375, 375, 376, 379, 379, 379, 379, 389, 389, 389, 390, 390, 396, 396, 396, 396, 396, 403, 403, 405, 413, 413, 413, 413, 424, 424, 424, 424, 432, 432, 432, 432, 432, 432, 432, 432, 441, 441, 441, 441, 450, 450, 450, 454, 454, 461, 461, 461, 469, 469, 469, 469, 469, 469, 472, 476, 476, 476, 480, 480, 483, 483, 483, 489, 492, 492, 492, 497, 500, 500, 500, 506, 511, 514, 514, 515, 515, 524, 524, 525, 528, 528, 531, 531, 532, 535, 535, 539, 539, 545, 548, 548, 549, 552, 559, 559, 559, 563, 567, 567, 567, 573, 573, 573, 574, 581, 581, 581, 582, 582, 588, 588, 588, 590, 597, 597, 597, 599, 605, 605, 605, 608, 616, 616, 616, 618, 618, 618, 619, 619, 625, 625, 625, 627, 634, 634, 634, 638, 642, 645, 645, 646, 653, 653, 653, 653, 661, 661, 661, 661, 663, 663, 664, 664, 670, 671, 671, 674, 679, 680, 680, 683, 684, 690, 690, 690, 690, 698, 698, 698, 701, 708, 708, 708, 712, 716, 716, 716, 720, 720, 723, 723, 723, 729, 732, 732, 732, 737, 740, 740, 740, 746, 751, 751, 751, 755, 755, 755, 757, 765, 765, 765, 766, 766, 772, 772, 772, 774, 777, 780, 780, 783, 789, 789, 789, 792, 796, 796, 796, 802, 802, 802, 803, 810, 810, 810, 811, 811, 817, 818, 818, 819, 826, 826, 826, 830, 834, 837, 837, 837, 845, 845, 845, 845, 847, 847, 847, 848, 855, 855, 855, 858, 863, 864, 864, 867, 871, 874, 874, 875, 876, 882, 882, 882, 885, 890, 890, 890, 893, 900, 900, 900, 904, 904, 907, 907, 907, 911, 911, 915, 915, 921, 924, 924, 924, 928, 929, 929, 930, 938, 938, 938, 941, 945, 945, 945, 949, 949, 952, 953, 953, 958, 961, 961, 961, 966, 969, 972, 972, 975, 980, 980, 980, 984, 986, 986, 986, 994, 994, 994, 995, 995, 1001, 1001, 1001, 1003, 1006, 1010, 1010, 1012, 1018, 1018, 1018, 1020, 1023, 1023, 1024, 1024, 1031, 1031, 1031, 1032, 1039, 1039, 1039, 1040, 1046, 1047, 1047, 1050, 1055, 1056, 1056, 1059, 1060, 1066, 1066, 1066, 1066, 1073, 1073, 1073, 1077, 1077, 1080, 1080, 1084, 1084, 1085, 1088, 1088, 1094, 1094, 1095, 1097, 1101, 1102, 1102, 1105, 1110, 1111, 1111, 1114, 1119, 1121, 1121, 1122, 1129, 1129, 1129, 1133, 1133, 1136, 1136, 1136, 1140, 1142, 1145, 1145, 1150, 1153, 1153, 1153, 1157, 1159, 1159, 1159, 1167, 1167, 1167, 1168, 1170, 1174, 1174, 1174, 1176, 1181, 1182, 1182, 1185, 1190, 1190, 1190, 1195, 1196, 1201, 1201, 1204, 1205, 1205, 1208, 1208, 1215, 1215, 1215, 1216, 1219, 1222, 1222, 1223, 1228, 1229, 1229, 1232, 1233, 1239, 1239, 1239, 1241, 1241, 1241, 1245, 1249, 1249, 1249, 1253, 1257, 1260, 1260, 1260, 1268, 1268, 1268, 1269, 1271, 1276, 1277, 1279, 1280, 1285, 1285, 1285, 1289, 1292, 1294, 1294, 1294, 1302, 1302, 1302, 1306, 1306, 1309, 1309, 1309, 1313, 1315, 1317, 1317, 1323, 1323, 1323, 1324, 1330, 1331, 1331, 1334, 1339, 1340, 1340, 1343, 1343, 1350, 1350, 1350, 1354, 1354, 1357, 1357, 1360, 1363, 1363, 1365, 1368, 1371, 1374, 1374, 1377, 1378, 1378, 1381, 1381, 1388, 1388, 1388, 1389, 1391, 1395, 1395, 1395, 1397, 1402, 1402, 1405, 1406, 1411, 1411, 1411, 1416, 1416, 1418, 1419, 1425, 1425, 1425, 1429, 1429, 1433, 1433, 1435, 1441, 1441, 1441, 1442, 1444, 1449, 1450, 1452, 1453, 1458, 1458]]\n"
          ]
        }
      ]
    }
  ]
}