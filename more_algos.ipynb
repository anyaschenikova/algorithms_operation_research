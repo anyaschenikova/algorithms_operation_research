{
  "cells": [
    {
      "cell_type": "code",
      "execution_count": null,
      "metadata": {
        "id": "eEGdYzlU4SmG"
      },
      "outputs": [],
      "source": [
        "import numpy as np\n",
        "import networkx as nx\n",
        "from collections import defaultdict\n",
        "import time\n",
        "import math\n",
        "import random\n",
        "import matplotlib.pyplot as plt"
      ]
    },
    {
      "cell_type": "code",
      "source": [
        "!wget https://www.dropbox.com/s/slalpfiuvonzvgi/_sorting_algorithms.so?dl=0 -O _sorting_algorithms.so"
      ],
      "metadata": {
        "colab": {
          "base_uri": "https://localhost:8080/"
        },
        "id": "ZBrR3u-Yf-SN",
        "outputId": "1f99a60c-aab4-4bcc-870b-27e678d11f69"
      },
      "execution_count": null,
      "outputs": [
        {
          "output_type": "stream",
          "name": "stdout",
          "text": [
            "--2022-04-01 12:12:27--  https://www.dropbox.com/s/slalpfiuvonzvgi/_sorting_algorithms.so?dl=0\n",
            "Resolving www.dropbox.com (www.dropbox.com)... 162.125.6.18, 2620:100:6019:18::a27d:412\n",
            "Connecting to www.dropbox.com (www.dropbox.com)|162.125.6.18|:443... connected.\n",
            "HTTP request sent, awaiting response... 301 Moved Permanently\n",
            "Location: /s/raw/slalpfiuvonzvgi/_sorting_algorithms.so [following]\n",
            "--2022-04-01 12:12:27--  https://www.dropbox.com/s/raw/slalpfiuvonzvgi/_sorting_algorithms.so\n",
            "Reusing existing connection to www.dropbox.com:443.\n",
            "HTTP request sent, awaiting response... 302 Found\n",
            "Location: https://ucb736838eb6f5207c67150735cc.dl.dropboxusercontent.com/cd/0/inline/BimmtfKrFu-B1i3zN9Tnrkl4WC_ApJN_FvlopRvK9vubAGuseepAg9UTyevf5ft5Z6LxfbPlpPyNnbxwG41MaY97bJRBjeXBBKll6ZYniCOnZwq2IJnsalxmz7VPOYDV-4_rFqjKqo18DgERT_a5WUCQWEBf2ApHssgO4PtMQ0Ynhw/file# [following]\n",
            "--2022-04-01 12:12:27--  https://ucb736838eb6f5207c67150735cc.dl.dropboxusercontent.com/cd/0/inline/BimmtfKrFu-B1i3zN9Tnrkl4WC_ApJN_FvlopRvK9vubAGuseepAg9UTyevf5ft5Z6LxfbPlpPyNnbxwG41MaY97bJRBjeXBBKll6ZYniCOnZwq2IJnsalxmz7VPOYDV-4_rFqjKqo18DgERT_a5WUCQWEBf2ApHssgO4PtMQ0Ynhw/file\n",
            "Resolving ucb736838eb6f5207c67150735cc.dl.dropboxusercontent.com (ucb736838eb6f5207c67150735cc.dl.dropboxusercontent.com)... 162.125.7.15, 2620:100:6019:15::a27d:40f\n",
            "Connecting to ucb736838eb6f5207c67150735cc.dl.dropboxusercontent.com (ucb736838eb6f5207c67150735cc.dl.dropboxusercontent.com)|162.125.7.15|:443... connected.\n",
            "HTTP request sent, awaiting response... 302 Found\n",
            "Location: /cd/0/inline2/BikkVifUc47wosLYJlZ3yEJzknpuwnsTC5Y-_BOjgptbVXRdO52GsTNpJ1udFd74tj7CWAcEWF8C_Xoq0Xjz-p44r3vyM2T9uMVgrKfvwSdOSpDxRtixbPGdnBvWh83OhbwvC2N9ZIGwHQAHWobv65d9cOH0U7oGOuTCpMJSJUr82MyNcSPTV9wcvYSns_xLt2sVWb8s2sQNfac24M1UeouOCQs9ft_rwPp0jbPmaRKfluYZlEZ0WZaAB8SJFKfePT3XdCc51nhN6WzKlarqL7aTuTu48F_4EHq1RvZKbzCfBu1lAQFkvaTgqtnXYDHs2JvL2p2jdBIwMsmdT9WVRCkG22RveVOec7uMnHhuXUgyidiZslsFBCMmWivEWeGZqkp9DjWjwd7-x6E8BpLfYeZyGy_4CReHHqXPZP0gVSYxvQ/file [following]\n",
            "--2022-04-01 12:12:28--  https://ucb736838eb6f5207c67150735cc.dl.dropboxusercontent.com/cd/0/inline2/BikkVifUc47wosLYJlZ3yEJzknpuwnsTC5Y-_BOjgptbVXRdO52GsTNpJ1udFd74tj7CWAcEWF8C_Xoq0Xjz-p44r3vyM2T9uMVgrKfvwSdOSpDxRtixbPGdnBvWh83OhbwvC2N9ZIGwHQAHWobv65d9cOH0U7oGOuTCpMJSJUr82MyNcSPTV9wcvYSns_xLt2sVWb8s2sQNfac24M1UeouOCQs9ft_rwPp0jbPmaRKfluYZlEZ0WZaAB8SJFKfePT3XdCc51nhN6WzKlarqL7aTuTu48F_4EHq1RvZKbzCfBu1lAQFkvaTgqtnXYDHs2JvL2p2jdBIwMsmdT9WVRCkG22RveVOec7uMnHhuXUgyidiZslsFBCMmWivEWeGZqkp9DjWjwd7-x6E8BpLfYeZyGy_4CReHHqXPZP0gVSYxvQ/file\n",
            "Reusing existing connection to ucb736838eb6f5207c67150735cc.dl.dropboxusercontent.com:443.\n",
            "HTTP request sent, awaiting response... 200 OK\n",
            "Length: 842488 (823K) [application/octet-stream]\n",
            "Saving to: ‘_sorting_algorithms.so’\n",
            "\n",
            "_sorting_algorithms 100%[===================>] 822.74K  2.19MB/s    in 0.4s    \n",
            "\n",
            "2022-04-01 12:12:28 (2.19 MB/s) - ‘_sorting_algorithms.so’ saved [842488/842488]\n",
            "\n"
          ]
        }
      ]
    },
    {
      "cell_type": "code",
      "source": [
        "!wget https://www.dropbox.com/s/4zci1uc73za3k02/sorting_algorithms.py?dl=0 -O sorting_algorithms.py"
      ],
      "metadata": {
        "colab": {
          "base_uri": "https://localhost:8080/"
        },
        "id": "KSsMSwr7f5zj",
        "outputId": "4beff483-4dee-455a-e2f5-d2c070ab2b64"
      },
      "execution_count": null,
      "outputs": [
        {
          "output_type": "stream",
          "name": "stdout",
          "text": [
            "--2022-04-01 12:12:29--  https://www.dropbox.com/s/4zci1uc73za3k02/sorting_algorithms.py?dl=0\n",
            "Resolving www.dropbox.com (www.dropbox.com)... 162.125.6.18, 2620:100:6019:18::a27d:412\n",
            "Connecting to www.dropbox.com (www.dropbox.com)|162.125.6.18|:443... connected.\n",
            "HTTP request sent, awaiting response... 301 Moved Permanently\n",
            "Location: /s/raw/4zci1uc73za3k02/sorting_algorithms.py [following]\n",
            "--2022-04-01 12:12:29--  https://www.dropbox.com/s/raw/4zci1uc73za3k02/sorting_algorithms.py\n",
            "Reusing existing connection to www.dropbox.com:443.\n",
            "HTTP request sent, awaiting response... 302 Found\n",
            "Location: https://uc09638ac140408cd3ca4abebc8b.dl.dropboxusercontent.com/cd/0/inline/BilZZcByd_caIrb5pKczr6EunlfdFekW-XPQh5LMrEM4QdKAE5iiMpsqzq23T5AharPvPuj7HxE00VdUihbcGpOiV2ttuNbzYM5arxx2v2zvqeZLUYvVqBhWXSZ11NIj962j89SQx8FNKLmEPVDihtoHZCfHKRGe9st4Z0V9FK0uBA/file# [following]\n",
            "--2022-04-01 12:12:29--  https://uc09638ac140408cd3ca4abebc8b.dl.dropboxusercontent.com/cd/0/inline/BilZZcByd_caIrb5pKczr6EunlfdFekW-XPQh5LMrEM4QdKAE5iiMpsqzq23T5AharPvPuj7HxE00VdUihbcGpOiV2ttuNbzYM5arxx2v2zvqeZLUYvVqBhWXSZ11NIj962j89SQx8FNKLmEPVDihtoHZCfHKRGe9st4Z0V9FK0uBA/file\n",
            "Resolving uc09638ac140408cd3ca4abebc8b.dl.dropboxusercontent.com (uc09638ac140408cd3ca4abebc8b.dl.dropboxusercontent.com)... 162.125.7.15, 2620:100:6019:15::a27d:40f\n",
            "Connecting to uc09638ac140408cd3ca4abebc8b.dl.dropboxusercontent.com (uc09638ac140408cd3ca4abebc8b.dl.dropboxusercontent.com)|162.125.7.15|:443... connected.\n",
            "HTTP request sent, awaiting response... 200 OK\n",
            "Length: 14760 (14K) [text/plain]\n",
            "Saving to: ‘sorting_algorithms.py’\n",
            "\n",
            "sorting_algorithms. 100%[===================>]  14.41K  --.-KB/s    in 0s      \n",
            "\n",
            "2022-04-01 12:12:30 (231 MB/s) - ‘sorting_algorithms.py’ saved [14760/14760]\n",
            "\n"
          ]
        }
      ]
    },
    {
      "cell_type": "code",
      "source": [
        "import sorting_algorithms"
      ],
      "metadata": {
        "id": "zPzesRa-g7Yb"
      },
      "execution_count": null,
      "outputs": []
    },
    {
      "cell_type": "code",
      "source": [
        "vec = sorting_algorithms.intVecVector([[1001, 3, 5], [1001, 3, 4], [922, 4, 6]])"
      ],
      "metadata": {
        "id": "dbGwpQYjhXx-"
      },
      "execution_count": null,
      "outputs": []
    },
    {
      "cell_type": "code",
      "source": [
        "sorting_algorithms.bucket_sort(vec)"
      ],
      "metadata": {
        "colab": {
          "base_uri": "https://localhost:8080/"
        },
        "id": "ZWO64NOTppcp",
        "outputId": "dbff47f8-5d34-4746-9f3a-61c2667e7547"
      },
      "execution_count": null,
      "outputs": [
        {
          "output_type": "execute_result",
          "data": {
            "text/plain": [
              "((922, 4, 6), (1001, 3, 5), (1001, 3, 4))"
            ]
          },
          "metadata": {},
          "execution_count": 4
        }
      ]
    },
    {
      "cell_type": "markdown",
      "metadata": {
        "id": "sD1wC1Wc4YHf"
      },
      "source": [
        "## Генераторы графов"
      ]
    },
    {
      "cell_type": "code",
      "execution_count": null,
      "metadata": {
        "id": "grFeMbi25Zi3"
      },
      "outputs": [],
      "source": [
        "# функция возвращает случайный простой граф в моделе Gnp \n",
        "# вероятность ребра p = 2*m/(n*(n-1)), чтобы среденее число ребер было = m\n",
        "# структура хранения - список смежности, реализованный через словарь (хеш-таблица) списков \n",
        "# ребра представляют собой tuple двух вершин\n",
        "def get_random_simple_Gnp_graph(n, m, seed=42):\n",
        "  edge_p = 2*m/(n*(n-1))\n",
        "  g = nx.random_graphs.fast_gnp_random_graph(n,edge_p,seed)\n",
        "  \n",
        "  return nx.convert.to_dict_of_lists(g)"
      ]
    },
    {
      "cell_type": "code",
      "execution_count": null,
      "metadata": {
        "id": "ENCnp0CN-veo"
      },
      "outputs": [],
      "source": [
        "# функция возвращает случайный ориентированный граф в моделе Gnp \n",
        "# вероятность ребра p = m/(n*(n-1)), чтобы среденее число ребер было = m\n",
        "# структура хранения - список смежности, реализованный через словарь (хеш-таблица) списков \n",
        "# ребра представляют собой tuple двух вершин\n",
        "def get_random_Gnp_digraph(n, m, seed=42):\n",
        "  edge_p = m/(n*(n-1))\n",
        "  g = nx.random_graphs.fast_gnp_random_graph(n,edge_p,seed,True)\n",
        "  \n",
        "  return nx.convert.to_dict_of_lists(g)"
      ]
    },
    {
      "cell_type": "code",
      "execution_count": null,
      "metadata": {
        "id": "RT_M3XlFLMnS"
      },
      "outputs": [],
      "source": [
        "# функция возвращает случайный простой граф в моделе Gnm \n",
        "# структура хранения - список смежности, реализованный через словарь (хеш-таблица) списков \n",
        "# ребра представляют собой tuple двух вершин\n",
        "def get_random_simple_Gnm_graph(n, m, seed=42):\n",
        "  g = nx.random_graphs.gnm_random_graph(n,m,seed)\n",
        "\n",
        "  return nx.convert.to_dict_of_lists(g)"
      ]
    },
    {
      "cell_type": "code",
      "execution_count": null,
      "metadata": {
        "id": "6bTLnJy9LiwE"
      },
      "outputs": [],
      "source": [
        "# функция возвращает случайный ориентированный граф в моделе Gnm\n",
        "# структура хранения - список смежности, реализованный через словарь (хеш-таблица) списков \n",
        "# ребра представляют собой tuple двух вершин\n",
        "def get_random_Gnm_digraph(n, m, seed=42):\n",
        "  g = nx.random_graphs.gnm_random_graph(n,m,seed,True)\n",
        "\n",
        "  return nx.convert.to_dict_of_lists(g)"
      ]
    },
    {
      "cell_type": "code",
      "execution_count": null,
      "metadata": {
        "id": "qXpwNkSmUvPN"
      },
      "outputs": [],
      "source": [
        "# функция возвращает связный ориентированный Ейлеров граф\n",
        "# в графе n вершин, k - параметр, от которого зависти генерация\n",
        "# структура хранения - список смежности, реализованный через словарь (хеш-таблица) списков \n",
        "# ребра представляют собой tuple двух вершин\n",
        "def get_Euler_digraph(n, k=8):\n",
        "  in_degs, out_degs = [k]*n, [k]*n \n",
        "  G = nx.generators.directed_havel_hakimi_graph(in_degs, out_degs)\n",
        "  WCCs = list(nx.algorithms.components.weakly_connected_components(G))\n",
        "  if len(WCCs) > 1:\n",
        "    connecting_nodes = []\n",
        "    for WCC in WCCs:\n",
        "      some_vertex_of_WCC = next(iter(WCC))\n",
        "      connecting_nodes.append(some_vertex_of_WCC)\n",
        "    for i in range(1, len(connecting_nodes)):\n",
        "      G.add_edge(connecting_nodes[i-1],connecting_nodes[i])\n",
        "      G.add_edge(connecting_nodes[i],connecting_nodes[i-1])\n",
        "    \n",
        "  return nx.convert.to_dict_of_lists(G)"
      ]
    },
    {
      "cell_type": "code",
      "execution_count": null,
      "metadata": {
        "id": "jlCdHUkLCrUj"
      },
      "outputs": [],
      "source": [
        "# утилитарная функция, переводящая таплы вида (1, 0, 0, 1)\n",
        "# в числа, интерпетируя эту запись как число в двоичной записи\n",
        "# эта функция нужна для следующей функции\n",
        "def get_index_from_binary(tup):\n",
        "  n = len(tup)\n",
        "  mult = 1\n",
        "  res = 0\n",
        "  for i in range(n):\n",
        "    res += tup[i]*mult\n",
        "    mult *= 2\n",
        "  return res\n",
        "\n",
        "# функция возвращает связный ориентированный регулярный Ейлеров граф\n",
        "# входные и выходные степени всех вершин совпадают и равны half_dim\n",
        "# число вершин равно 4**half_dim\n",
        "# структура хранения - список смежности, реализованный через словарь (хеш-таблица) списков \n",
        "# ребра представляют собой tuple двух вершин\n",
        "def get_hypercube_digraph(half_dim):\n",
        "  G = nx.generators.hypercube_graph(half_dim*2)\n",
        "  directed_G = nx.DiGraph()\n",
        "  Euler_circuit_G = nx.algorithms.eulerian_circuit(G)\n",
        "  for (u,v) in Euler_circuit_G:\n",
        "    directed_G.add_edge(get_index_from_binary(u), get_index_from_binary(v))\n",
        "  return nx.convert.to_dict_of_lists(directed_G)"
      ]
    },
    {
      "cell_type": "markdown",
      "metadata": {
        "id": "iVqQjVxgfnzk"
      },
      "source": [
        "#Алгоритмы сортировки"
      ]
    },
    {
      "cell_type": "code",
      "execution_count": null,
      "metadata": {
        "id": "Ldgcuct_UQfo"
      },
      "outputs": [],
      "source": [
        "def counting_sort(a, ind=None):\n",
        "  A = [[int(el[ind]), el] for el in a]\n",
        "  digits = [int(el[ind]) for el in a]\n",
        "  result = [0 for _ in digits]\n",
        "  c = [0 for _ in range(max(digits)+1)]\n",
        "  for el in digits:\n",
        "    c[el] += 1\n",
        "  for i in range(1, len(c)):\n",
        "    c[i] += c[i-1]\n",
        "  for el in A[::-1]:\n",
        "    if c[el[0]] > 1:\n",
        "      pos = c[el[0]] - 1\n",
        "    else:\n",
        "      pos = 0\n",
        "    result[pos] = el[1]\n",
        "    c[el[0]] -= 1\n",
        "  return result"
      ]
    },
    {
      "cell_type": "code",
      "execution_count": null,
      "metadata": {
        "id": "lfxzEQsYfs-C"
      },
      "outputs": [],
      "source": [
        "# поразрядная сортировка\n",
        "# возвращает итоговую перестановку эелементов массива A\n",
        "# для того, чтобы можно было переставить элементы в любом другом массиве\n",
        "def radix_argsort(A):\n",
        "  max_len_of_el = max([len(str(el)) for el in A])\n",
        "  elements = []\n",
        "  for el in A:\n",
        "    elements.append(list(str(el).rjust(max_len_of_el, '0')))\n",
        "  for i in range(max_len_of_el):\n",
        "    elements = counting_sort(elements, max_len_of_el - i - 1)\n",
        "  result = [int(''.join(el)) for el in elements]\n",
        "  return result"
      ]
    },
    {
      "cell_type": "code",
      "execution_count": null,
      "metadata": {
        "id": "Jr5wmNumGipZ"
      },
      "outputs": [],
      "source": [
        "def insertion_sort(a):\n",
        "  arr = a.copy()\n",
        "  for i in range(1, len(arr)):\n",
        "    key = arr[i]\n",
        "    j = i-1\n",
        "    while j >= 0 and key < arr[j]:\n",
        "      arr[j + 1] = arr[j]\n",
        "      j -= 1\n",
        "    arr[j + 1] = key\n",
        "  return arr"
      ]
    },
    {
      "cell_type": "code",
      "execution_count": null,
      "metadata": {
        "id": "kaW51gQBf99y"
      },
      "outputs": [],
      "source": [
        "# карманная сортировка\n",
        "# возвращает итоговую перестановку эелементов массива A\n",
        "# для того, чтобы можно было переставить элементы в любом другом массиве\n",
        "def bucket_argsort(A):\n",
        "  if len(A) <= 1:\n",
        "    return A\n",
        "  n_buckets = len(A)\n",
        "  buckets = [[] for i in range(n_buckets)] \n",
        "  result = []\n",
        "  if max(A) == 0:\n",
        "    return A\n",
        "  for el in A:\n",
        "    bucket_idx = int((el - min(A)) / max(A) * n_buckets)\n",
        "    buckets[bucket_idx].append(el) \n",
        "  for bucket in buckets:\n",
        "    bucket = insertion_sort(bucket)\n",
        "    result.extend(bucket)\n",
        "  return result"
      ]
    },
    {
      "cell_type": "code",
      "execution_count": null,
      "metadata": {
        "id": "2Xrh676Tf-WC"
      },
      "outputs": [],
      "source": [
        "# быстрая сортировка\n",
        "# возвращает итоговую перестановку эелементов массива A\n",
        "# для того, чтобы можно было переставить элементы в любом другом массиве\n",
        "from random import randint\n",
        "def partition(A, start, end, pivot):\n",
        "    i = (start - 1)\n",
        "    for j in range(start, end):\n",
        "        if (A[j] <= pivot):\n",
        "            i += 1\n",
        "            A[i], A[j] = A[j], A[i]\n",
        "    A[i + 1], A[end] = A[end], A[i + 1]\n",
        "    return (i + 1)\n",
        "\n",
        "\n",
        "def bubble_sort(A, start, end):\n",
        "  for i in range(start, end):\n",
        "    for j in range(i, end):\n",
        "      # print(A[j], A[i])\n",
        "      if A[i] > A[j]:\n",
        "        A[i], A[j] = A[j], A[i]\n",
        "  # print(A)\n",
        "\n",
        "\n",
        "def quick_argsort(A, start=0, end=None):\n",
        "  if end == None:\n",
        "    end = len(A) - 1\n",
        "  if end - start >= 10:\n",
        "    pivot_index = randint(start, end)\n",
        "    lmbd = A[pivot_index]\n",
        "    new_pos = partition(A, start, end, lmbd)\n",
        "    quick_argsort(A, start, new_pos)\n",
        "    quick_argsort(A, new_pos + 1, end)\n",
        "  else:\n",
        "    bubble_sort(A, start, end)"
      ]
    },
    {
      "cell_type": "markdown",
      "metadata": {
        "id": "VhHpfg4TdAZl"
      },
      "source": [
        "Test:"
      ]
    },
    {
      "cell_type": "code",
      "execution_count": null,
      "metadata": {
        "id": "Svse5LtsaBve"
      },
      "outputs": [],
      "source": [
        "from IPython.display import clear_output\n",
        "def bucket_sort_test():\n",
        "  for test_case in range(1000):\n",
        "    print(f'Test case № {test_case}')\n",
        "    l = [random.randint(0, 1000000000000000) if test_case % 2 else random.uniform(0, 1000000000000000) for k in range(1, random.randint(1, 1000))]\n",
        "    print(l)\n",
        "    sorted_l = sorted(l)\n",
        "    bucket_sorted_l = bucket_argsort(l)\n",
        "    assert sorted_l == bucket_sorted_l, (sorted_l, bucket_sorted_l)\n",
        "    clear_output(wait=True)"
      ]
    },
    {
      "cell_type": "code",
      "execution_count": null,
      "metadata": {
        "id": "OcweT4wlbcD5"
      },
      "outputs": [],
      "source": [
        "bucket_sort_test()"
      ]
    },
    {
      "cell_type": "markdown",
      "source": [
        "## C++ sort"
      ],
      "metadata": {
        "id": "qCVEBPmPtA1q"
      }
    },
    {
      "cell_type": "code",
      "source": [
        "def radix_argsort(A):\n",
        "  # new_A = []\n",
        "  # for el in A:\n",
        "  #   new_A.append([int(str(el[0])[:3]), el[1], el[2]])\n",
        "  vec = sorting_algorithms.intVecVector(A)\n",
        "  return sorting_algorithms.radix_sort(vec)"
      ],
      "metadata": {
        "id": "d5Yadp32tAIl"
      },
      "execution_count": null,
      "outputs": []
    },
    {
      "cell_type": "code",
      "source": [
        "def bucket_argsort(A):\n",
        "  vec = sorting_algorithms.intVecVector(A)\n",
        "  return sorting_algorithms.bucket_sort(vec)"
      ],
      "metadata": {
        "id": "roPFmWOWtKov"
      },
      "execution_count": null,
      "outputs": []
    },
    {
      "cell_type": "code",
      "source": [
        "def quick_argsort(A):\n",
        "  vec = sorting_algorithms.intVecVector(A)\n",
        "  return sorting_algorithms.quick_sort(vec, 0, vec.size())"
      ],
      "metadata": {
        "id": "1d3ABMN2tQgg"
      },
      "execution_count": null,
      "outputs": []
    },
    {
      "cell_type": "markdown",
      "metadata": {
        "id": "-2qavQiBBFv7"
      },
      "source": [
        "#Алгоритмы для поиска мостов"
      ]
    },
    {
      "cell_type": "markdown",
      "source": [
        "### Детерминированный алгоритм для мостов"
      ],
      "metadata": {
        "id": "rz4fnxOrgrqi"
      }
    },
    {
      "cell_type": "code",
      "execution_count": null,
      "metadata": {
        "id": "QBrNGrR9al5x"
      },
      "outputs": [],
      "source": [
        "def dfs_copy(v, graph, bridges, counter, color, M, t_st, parent):\n",
        "  color[v] = 'gray'\n",
        "  t_st[v] = counter\n",
        "  counter += 1\n",
        "  for u in graph[v]:\n",
        "    if color[u] == 'white':\n",
        "      parent[u] = v\n",
        "      dfs(u, graph, bridges, counter, color, M, t_st, parent)\n",
        "      M[v] = min(M[v], M[u])\n",
        "      if M[u] > t_st[v]:\n",
        "        if v > u:\n",
        "          bridges.append((u, v))\n",
        "        else:\n",
        "          bridges.append((v, u))\n",
        "    elif color[u] == 'gray' and parent[v] != u:\n",
        "      M[v] = min(M[v], t_st[u])\n",
        "  color[v] = 'black'"
      ]
    },
    {
      "cell_type": "code",
      "source": [
        "def dfs(v, graph, color, bridges, M, t_st):\n",
        "  color[v] = 'gray'\n",
        "  stack = []\n",
        "  first = {i: 0 for i in graph}\n",
        "  stack.append(v)\n",
        "  while len(stack)>0:\n",
        "    w = stack[-1]\n",
        "    t_st[w] = len(stack) - 1\n",
        "    if first[w] < len(graph[w]):\n",
        "      u = graph[w][first[w]]\n",
        "      if color[u] == 'white':\n",
        "        stack.append(u)\n",
        "        color[u] = 'gray'\n",
        "      elif color[u] == 'gray' and stack[-2]!=u:\n",
        "        M[w] = min(M[w], t_st[u])\n",
        "      first[w] += 1\n",
        "    elif len(stack) != 1:\n",
        "      parent = stack[-2]\n",
        "      M[parent] = min(M[parent], M[w])\n",
        "      if M[w] > t_st[parent]:\n",
        "        bridges.append((min(w, parent), max(w, parent)))\n",
        "      color[w] = 'black'\n",
        "      stack.pop(-1)\n",
        "    elif len(stack) == 1:\n",
        "      stack.pop(-1)"
      ],
      "metadata": {
        "id": "2443b0Q3Tc4j"
      },
      "execution_count": null,
      "outputs": []
    },
    {
      "cell_type": "code",
      "execution_count": null,
      "metadata": {
        "id": "3CssyQPh_L2i"
      },
      "outputs": [],
      "source": [
        "# детерминированный алгоритм для поиска мостов\n",
        "# на вход поступает граф представленный списком смежности\n",
        "# саписок представлен как словарь(хеш-таблица) списков\n",
        "# выход представляет собой список ребер, являющихся мостами \n",
        "def compute_bridges_determ(adj_list):\n",
        "  bridges = []\n",
        "  t_st = {}\n",
        "  M = {}\n",
        "  color = {i:'white' for i in adj_list}\n",
        "  M = {i:math.inf for i in adj_list}\n",
        "  for v in adj_list:\n",
        "    if (color[v]=='white'):\n",
        "      dfs(v, adj_list, color, bridges, M, t_st)\n",
        "  return set(bridges)"
      ]
    },
    {
      "cell_type": "markdown",
      "source": [
        "### Рандомизированный алгоритм для мостов"
      ],
      "metadata": {
        "id": "7qkI7ko1gwCt"
      }
    },
    {
      "cell_type": "code",
      "source": [
        "def weights2dict(w, u, weights_uni, weight):\n",
        "  if weight not in weights_uni:\n",
        "    weights_uni[weight] = [(min(u, w), max(u, w))]\n",
        "  else:\n",
        "    weights_uni[weight].append((min(u, w), max(u, w)))\n",
        "  return weights_uni"
      ],
      "metadata": {
        "id": "OzCC6H7mgu9L"
      },
      "execution_count": null,
      "outputs": []
    },
    {
      "cell_type": "code",
      "source": [
        "def edges2dict(w, u, weights_uni, weight):\n",
        "  if (min(u, w), max(u, w)) not in weights_uni:\n",
        "    weights_uni[(min(u, w), max(u, w))] = weight\n",
        "  return weights_uni"
      ],
      "metadata": {
        "id": "p2uxBPrnqr_M"
      },
      "execution_count": null,
      "outputs": []
    },
    {
      "cell_type": "code",
      "source": [
        "import random as c_rand\n",
        "\n",
        "def dfs_rand(v, graph, color, weights, bridges = None, task='bridge', weights_uni = None, sort_fun = None):\n",
        "  color[v] = 'gray'\n",
        "  stack = []\n",
        "  first = {i: 0 for i in graph}\n",
        "  stack.append(v)\n",
        "\n",
        "  while len(stack)>0:\n",
        "    w = stack[-1]\n",
        "\n",
        "    if first[w] < len(graph[w]):\n",
        "      u = graph[w][first[w]]\n",
        "\n",
        "      if color[u] == 'white':\n",
        "        stack.append(u)\n",
        "        color[u] = 'gray'\n",
        "\n",
        "      elif color[u] == 'gray' and stack[-2]!=u:\n",
        "        if u not in weights[w] and w not in weights[u]:\n",
        "          weights[w][u] = c_rand.getrandbits(31)\n",
        "          weights[u][w] = weights[w][u]\n",
        "\n",
        "          if task == '2-bridges':\n",
        "            if sort_fun == None:\n",
        "              weights_uni = weights2dict(w, u, weights_uni, weights[u][w])\n",
        "            else:\n",
        "              weights_uni = edges2dict(w, u, weights_uni, weights[u][w])\n",
        "\n",
        "      first[w] += 1\n",
        "\n",
        "    elif len(stack) != 1:\n",
        "      weight_updated = np.uint32(0)\n",
        "      parent = stack[-2]\n",
        "\n",
        "      for t in weights[w]:\n",
        "        weight_updated = weight_updated ^ np.uint32(weights[w][t])\n",
        "      weights[parent][w] = weight_updated\n",
        "      weights[w][parent] = weight_updated\n",
        "\n",
        "      if task == 'bridge':\n",
        "        if weights[parent][w] == 0:\n",
        "          bridges.append((min(parent, w), max(parent, w)))\n",
        "      else:\n",
        "        if sort_fun == None:\n",
        "          weights_uni = weights2dict(parent, w, weights_uni, weights[parent][w])\n",
        "        else:\n",
        "          weight_uni = edges2dict(parent, w, weights_uni, weights[parent][w])\n",
        "\n",
        "      color[w] = 'black'\n",
        "      stack.pop(-1)\n",
        "    elif len(stack) == 1:\n",
        "      stack.pop(-1)"
      ],
      "metadata": {
        "id": "n4qoSdRkEXIE"
      },
      "execution_count": null,
      "outputs": []
    },
    {
      "cell_type": "code",
      "source": [
        "def compute_bridges_rand(adj_list):\n",
        "  weights = {i:{} for i in adj_list}\n",
        "  color = {i:'white' for i in range(len(adj_list))}\n",
        "  bridges = []\n",
        "  \n",
        "  for v in adj_list:\n",
        "    if (color[v]=='white'):\n",
        "      dfs_rand(v, adj_list, color, weights, bridges)\n",
        "  return set(bridges)"
      ],
      "metadata": {
        "id": "oGnmGSo_0L6K"
      },
      "execution_count": null,
      "outputs": []
    },
    {
      "cell_type": "markdown",
      "source": [
        "### Pандомизированный алгоритм для поиска 2-мостов"
      ],
      "metadata": {
        "id": "8VKbXWkUg1aE"
      }
    },
    {
      "cell_type": "code",
      "execution_count": null,
      "metadata": {
        "id": "Bimj4itwJ0NR"
      },
      "outputs": [],
      "source": [
        "# рандомизированный алгоритм для поиска 2-мостов\n",
        "#\n",
        "# на вход поступает граф представленный списком смежности и алгоритм сортировки для меток на ребрах\n",
        "# список представлен как словарь(хеш-таблица) списков \n",
        "#\n",
        "# выходом алгоритма является список списков ребер\n",
        "# в каждом списке любая пара ребер должна с высокой вероятностью образовывать 2-мост\n",
        "# например, если выходом является спискок [[e1, e2, e3],[e4, e5]]\n",
        "# то с высокой вероятностью 2-мостами будут пары ребер: (e1,e2), (e1,e3), (e2,e3), (e4,e5)\n",
        "# ребра здесь это пары вершин типа e1 = (1,2)\n",
        "def compute_2bridges_rand(adj_list, sort_fun=None):\n",
        "  weights = {i:{} for i in adj_list}\n",
        "  color = {i:'white' for i in range(len(adj_list))}\n",
        "  edges = []\n",
        "  weights_uni = {}\n",
        "\n",
        "\n",
        "  for v in adj_list:\n",
        "    if (color[v]=='white'):\n",
        "      dfs_rand(v, adj_list, color, weights, task='2-bridges', \n",
        "               weights_uni=weights_uni, sort_fun=sort_fun)\n",
        "\n",
        "  if sort_fun == None:\n",
        "    for el in weights_uni:\n",
        "      if len(weights_uni[el])>1:\n",
        "        edges.append(weights_uni[el])\n",
        "  else:\n",
        "    edges_tuples = [[int(v), int(k[0]), int(k[1])] for k, v in weights_uni.items()]\n",
        "    sort_fun(edges_tuples)\n",
        "    current_weight = -1\n",
        "    new_list = []\n",
        "    for el in edges_tuples:\n",
        "      if current_weight != el[0]:\n",
        "        current_weight = el[0]\n",
        "        if len(new_list) > 1:\n",
        "          edges.append(new_list)\n",
        "        new_list = [(el[1], el[2])]\n",
        "      else:\n",
        "        new_list.append((el[1], el[2]))\n",
        "  return edges"
      ]
    },
    {
      "cell_type": "markdown",
      "metadata": {
        "id": "9a0jhn8IUcSF"
      },
      "source": [
        "#Эйлеровы циклы"
      ]
    },
    {
      "cell_type": "code",
      "execution_count": null,
      "metadata": {
        "id": "TU-Jmm_sJM4v"
      },
      "outputs": [],
      "source": [
        "def dfs_Euler(v, graph, color):\n",
        "  stack = []\n",
        "  stack.append(v)\n",
        "  while len(stack) > 0:\n",
        "    v = stack[-1]\n",
        "    found_vertex = False\n",
        "    color[v] = 'gray'\n",
        "    for u in graph[v]:\n",
        "      if color[u] == 'white':\n",
        "        found_vertex = True\n",
        "        stack.append(u)\n",
        "    if not found_vertex:\n",
        "      stack.pop()\n",
        "      color[v] = 'black'"
      ]
    },
    {
      "cell_type": "code",
      "execution_count": null,
      "metadata": {
        "id": "L6ysIsNli6B_"
      },
      "outputs": [],
      "source": [
        "def check(adj_list):\n",
        "  color = {i:'white' for i in range(len(adj_list))}\n",
        "\n",
        "  odd_vertex = 0\n",
        "  deg = {i:0 for i in adj_list}\n",
        "\n",
        "  for u in adj_list:\n",
        "    deg[u] += len(adj_list[u])\n",
        "    for w in adj_list[u]:\n",
        "      deg[w] += 1\n",
        "\n",
        "  for u in adj_list:\n",
        "    if deg[u] % 2 == 1:\n",
        "      odd_vertex += 1\n",
        "      \n",
        "  if odd_vertex > 0:\n",
        "    print('wtf?')\n",
        "    return False\n",
        "  \n",
        "  for vertex, neib in adj_list.items():\n",
        "    if len(neib) > 0:\n",
        "      dfs_Euler(vertex, adj_list, color)\n",
        "      break\n",
        "  for vertex, neib in adj_list.items():\n",
        "    if len(neib) > 0 and color[vertex] == 'white':\n",
        "      print('WTF BITCH')\n",
        "      return False\n",
        "  return True"
      ]
    },
    {
      "cell_type": "code",
      "execution_count": null,
      "metadata": {
        "id": "dCtrqokbUmvf"
      },
      "outputs": [],
      "source": [
        "# функция вычисляющая эйлеров обход для данного ориентированного графа G \n",
        "# цикл кодируется списком ребер, например:\n",
        "# (1,2), (2,4), (4, 7), (7,1)\n",
        "#\n",
        "def compute_Euler_circuit_digraph(adj_list):\n",
        "  stack = []\n",
        "  counter = 0\n",
        "  result = []\n",
        "  res = []\n",
        "  first = {i: 0 for i in adj_list}\n",
        "  visited = []\n",
        "\n",
        "  # if not check(adj_list):\n",
        "  #   print('Нельзя найти эйлеров обход')\n",
        "  #   return []\n",
        "\n",
        "  for vertex, neibor in adj_list.items():\n",
        "    if len(neibor) > 0:\n",
        "      V = vertex\n",
        "      break\n",
        "\n",
        "  stack.append(V)\n",
        "  while len(stack) > 0:\n",
        "    w = stack[-1]\n",
        "    if first[w] < len(adj_list[w]):\n",
        "      if (w, adj_list[w][first[w]]) not in visited:\n",
        "        stack.append(adj_list[w][first[w]])\n",
        "        visited.append((w, adj_list[w][first[w]]))\n",
        "      first[w] += 1 \n",
        "    else:\n",
        "      stack.pop(-1)\n",
        "      result.append(w)\n",
        "  result = result[::-1]\n",
        "  prev = result[0]\n",
        "  for i in range(1, len(result)):\n",
        "    res.append((prev, result[i]))\n",
        "    prev = result[i]\n",
        "  return res"
      ]
    },
    {
      "cell_type": "markdown",
      "metadata": {
        "id": "YayReqtzNMN8"
      },
      "source": [
        "# Арифметика в конечных кольцах и полях"
      ]
    },
    {
      "cell_type": "markdown",
      "source": [
        "## Расширенный алгоритм Евклида"
      ],
      "metadata": {
        "id": "-TZOeYrKjb9J"
      }
    },
    {
      "cell_type": "code",
      "execution_count": null,
      "metadata": {
        "id": "hp1OMqD1tkTn"
      },
      "outputs": [],
      "source": [
        "def gcd_extended(p,x):\n",
        "  if x == 0:\n",
        "    return p, 0, 1\n",
        "  _p, _a, _b = gcd_extended(x, p%x)\n",
        "  return _p, _b - (p//x) * _a , _a"
      ]
    },
    {
      "cell_type": "code",
      "execution_count": null,
      "metadata": {
        "id": "lmhOvc-rNS0c"
      },
      "outputs": [],
      "source": [
        "# эта функция инвертирует x в Zp с помощью алгоритма Евклида\n",
        "# выходом является целое число y, такое что\n",
        "# 1) 0 < y < p \n",
        "# 2) (xy) mod p = 1 \n",
        "# если число невозможно инвертировать, функция возвращает 0\n",
        "def invert_in_Zp_Euclead(p,x):\n",
        "  if p != 0 or p != 1 or x == 0:\n",
        "    gcd, a, _ = gcd_extended(p, x)\n",
        "    if gcd == 1:\n",
        "      return a % p\n",
        "  return 0"
      ]
    },
    {
      "cell_type": "markdown",
      "source": [
        "## Быстрое возведение в степерь по малой т.Ферма"
      ],
      "metadata": {
        "id": "cn9xQ4nFjf37"
      }
    },
    {
      "cell_type": "code",
      "execution_count": null,
      "metadata": {
        "id": "QAseJIyCs1xE"
      },
      "outputs": [],
      "source": [
        "def fast_power(p,x):\n",
        "  if p == 0:\n",
        "    return 1\n",
        "  elif p == 1:\n",
        "    return x\n",
        "  elif p & 1:\n",
        "    return fast_power(p >> 1, x*x) * x\n",
        "  return fast_power(p >> 1, x*x)"
      ]
    },
    {
      "cell_type": "code",
      "execution_count": null,
      "metadata": {
        "id": "e5XLlM4oOGcY"
      },
      "outputs": [],
      "source": [
        "# эта функция инвертирует x в Zp с помощью малой теоремы Ферма и алгоритма быстрого возведения в степень\n",
        "# выходом является целое число y, такое что\n",
        "# 1) 0 < y < p \n",
        "# 2) (xy) mod p = 1 \n",
        "# если число невозможно инвертировать, функция возвращает 0\n",
        "def invert_in_Zp_Ferma(p,x):\n",
        "  if p != 0 or p != 1 or x == 0:\n",
        "    if (fast_power(p-1, x) % p) == 1:\n",
        "      return (fast_power(p-2, x)) % p\n",
        "  return 0"
      ]
    },
    {
      "cell_type": "markdown",
      "metadata": {
        "id": "cC_5grG8GX1k"
      },
      "source": [
        "#Стресс тесты"
      ]
    },
    {
      "cell_type": "code",
      "execution_count": null,
      "metadata": {
        "id": "M2uTC7okGdcs"
      },
      "outputs": [],
      "source": [
        "def stress_test_bridges_determ(n, m, iterations_num=1000):\n",
        "  for i in range(iterations_num):\n",
        "    G = get_random_simple_Gnp_graph(n, m, i)\n",
        "    briges_test = compute_bridges_determ(G)\n",
        "    bridges_true = set(nx.algorithms.bridges(nx.Graph(G)))\n",
        "    diff = list(bridges_true.symmetric_difference(briges_test))\n",
        "    if len(diff) > 0:\n",
        "      raise Exception(f\"Неверное решение в детерминированном алгоритме поиска мостов, n: {n}, m: {m}, seed: {i}\")\n",
        "  print(f\"Стресс тест для детерминированного поиска мостов пройден!, n: {n}, m: {m}, iterations_num: {iterations_num}\")\n",
        "    "
      ]
    },
    {
      "cell_type": "code",
      "execution_count": null,
      "metadata": {
        "id": "GZL4RLYiPAds"
      },
      "outputs": [],
      "source": [
        "def stress_test_bridges_rand(n, m, iterations_num=1000):\n",
        "  exp_err = m * (1/ (2**64))\n",
        "  for i in range(iterations_num):\n",
        "    G = get_random_simple_Gnp_graph(n, m, i)\n",
        "    briges_test = compute_bridges_rand(G)\n",
        "    bridges_true = set(nx.algorithms.bridges(nx.Graph(G)))\n",
        "    diff = list(bridges_true.symmetric_difference(briges_test))\n",
        "    if len(diff) > exp_err:\n",
        "      raise Exception(f\"Число ошибок в рандомизированном алгоритме поиска мостов превышено, n: {n}, m: {m}, errors_num: {len(diff)}, seed: {i}\")\n",
        "  print(f\"Стресс тест для рандомизированного поиска мостов пройден!, n: {n}, m: {m}, iterations_num: {iterations_num}\")\n",
        "    "
      ]
    },
    {
      "cell_type": "code",
      "execution_count": null,
      "metadata": {
        "id": "LKOqFG31Nfje"
      },
      "outputs": [],
      "source": [
        "def stress_test_finite_fields(p = 2**61-1, iterations_num = 100000):\n",
        "  for i in range(iterations_num):\n",
        "    x = np.random.randint(1, p)\n",
        "    inverse_Euclead_x = invert_in_Zp_Euclead(p,x)\n",
        "    inverse_Ferma_x = invert_in_Zp_Ferma(p,x)\n",
        "    if( np.gcd(p,x) == 1 ):\n",
        "      if (x * inverse_Euclead_x - 1) % p != 0:\n",
        "        raise Exception(f\"Неправильное инвертирование алгоритмом Евклида, p: {p}, x: {x}\")\n",
        "      if (x * inverse_Ferma_x - 1) % p != 0:\n",
        "        raise Exception(f\"Неправильное инвертирование алгоритмом быстрого возведения в степень, p: {p}, x: {x}\")\n",
        "    else :\n",
        "      if inverse_Euclead_x != 0:\n",
        "        raise Exception(f\"Неправильное инвертирование алгоритмом Евклида, p: {p}, x: {x}\")\n",
        "      if inverse_Ferma_x != 0:\n",
        "        raise Exception(f\"Неправильное инвертирование алгоритмом быстрого возведения в степень, p: {p}, x: {x}\")  \n",
        "  print(f\"Стресс тест для арифметики в конечных полях пройден!, p: {p}, iterations_num: {iterations_num}\")"
      ]
    },
    {
      "cell_type": "code",
      "source": [
        "# https://githubhot.com/index.php/repo/dlots/Algorithms-on-graphs-lab-1"
      ],
      "metadata": {
        "id": "Utz71RHRpL0x"
      },
      "execution_count": null,
      "outputs": []
    },
    {
      "cell_type": "code",
      "execution_count": null,
      "metadata": {
        "id": "fwa1LtushrLG"
      },
      "outputs": [],
      "source": [
        "def stress_test_2bridges_rand(n, m, sort, iterations_num=1000):\n",
        "  exp_err = (m*(m-1)/2) * (1/ (2**64))\n",
        "  for iteration in range(iterations_num):\n",
        "    err_num = 0\n",
        "    G = get_random_simple_Gnp_graph(n, m, iteration)\n",
        "    bridges_test = compute_2bridges_rand(G,sort)\n",
        "    G = nx.Graph(G)\n",
        "    G_conn_components = nx.connected.number_connected_components(G)\n",
        "    for edge_group in bridges_test:\n",
        "      for e1 in range(len(edge_group)):\n",
        "        for e2 in range(e1+1,len(edge_group)):\n",
        "          G_with_deleted_2bridge = G.copy()\n",
        "          G_with_deleted_2bridge.remove_edge(*edge_group[e1])\n",
        "          G_with_deleted_2bridge.remove_edge(*edge_group[e2])\n",
        "          if G_conn_components == nx.connected.number_connected_components(G_with_deleted_2bridge):\n",
        "            ++err_num\n",
        "    if err_num > exp_err:\n",
        "      raise Exception(f\"Число ошибок в рандомизированном алгоритме поиска мостов превышено, n: {n}, m: {m}, errors_num: {err_num}, sort: {sort}, seed: {iteration}\")\n",
        "  print(f\"Стресс тест для рандомизированного поиска мостов пройден!, n: {n}, m: {m}, , sort: {sort}, iterations_num: {iterations_num}\")"
      ]
    },
    {
      "cell_type": "code",
      "execution_count": null,
      "metadata": {
        "id": "krNafNhmKdeF"
      },
      "outputs": [],
      "source": [
        "def test_Euler_circuit(G, test_circuit):\n",
        "  edges_dict = {}\n",
        "  m = 0\n",
        "  for (v,neib) in G.items():\n",
        "    for u in neib:\n",
        "      edges_dict[(v,u)] = False\n",
        "      m += 1\n",
        "\n",
        "  l = len(test_circuit)\n",
        "  # print(l, m)\n",
        "  if m != l:\n",
        "    return False\n",
        "\n",
        "  for i in range(1,m):\n",
        "    if test_circuit[i-1][1] != test_circuit[i][0]:\n",
        "      print('Error 1')\n",
        "      return False\n",
        "  if test_circuit[l-1][1] != test_circuit[0][0]:\n",
        "    print('Error 2')\n",
        "    return False\n",
        "\n",
        "  for e in test_circuit:\n",
        "    if edges_dict.get(e, True) == True:\n",
        "      print('Error 3')\n",
        "      return False\n",
        "    else:\n",
        "      edges_dict[e] = True\n",
        "    \n",
        "  return True\n",
        "\n",
        "# max_n должно быть строго больше чем 10\n",
        "def stress_test_Euler_circuit_digraph(max_n, iterations_num=1000):\n",
        "  for iteration in range(iterations_num):\n",
        "    n = np.random.randint(10, max_n)\n",
        "    k = np.floor(n/4)\n",
        "    G = get_Euler_digraph(n,k)\n",
        "    test_circuit = compute_Euler_circuit_digraph(G)\n",
        "    if not test_Euler_circuit(G, test_circuit):\n",
        "      raise Exception(f\"Неправильный Эйлеров обход, функция генерации: get_Euler_digraph, n: {n}, k: {k}\")\n",
        "  print(f\"Стресс тест для ориентированных Эйлеровых циклов пройден, max_n: {max_n}, iterations_num: {iterations_num}\")"
      ]
    },
    {
      "cell_type": "code",
      "execution_count": null,
      "metadata": {
        "colab": {
          "base_uri": "https://localhost:8080/"
        },
        "id": "uJvi4ayZbheW",
        "outputId": "86c53a33-0668-4d1b-e880-6ab4fdc3d800"
      },
      "outputs": [
        {
          "output_type": "stream",
          "name": "stdout",
          "text": [
            "Стресс тест для детерминированного поиска мостов пройден!, n: 1000, m: 2000, iterations_num: 100\n",
            "Стресс тест для рандомизированного поиска мостов пройден!, n: 1000, m: 2000, iterations_num: 100\n",
            "Стресс тест для арифметики в конечных полях пройден!, p: 2347, iterations_num: 1000\n",
            "Стресс тест для рандомизированного поиска мостов пройден!, n: 1000, m: 2000, , sort: <function radix_argsort at 0x7fe7c599fc20>, iterations_num: 10\n",
            "Стресс тест для рандомизированного поиска мостов пройден!, n: 1000, m: 2000, , sort: <function bucket_argsort at 0x7fe7c7a038c0>, iterations_num: 10\n",
            "Стресс тест для рандомизированного поиска мостов пройден!, n: 1000, m: 2000, , sort: <function quick_argsort at 0x7fe7c2ce58c0>, iterations_num: 10\n",
            "Стресс тест для ориентированных Эйлеровых циклов пройден, max_n: 300, iterations_num: 20\n"
          ]
        }
      ],
      "source": [
        "stress_test_bridges_determ(1000, 2000, 100)\n",
        "stress_test_bridges_rand(1000, 2000, 100)\n",
        "stress_test_finite_fields(2347, 1000)\n",
        "stress_test_2bridges_rand(1000, 2000, radix_argsort, 10)\n",
        "stress_test_2bridges_rand(1000, 2000, bucket_argsort, 10)\n",
        "stress_test_2bridges_rand(1000, 2000, quick_argsort, 10)\n",
        "stress_test_Euler_circuit_digraph(300, 20)"
      ]
    },
    {
      "cell_type": "markdown",
      "metadata": {
        "id": "IFrOCtsGYI9L"
      },
      "source": [
        "# Юнит тесты"
      ]
    },
    {
      "cell_type": "code",
      "execution_count": null,
      "metadata": {
        "id": "fMi57s_vXG3a"
      },
      "outputs": [],
      "source": [
        "def finite_fields_unit_tests():\n",
        "  assert(invert_in_Zp_Euclead(6,4) == 0)\n",
        "  assert(invert_in_Zp_Ferma(6,4) == 0)\n",
        "\n",
        "  assert(invert_in_Zp_Euclead(6,2) == 0)\n",
        "  assert(invert_in_Zp_Ferma(6,2) == 0)\n",
        "\n",
        "  assert(invert_in_Zp_Euclead(2347,0) == 0)\n",
        "  assert(invert_in_Zp_Ferma(2347,0) == 0)\n",
        "\n",
        "  assert(invert_in_Zp_Euclead(7,6) == 6)\n",
        "  assert(invert_in_Zp_Ferma(7,6) == 6)\n",
        "\n",
        "  assert(invert_in_Zp_Euclead(2347,2346) == 2346)\n",
        "  assert(invert_in_Zp_Ferma(2347,2346) == 2346)\n",
        "\n",
        "  assert(invert_in_Zp_Euclead(1,0) == 0)\n",
        "  assert(invert_in_Zp_Ferma(1,0) == 0)\n",
        "\n",
        "  assert(invert_in_Zp_Euclead(2,0) == 0)\n",
        "  assert(invert_in_Zp_Ferma(2,0) == 0)\n",
        "\n",
        "  assert(invert_in_Zp_Euclead(2,1) == 1)\n",
        "  assert(invert_in_Zp_Ferma(2,1) == 1)"
      ]
    },
    {
      "cell_type": "code",
      "execution_count": null,
      "metadata": {
        "id": "WerEDsxjE6Am"
      },
      "outputs": [],
      "source": [
        "def bridges_unit_test(G):\n",
        "  test_bridges_determ = compute_bridges_determ(nx.convert.to_dict_of_lists(G))\n",
        "  test_bridges_rand = compute_bridges_rand(nx.convert.to_dict_of_lists(G))\n",
        "  true_bridges = set(nx.algorithms.bridges(nx.Graph(G)))\n",
        "  determ_diff = list(true_bridges.symmetric_difference(test_bridges_determ))\n",
        "  rand_diff = list(true_bridges.symmetric_difference(test_bridges_rand))\n",
        "  assert len(determ_diff) == 0\n",
        "  assert len(rand_diff) == 0"
      ]
    },
    {
      "cell_type": "code",
      "execution_count": null,
      "metadata": {
        "id": "dqHC-TYKMWZ-"
      },
      "outputs": [],
      "source": [
        "def two_bridges_unit_test(G, sort_fun):\n",
        "  test_bridges = compute_2bridges_rand(nx.convert.to_dict_of_lists(G), sort_fun)\n",
        "  for edge_group in test_bridges:\n",
        "      for e1 in range(len(edge_group)):\n",
        "        for e2 in range(e1+1,len(edge_group)):\n",
        "          G_with_deleted_2bridge = G.copy()\n",
        "          G_with_deleted_2bridge.remove_edge(*edge_group[e1])\n",
        "          G_with_deleted_2bridge.remove_edge(*edge_group[e2])\n",
        "          assert nx.connected.number_connected_components(G) < nx.connected.number_connected_components(G_with_deleted_2bridge)"
      ]
    },
    {
      "cell_type": "code",
      "execution_count": null,
      "metadata": {
        "id": "LunUdpLHGBtJ"
      },
      "outputs": [],
      "source": [
        "def Euler_circuit_unit_tests():\n",
        "  dims = [1, 2, 3, 4, 5, 6]\n",
        "  for dim in dims:\n",
        "    G = get_hypercube_digraph(dim)\n",
        "    test_circuit = compute_Euler_circuit_digraph(G)\n",
        "    assert(test_Euler_circuit(G,test_circuit))"
      ]
    },
    {
      "cell_type": "code",
      "execution_count": null,
      "metadata": {
        "colab": {
          "base_uri": "https://localhost:8080/"
        },
        "id": "WRb-MJf9b0p6",
        "outputId": "55a95e1d-fc45-498a-a05b-1743e7dc7e82"
      },
      "outputs": [
        {
          "output_type": "stream",
          "name": "stdout",
          "text": [
            "Все юнит тесты для арифметики в коенчных полях пройдены успешно!\n",
            "Все юнит тесты для поиска мостов пройдены успешно!\n",
            "Все юнит тесты для поиска 2-мостов пройдены успешно!\n",
            "Все юнит тесты для поиска Эйлеровых циклов пройдены успешно!\n"
          ]
        }
      ],
      "source": [
        "finite_fields_unit_tests()\n",
        "print(\"Все юнит тесты для арифметики в коенчных полях пройдены успешно!\")\n",
        "\n",
        "bridges_unit_test(nx.generators.cycle_graph(10))\n",
        "bridges_unit_test(nx.generators.path_graph(10))\n",
        "bridges_unit_test(nx.generators.empty_graph(10))\n",
        "bridges_unit_test(nx.generators.wheel_graph(10))\n",
        "bridges_unit_test(nx.generators.trivial_graph())\n",
        "bridges_unit_test(nx.generators.balanced_tree(3,3))\n",
        "print(\"Все юнит тесты для поиска мостов пройдены успешно!\")\n",
        "\n",
        "sort_functions = [radix_argsort, bucket_argsort, quick_argsort]\n",
        "for sort_fun in sort_functions:\n",
        "  two_bridges_unit_test(nx.generators.cycle_graph(10), sort_fun)\n",
        "  two_bridges_unit_test(nx.generators.path_graph(10), sort_fun)\n",
        "  two_bridges_unit_test(nx.generators.empty_graph(10), sort_fun)\n",
        "  two_bridges_unit_test(nx.generators.wheel_graph(10), sort_fun)\n",
        "  two_bridges_unit_test(nx.generators.trivial_graph(), sort_fun)\n",
        "  two_bridges_unit_test(nx.generators.balanced_tree(3,3), sort_fun)\n",
        "print(\"Все юнит тесты для поиска 2-мостов пройдены успешно!\")\n",
        "\n",
        "Euler_circuit_unit_tests()\n",
        "print(\"Все юнит тесты для поиска Эйлеровых циклов пройдены успешно!\")"
      ]
    },
    {
      "cell_type": "markdown",
      "metadata": {
        "id": "OaHIW1b_ad02"
      },
      "source": [
        "# Графики"
      ]
    },
    {
      "cell_type": "code",
      "execution_count": null,
      "metadata": {
        "id": "Wu6eiPL1dZt1"
      },
      "outputs": [],
      "source": [
        "def check_time(f, *args):\n",
        "  start = time.time()\n",
        "  f(*args)\n",
        "  return time.time() - start\n"
      ]
    },
    {
      "cell_type": "code",
      "execution_count": null,
      "metadata": {
        "id": "QT3suSXzXIcR"
      },
      "outputs": [],
      "source": [
        "def plot_bridges(m_fun, start = 1000, step = 1000, end = 10000, number_of_retryes = 10):\n",
        "  _x, determ_Gnp_y, determ_Gnm_y, rand_Gnp_y, rand_Gnm_y = [], [], [], [], []\n",
        "  for n in range(start,end,step):\n",
        "    m = m_fun(n)\n",
        "    time_Gnp_determ = 0.\n",
        "    time_Gnp_rand = 0.\n",
        "    time_Gnm_determ = 0.\n",
        "    time_Gnm_rand = 0.\n",
        "    for exp_num in range(number_of_retryes):\n",
        "      g = get_random_simple_Gnp_graph(n,m,exp_num)\n",
        "      time_Gnp_determ += check_time(compute_bridges_determ, g)\n",
        "      time_Gnp_rand += check_time(compute_bridges_rand, g)\n",
        "      g = get_random_simple_Gnm_graph(n,m,exp_num)\n",
        "      time_Gnm_determ += check_time(compute_bridges_determ, g)\n",
        "      time_Gnm_rand += check_time(compute_bridges_rand, g)\n",
        "    time_Gnp_determ /= number_of_retryes\n",
        "    time_Gnp_rand /= number_of_retryes\n",
        "    time_Gnm_determ /= number_of_retryes\n",
        "    time_Gnm_rand /= number_of_retryes\n",
        "    _x.append(n)\n",
        "    determ_Gnp_y.append(time_Gnp_determ)\n",
        "    rand_Gnp_y.append(time_Gnp_rand)\n",
        "    determ_Gnm_y.append(time_Gnm_determ)\n",
        "    rand_Gnm_y.append(time_Gnm_rand)\n",
        "\n",
        "  plt.plot(_x, determ_Gnp_y, label = \"determ Gnp\")\n",
        "  plt.plot(_x, rand_Gnp_y, label = \"rand Gnp\")\n",
        "  plt.plot(_x, determ_Gnm_y, label = \"determ Gnm\")\n",
        "  plt.plot(_x, rand_Gnm_y, label = \"rand Gnm\")\n",
        "  plt.legend(bbox_to_anchor=(1.05, 1), loc='upper left', borderaxespad=0.)\n",
        "  plt.xlabel('number of vertices')\n",
        "  plt.ylabel('time s.')\n",
        "  plt.title(f\"Эксперименты с мостами, start: {start}, step: {step}, end: {end},\\n \\\n",
        "  number of retryes: {number_of_retryes}, edges density: {n/m}\")\n",
        "  #plt.figure(figsize= (1000,1000))\n",
        "  plt.show()"
      ]
    },
    {
      "cell_type": "code",
      "execution_count": null,
      "metadata": {
        "id": "ph0V_04lfXNi"
      },
      "outputs": [],
      "source": [
        "def plot_2bridges(m_fun, start = 1000, step = 1000, end = 10000, number_of_retryes = 2):\n",
        "  _x = []\n",
        "  quick_Gnp, radix_Gnp, bucket_Gnp, standard_Gnp, hash_Gnp = [], [], [], [], []\n",
        "  quick_Gnm, radix_Gnm, bucket_Gnm, standard_Gnm, hash_Gnm = [], [], [], [], []\n",
        "\n",
        "  for n in range(start,end,step):\n",
        "    m = m_fun(n)\n",
        "    time_quick_Gnp, time_radix_Gnp, time_bucket_Gnp, time_standard_Gnp, time_hash_Gnp = 0., 0., 0., 0., 0.\n",
        "    time_quick_Gnm, time_radix_Gnm, time_bucket_Gnm, time_standard_Gnm, time_hash_Gnm  = 0., 0., 0., 0., 0.\n",
        "\n",
        "    for exp_num in range(number_of_retryes):\n",
        "      g = get_random_simple_Gnp_graph(n,m,exp_num)\n",
        "      # time_quick_Gnp += check_time(compute_2bridges_rand,g,quick_argsort)\n",
        "      time_bucket_Gnp += check_time(compute_2bridges_rand,g,bucket_argsort)\n",
        "      time_radix_Gnp += check_time(compute_2bridges_rand,g,radix_argsort)\n",
        "      time_standard_Gnp += check_time(compute_2bridges_rand,g,np.argsort)\n",
        "      time_hash_Gnp += check_time(compute_2bridges_rand, g, None)\n",
        "\n",
        "      g = get_random_simple_Gnm_graph(n,m,exp_num)\n",
        "      # time_quick_Gnm += check_time(compute_2bridges_rand, g, quick_argsort)\n",
        "      time_bucket_Gnm += check_time(compute_2bridges_rand,g,bucket_argsort)\n",
        "      time_radix_Gnm += check_time(compute_2bridges_rand,g,radix_argsort)\n",
        "      time_standard_Gnm += check_time(compute_2bridges_rand,g,np.argsort)\n",
        "      time_hash_Gnm += check_time(compute_2bridges_rand, g, None)\n",
        "\n",
        "    # time_quick_Gnp /= number_of_retryes\n",
        "    time_bucket_Gnp /= number_of_retryes\n",
        "    time_radix_Gnp /= number_of_retryes\n",
        "    time_standard_Gnp /= number_of_retryes\n",
        "    time_hash_Gnp /= number_of_retryes\n",
        "\n",
        "    # time_quick_Gnm /= number_of_retryes\n",
        "    time_bucket_Gnm /= number_of_retryes\n",
        "    time_radix_Gnm /= number_of_retryes\n",
        "    time_standard_Gnm /= number_of_retryes\n",
        "    time_hash_Gnm /= number_of_retryes\n",
        "\n",
        "    _x.append(n)\n",
        "\n",
        "    # quick_Gnp.append(time_quick_Gnp)\n",
        "    bucket_Gnp.append(time_bucket_Gnp)\n",
        "    radix_Gnp.append(time_radix_Gnp)\n",
        "    standard_Gnp.append(time_standard_Gnp)\n",
        "    hash_Gnp.append(time_hash_Gnp)\n",
        "\n",
        "    # quick_Gnm.append(time_quick_Gnm)\n",
        "    bucket_Gnm.append(time_bucket_Gnm)\n",
        "    radix_Gnm.append(time_radix_Gnm)\n",
        "    standard_Gnm.append(time_standard_Gnm)\n",
        "    hash_Gnm.append(time_hash_Gnm)\n",
        "\n",
        "  # plt.plot(_x, quick_Gnp, label = \"quick Gnp\")\n",
        "  plt.plot(_x, bucket_Gnp, label = \"bucket Gnp\")\n",
        "  plt.plot(_x, radix_Gnp, label = \"radix Gnp\")\n",
        "  plt.plot(_x, standard_Gnp, label = \"standard Gnp\")\n",
        "  plt.plot(_x, hash_Gnp, label = \"hash Gnp\")\n",
        "\n",
        "  # plt.plot(_x, quick_Gnm, label = \"quick Gnm\")\n",
        "  plt.plot(_x, bucket_Gnm, label = \"bucket Gnm\")\n",
        "  plt.plot(_x, radix_Gnm, label = \"radix Gnm\")\n",
        "  plt.plot(_x, standard_Gnm, label = \"standard Gnm\")\n",
        "  plt.plot(_x, hash_Gnm, label = \"hash Gnm\")\n",
        "\n",
        "  plt.legend(bbox_to_anchor=(1.05, 1), loc='upper left', borderaxespad=0.)\n",
        "  plt.xlabel('number of vertices')\n",
        "  plt.ylabel('time s.')\n",
        "  plt.title(f\"Эксперименты с 2-мостами, start: {start}, step: {step}, end: {end},\\n \\\n",
        "  number of retryes: {number_of_retryes}, edges density: {n/m}\")\n",
        "  #plt.figure(figsize= (100000,100000))\n",
        "  plt.show()"
      ]
    },
    {
      "cell_type": "markdown",
      "source": [
        "## Мосты"
      ],
      "metadata": {
        "id": "N4ZyO0gxiOI7"
      }
    },
    {
      "cell_type": "markdown",
      "source": [
        "### Разреженные"
      ],
      "metadata": {
        "id": "ztiZLQl1iTNK"
      }
    },
    {
      "cell_type": "code",
      "execution_count": null,
      "metadata": {
        "colab": {
          "base_uri": "https://localhost:8080/",
          "height": 327
        },
        "id": "s1qohsHKgPOy",
        "outputId": "eb7a1b23-6a84-4363-b1c6-ea0331517cc6"
      },
      "outputs": [
        {
          "output_type": "display_data",
          "data": {
            "text/plain": [
              "<Figure size 432x288 with 1 Axes>"
            ],
            "image/png": "[encoded data removed]"
          },
          "metadata": {
            "needs_background": "light"
          }
        },
        {
          "output_type": "stream",
          "name": "stdout",
          "text": [
            "Total time: 784.1055331230164\n"
          ]
        }
      ],
      "source": [
        "print(f\"Total time: {check_time(plot_bridges, lambda n: 10*n)}\")"
      ]
    },
    {
      "cell_type": "markdown",
      "source": [
        "### Плотные"
      ],
      "metadata": {
        "id": "mmRCIQ2QiYrn"
      }
    },
    {
      "cell_type": "code",
      "source": [
        "print(f\"Total time: {check_time(plot_bridges, lambda n: n ** 2/100)}\")"
      ],
      "metadata": {
        "colab": {
          "base_uri": "https://localhost:8080/",
          "height": 327
        },
        "id": "ysf_-8xXP34_",
        "outputId": "7da1a369-41b5-48e6-952c-b9c3553b622e"
      },
      "execution_count": null,
      "outputs": [
        {
          "output_type": "display_data",
          "data": {
            "text/plain": [
              "<Figure size 432x288 with 1 Axes>"
            ],
            "image/png": "[encoded data removed]"
          },
          "metadata": {
            "needs_background": "light"
          }
        },
        {
          "output_type": "stream",
          "name": "stdout",
          "text": [
            "Total time: 683.9881796836853\n"
          ]
        }
      ]
    },
    {
      "cell_type": "markdown",
      "source": [
        "## 2-мосты"
      ],
      "metadata": {
        "id": "N6UMPk9fiboN"
      }
    },
    {
      "cell_type": "markdown",
      "source": [
        "### Разреженные"
      ],
      "metadata": {
        "id": "AgeEmvMhifL5"
      }
    },
    {
      "cell_type": "code",
      "execution_count": null,
      "metadata": {
        "id": "76072Rr5oKlC",
        "colab": {
          "base_uri": "https://localhost:8080/",
          "height": 327
        },
        "outputId": "f0a4f050-1220-4fda-953e-7168b51a253c"
      },
      "outputs": [
        {
          "output_type": "display_data",
          "data": {
            "text/plain": [
              "<Figure size 432x288 with 1 Axes>"
            ],
            "image/png": "[encoded data removed]"
          },
          "metadata": {
            "needs_background": "light"
          }
        },
        {
          "output_type": "stream",
          "name": "stdout",
          "text": [
            "Total time: 3905.4263966083527\n"
          ]
        }
      ],
      "source": [
        "print(f\"Total time: {check_time(plot_2bridges, lambda n: 10*n)}\")"
      ]
    },
    {
      "cell_type": "code",
      "source": [
        "print(f\"Total time: {check_time(plot_2bridges, lambda n: 10*n)}\")"
      ],
      "metadata": {
        "colab": {
          "base_uri": "https://localhost:8080/",
          "height": 327
        },
        "id": "9Ww4-AOJe2dA",
        "outputId": "d2586d7b-ed02-4f6d-d509-6adf5991da1c"
      },
      "execution_count": null,
      "outputs": [
        {
          "output_type": "display_data",
          "data": {
            "text/plain": [
              "<Figure size 432x288 with 1 Axes>"
            ],
            "image/png": "[encoded data removed]"
          },
          "metadata": {
            "needs_background": "light"
          }
        },
        {
          "output_type": "stream",
          "name": "stdout",
          "text": [
            "Total time: 79.98582911491394\n"
          ]
        }
      ]
    },
    {
      "cell_type": "markdown",
      "source": [
        "### Плотные"
      ],
      "metadata": {
        "id": "i4Fm1jvzijX_"
      }
    },
    {
      "cell_type": "code",
      "source": [
        "print(f\"Total time: {check_time(plot_2bridges, lambda n: n ** 2/100)}\")"
      ],
      "metadata": {
        "id": "7KEfk4Y5Njg4",
        "colab": {
          "base_uri": "https://localhost:8080/",
          "height": 327
        },
        "outputId": "bb8b7956-d9c9-47cd-cac3-0893f8b0d178"
      },
      "execution_count": null,
      "outputs": [
        {
          "output_type": "display_data",
          "data": {
            "text/plain": [
              "<Figure size 432x288 with 1 Axes>"
            ],
            "image/png": "[encoded data removed]"
          },
          "metadata": {
            "needs_background": "light"
          }
        },
        {
          "output_type": "stream",
          "name": "stdout",
          "text": [
            "Total time: 4860.036600589752\n"
          ]
        }
      ]
    },
    {
      "cell_type": "code",
      "source": [
        "print(f\"Total time: {check_time(plot_2bridges, lambda n: n ** 2/100)}\")"
      ],
      "metadata": {
        "colab": {
          "base_uri": "https://localhost:8080/",
          "height": 327
        },
        "id": "07WPnZARC7nf",
        "outputId": "fbbe6622-8097-4c01-c880-635c33848a81"
      },
      "execution_count": null,
      "outputs": [
        {
          "output_type": "display_data",
          "data": {
            "text/plain": [
              "<Figure size 432x288 with 1 Axes>"
            ],
            "image/png": "[encoded data removed]"
          },
          "metadata": {
            "needs_background": "light"
          }
        },
        {
          "output_type": "stream",
          "name": "stdout",
          "text": [
            "Total time: 526.5740756988525\n"
          ]
        }
      ]
    },
    {
      "cell_type": "code",
      "source": [
        "print(f\"Total time: {check_time(plot_2bridges, lambda n: n/n)}\")"
      ],
      "metadata": {
        "id": "pXzjVUPfbtrV",
        "colab": {
          "base_uri": "https://localhost:8080/",
          "height": 327
        },
        "outputId": "00bf509d-6474-4b90-be16-6e2bf8936a7c"
      },
      "execution_count": null,
      "outputs": [
        {
          "output_type": "display_data",
          "data": {
            "text/plain": [
              "<Figure size 432x288 with 1 Axes>"
            ],
            "image/png": "[encoded data removed]"
          },
          "metadata": {
            "needs_background": "light"
          }
        },
        {
          "output_type": "stream",
          "name": "stdout",
          "text": [
            "Total time: 380.86330008506775\n"
          ]
        }
      ]
    }
  ],
  "metadata": {
    "colab": {
      "collapsed_sections": [
        "sD1wC1Wc4YHf"
      ],
      "name": "more_algos.ipynb",
      "provenance": []
    },
    "kernelspec": {
      "display_name": "Python 3",
      "name": "python3"
    }
  },
  "nbformat": 4,
  "nbformat_minor": 0
}