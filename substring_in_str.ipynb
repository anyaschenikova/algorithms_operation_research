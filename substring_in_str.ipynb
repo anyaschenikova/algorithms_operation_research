{
  "nbformat": 4,
  "nbformat_minor": 0,
  "metadata": {
    "colab": {
      "name": "IOR lab 1.ipynb",
      "provenance": [],
      "collapsed_sections": []
    },
    "kernelspec": {
      "name": "python3",
      "display_name": "Python 3"
    },
    "language_info": {
      "name": "python"
    }
  },
  "cells": [
    {
      "cell_type": "markdown",
      "source": [
        "# Лабораторная работа № 1"
      ],
      "metadata": {
        "id": "ODdmfgJgc1WQ"
      }
    },
    {
      "cell_type": "markdown",
      "source": [
        "## Данные"
      ],
      "metadata": {
        "id": "URlG2zfDc9B9"
      }
    },
    {
      "cell_type": "code",
      "source": [
        "!rm -rf '/content/benchmarks/benchmarks'"
      ],
      "metadata": {
        "id": "drZNL2N7i3QE"
      },
      "execution_count": null,
      "outputs": []
    },
    {
      "cell_type": "code",
      "source": [
        "!wget https://www.dropbox.com/s/i6lcluipzhi2rfu/benchmarks.rar?dl=0 -O benchmarks.rar\n",
        "!unrar x \"/content/benchmarks.rar\""
      ],
      "metadata": {
        "colab": {
          "base_uri": "https://localhost:8080/"
        },
        "id": "665Lnqstfwgt",
        "outputId": "cf901742-96c5-4f80-fefc-17b0786c6622"
      },
      "execution_count": null,
      "outputs": [
        {
          "output_type": "stream",
          "name": "stdout",
          "text": [
            "--2022-05-16 06:15:06--  https://www.dropbox.com/s/i6lcluipzhi2rfu/benchmarks.rar?dl=0\n",
            "Resolving www.dropbox.com (www.dropbox.com)... 162.125.85.18, 2620:100:6017:18::a27d:212\n",
            "Connecting to www.dropbox.com (www.dropbox.com)|162.125.85.18|:443... connected.\n",
            "HTTP request sent, awaiting response... 301 Moved Permanently\n",
            "Location: /s/raw/i6lcluipzhi2rfu/benchmarks.rar [following]\n",
            "--2022-05-16 06:15:06--  https://www.dropbox.com/s/raw/i6lcluipzhi2rfu/benchmarks.rar\n",
            "Reusing existing connection to www.dropbox.com:443.\n",
            "HTTP request sent, awaiting response... 302 Found\n",
            "Location: https://ucb28406e3a8aaa9aefa83ee57f5.dl.dropboxusercontent.com/cd/0/inline/BlW43dLAoT8xhQ0766QYOZafVad3qQL1TgNT3et9_6Vyir9Rs2W4EQpTDDOfMGHGyob0k1bePzBQj6DALtn-2q5J2CNo4EywENCUkMJ6MshoFfuTcvWHPfDRDDSS1NnJzwP93LdFcW9dpGPgmdc0NJPNJrN2sIArpPoLaTUSi_diKA/file# [following]\n",
            "--2022-05-16 06:15:07--  https://ucb28406e3a8aaa9aefa83ee57f5.dl.dropboxusercontent.com/cd/0/inline/BlW43dLAoT8xhQ0766QYOZafVad3qQL1TgNT3et9_6Vyir9Rs2W4EQpTDDOfMGHGyob0k1bePzBQj6DALtn-2q5J2CNo4EywENCUkMJ6MshoFfuTcvWHPfDRDDSS1NnJzwP93LdFcW9dpGPgmdc0NJPNJrN2sIArpPoLaTUSi_diKA/file\n",
            "Resolving ucb28406e3a8aaa9aefa83ee57f5.dl.dropboxusercontent.com (ucb28406e3a8aaa9aefa83ee57f5.dl.dropboxusercontent.com)... 162.125.85.15, 2620:100:6017:15::a27d:20f\n",
            "Connecting to ucb28406e3a8aaa9aefa83ee57f5.dl.dropboxusercontent.com (ucb28406e3a8aaa9aefa83ee57f5.dl.dropboxusercontent.com)|162.125.85.15|:443... connected.\n",
            "HTTP request sent, awaiting response... 302 Found\n",
            "Location: /cd/0/inline2/BlXSKOboTFNw2UInNaXHYeZlI0CubLUmdq4u_Z7qTyrT6UaCdq0fwFFVWMZxYdRF2NfJVJA74AkQvbMStx4MdKjLA9svZse_Qy4fGramaz80EUn7gfQiIx1qrD6EKBRdxRjoQ0_K9zv9xfs2xRTnZ5PXgfYKmqeyrO95-N0Wet7G4lSaGBc8jy5DJS7C2qgNzlZlx1AqidbOfwolQMJRsAnyYOd3C8UAWRq0JD2H-pjHI-UwTdmcm0n7ReKRWvZRdLWpGGAN-7bdsVO0pYEQN-o143f4cej47ksEXRQQL39PW-sujYs-P1M-GJJhcVt5OUHylHReleG9C1n81gr9OQWDYjjkHuZIBzn1n5528zBU_eb01LGQWE2XVvith5BhpTuuOkYwhrffwOfjnNhPK_WzEzk7Pp4wU4q8C3WtZQxU3g/file [following]\n",
            "--2022-05-16 06:15:07--  https://ucb28406e3a8aaa9aefa83ee57f5.dl.dropboxusercontent.com/cd/0/inline2/BlXSKOboTFNw2UInNaXHYeZlI0CubLUmdq4u_Z7qTyrT6UaCdq0fwFFVWMZxYdRF2NfJVJA74AkQvbMStx4MdKjLA9svZse_Qy4fGramaz80EUn7gfQiIx1qrD6EKBRdxRjoQ0_K9zv9xfs2xRTnZ5PXgfYKmqeyrO95-N0Wet7G4lSaGBc8jy5DJS7C2qgNzlZlx1AqidbOfwolQMJRsAnyYOd3C8UAWRq0JD2H-pjHI-UwTdmcm0n7ReKRWvZRdLWpGGAN-7bdsVO0pYEQN-o143f4cej47ksEXRQQL39PW-sujYs-P1M-GJJhcVt5OUHylHReleG9C1n81gr9OQWDYjjkHuZIBzn1n5528zBU_eb01LGQWE2XVvith5BhpTuuOkYwhrffwOfjnNhPK_WzEzk7Pp4wU4q8C3WtZQxU3g/file\n",
            "Reusing existing connection to ucb28406e3a8aaa9aefa83ee57f5.dl.dropboxusercontent.com:443.\n",
            "HTTP request sent, awaiting response... 200 OK\n",
            "Length: 8285 (8.1K) [application/rar]\n",
            "Saving to: ‘benchmarks.rar’\n",
            "\n",
            "benchmarks.rar      100%[===================>]   8.09K  --.-KB/s    in 0s      \n",
            "\n",
            "2022-05-16 06:15:07 (41.3 MB/s) - ‘benchmarks.rar’ saved [8285/8285]\n",
            "\n",
            "\n",
            "UNRAR 5.50 freeware      Copyright (c) 1993-2017 Alexander Roshal\n",
            "\n",
            "\n",
            "Extracting from /content/benchmarks.rar\n",
            "\n",
            "Creating    benchmarks                                                OK\n",
            "Extracting  benchmarks/bad_t_1.txt                                       \b\b\b\b  1%\b\b\b\b\b  OK \n",
            "Extracting  benchmarks/bad_t_2.txt                                       \b\b\b\b  2%\b\b\b\b\b  OK \n",
            "Extracting  benchmarks/bad_t_3.txt                                       \b\b\b\b  3%\b\b\b\b\b  OK \n",
            "Extracting  benchmarks/bad_t_4.txt                                       \b\b\b\b  4%\b\b\b\b\b  OK \n",
            "Extracting  benchmarks/bad_w_1.txt                                       \b\b\b\b  4%\b\b\b\b\b  OK \n",
            "Extracting  benchmarks/bad_w_2.txt                                       \b\b\b\b  5%\b\b\b\b\b  OK \n",
            "Extracting  benchmarks/bad_w_3.txt                                       \b\b\b\b  6%\b\b\b\b\b  OK \n",
            "Extracting  benchmarks/bad_w_4.txt                                       \b\b\b\b  7%\b\b\b\b\b  OK \n",
            "Extracting  benchmarks/good_t_1.txt                                      \b\b\b\b 15%\b\b\b\b\b  OK \n",
            "Extracting  benchmarks/good_t_2.txt                                      \b\b\b\b 25%\b\b\b\b\b  OK \n",
            "Extracting  benchmarks/good_t_3.txt                                      \b\b\b\b 49%\b\b\b\b\b  OK \n",
            "Extracting  benchmarks/good_t_4.txt                                      \b\b\b\b 95%\b\b\b\b\b  OK \n",
            "Extracting  benchmarks/good_w_1.txt                                      \b\b\b\b 96%\b\b\b\b\b  OK \n",
            "Extracting  benchmarks/good_w_2.txt                                      \b\b\b\b 97%\b\b\b\b\b  OK \n",
            "Extracting  benchmarks/good_w_3.txt                                      \b\b\b\b 97%\b\b\b\b\b  OK \n",
            "Extracting  benchmarks/good_w_4.txt                                      \b\b\b\b 98%\b\b\b\b\b  OK \n",
            "All OK\n"
          ]
        }
      ]
    },
    {
      "cell_type": "code",
      "source": [
        "from os import listdir\n",
        "from os.path import isfile, join\n",
        "folder = '/content/benchmarks'\n",
        "files = sorted([f for f in listdir(folder) if isfile(join(folder, f))])\n",
        "good_tests = {'t': [], 'w': []}\n",
        "bad_tests = {'t': [], 'w': []}\n",
        "for filename in files:\n",
        "  with open(join(folder, filename), 'r') as f:\n",
        "    content = f.read()\n",
        "    if 'good' in filename:\n",
        "      if 'w' in filename:\n",
        "        good_tests['w'].append(content)\n",
        "      else:\n",
        "        good_tests['t'].append(content)\n",
        "    else:\n",
        "      if 'w' in filename:\n",
        "        bad_tests['w'].append(content)\n",
        "      else:\n",
        "        bad_tests['t'].append(content)\n",
        "good_tests"
      ],
      "metadata": {
        "colab": {
          "base_uri": "https://localhost:8080/"
        },
        "id": "PXzcbojIhJTo",
        "outputId": "6dbba2c4-a170-46fb-d92c-102fbc634512"
      },
      "execution_count": null,
      "outputs": [
        {
          "output_type": "execute_result",
          "data": {
            "text/plain": [
              "{'t': ['Гостиная Анны Павловны начала понемногу наполняться. Приехала высшая знать Петербурга, люди самые разнородные по возрастам и характерам, но одинаковые по обществу, в каком все жили; приехала дочь князя Василия, красавица Элен, заехавшая за отцом, чтобы с ним вместе ехать на праздник посланника. Она была в шифре и бальном платье. Приехала и известная, как la femme la plus séduisante de Pétersbourg 1, молодая, маленькая княгиня Болконская, прошлую зиму вышедшая замуж и теперь не выезжавшая в большой свет по причине своей беременности, но ездившая еще на небольшие вечера. Приехал князь Ипполит, сын князя Василия, с Мортемаром, которого он представил; приехал и аббат Морио и многие другие.',\n",
              "  \"Маленькая княгиня, переваливаясь, маленькими быстрыми шажками обошла стол с рабочею сумочкой на руке и, весело оправляя платье, села на диван, около серебряного самовара, как будто все, что она ни делала, было partie de plaisir 3 для нее и для всех ее окружавших.\\n— J'ai apporté mon ouvrage 4, — сказала она, развертывая свой ридикюль и обращаясь ко всем вместе.\\n— Смотрите, Annette, ne me jouez pas un mauvais tour, — обратилась она к хозяйке. — Vous m'avez écrit que c'était une toute petite soirée; voyez comme je suis attifée 5.\\n— Вы не знаете аббата Морио? Он очень интересный человек... — сказала она.\\n— Да, я слышал про его план вечного мира, и это очень интересно, но едва ли возможно...\\n— Вы думаете?.. — сказала Анна Павловна, чтобы сказать что-нибудь и вновь обратиться к своим занятиям хозяйки дома, но Пьер сделал обратную неучтивость. Прежде он, не дослушав слов собеседницы, ушел; теперь он остановил своим разговором собеседницу, которой нужно было от него уйти. Он, нагнув голову и расставив большие ноги, стал доказывать Анне Павловне, почему он полагал, что план аббата был химера.\\n— Мы после поговорим, — сказала Анна Павловна, улыбаясь.\\n\",\n",
              "  '   Уже был второй час ночи, когда Пьер вышел от своего друга. Ночь была июньская, петербургская, бессумрачная ночь. Пьер сел в извозчичью коляску с намерением ехать домой. Но чем ближе он подъезжал, тем более он чувствовал невозможность заснуть в эту ночь, походившую более на вечер или на утро. Далеко было видно по пустым улицам. Ему представлялось оживленное прекрасное лицо князя Андрея, ему слышались его слова -- не об отношениях его к жене (это не занимало Пьера) -- но его слова о войне и о той будущности, которая могла ожидать его друга. Пьер так безусловно любил и преклонялся перед своим другом, что не мог допустить, чтобы князя Андрея, как скоро он сам того захочет, все не признали замечательным и великим человеком, которому свойственно повелевать, а не подчиняться. Пьер никак не мог представить себе, чтоб у кого бы то ни было, у Кутузова, например, достало духа отдавать приказания такому человеку, очевидно рожденному для первой роли во всем, каким представлялся ему князь Андрей. Он воображал себе своего друга перед войсками, на белом коне, с краткою и сильною речью в устах, воображал себе его храбрость, его успехи, геройство и все, что воображает большинство молодых людей для самих себя. Пьер вспомнил, что он обещался нынче отдать небольшой карточный долг Анатолю, у которого нынче вечером должно было собраться обычное игорное общество.\\n   -- Пошел к Курагину, -- сказал он кучеру, думая только о том, где бы провести остаток ночи и совершенно забыв данное князю Андрею слово не бывать у Курагина.\\n   Подъехав к крыльцу большого дома у конногвардейских казарм, в котором жил князь Анатоль Курагин, он вспоминал свое обещание, но тут же, как это бывает с людьми, называемыми бесхарактерными, ему так страстно захотелось войти взглянуть еще раз на эту столь знакомую и надоевшую ему беспутную жизнь, и невольно пришла в голову мысль, что данное слово ничего не значит, к тому же, еще прежде, чем князю Андрею, он дал также Анатолю слово привезти долг; наконец, он подумал, что все эти честные слова такие условные вещи, не имеющие никакого определенного смысла, особенно ежели сообразить, что, может быть, завтра же или он умрет, или случится с ним что-нибудь такое необыкновенное, что не будет уже ни честного, ни бесчестного.\\n   Он поднялся на освещенное крыльцо, на лестницу, и вошел в отворенную дверь. В роскошной передней никого не было, валялись пустые бутылки, в углу гора изогнутых карт, плащи, калоши; пахло вином; слышался дальний говор и крик.\\n   Видимо, игра и ужин уже кончились, но гости еще не разъезжались. Пьер скинул плащ и вошел в первую комнату, где посередине стояла статуя скаковой лошади во весь рост. Из третьей комнаты слышались яснее возня и знакомые хохот и крики человек шести или восьми. Он вошел в третью комнату, в которой стояли еще остатки ужина. Человек восемь молодых людей, все без сюртуков и большею частью в военных рейтузах, толпились около открытого окна и все вместе по-русски и по-французски кричали непонятные слова.\\n   -- Держу за Чаплина сто! -- кричал один.\\n   -- Смотри, не поддерживать! -- кричал другой.\\n   -- Я за Долохова! -- кричал третий. -- Разними, Курагин.\\n   -- Одним духом, иначе проиграно! -- кричал четвертый.\\n   -- Яков, давай бутылку, Яков! -- кричал сам хозяин, высокий, статный красавец, стоявший посреди толпы. -- Стойте, господа. Вот он, Пьер!\\n   -- А! Петр! Петруша! Петр Великий!\\n   -- Петр толстый! -- закричали со всех сторон, обступая его.\\n',\n",
              "  '   Уже был второй час ночи, когда Пьер вышел от своего друга. Ночь была июньская, петербургская, бессумрачная ночь. Пьер сел в извозчичью коляску с намерением ехать домой. Но чем ближе он подъезжал, тем более он чувствовал невозможность заснуть в эту ночь, походившую более на вечер или на утро. Далеко было видно по пустым улицам. Ему представлялось оживленное прекрасное лицо князя Андрея, ему слышались его слова -- не об отношениях его к жене (это не занимало Пьера) -- но его слова о войне и о той будущности, которая могла ожидать его друга. Пьер так безусловно любил и преклонялся перед своим другом, что не мог допустить, чтобы князя Андрея, как скоро он сам того захочет, все не признали замечательным и великим человеком, которому свойственно повелевать, а не подчиняться. Пьер никак не мог представить себе, чтоб у кого бы то ни было, у Кутузова, например, достало духа отдавать приказания такому человеку, очевидно рожденному для первой роли во всем, каким представлялся ему князь Андрей. Он воображал себе своего друга перед войсками, на белом коне, с краткою и сильною речью в устах, воображал себе его храбрость, его успехи, геройство и все, что воображает большинство молодых людей для самих себя. Пьер вспомнил, что он обещался нынче отдать небольшой карточный долг Анатолю, у которого нынче вечером должно было собраться обычное игорное общество.\\n   -- Пошел к Курагину, -- сказал он кучеру, думая только о том, где бы провести остаток ночи и совершенно забыв данное князю Андрею слово не бывать у Курагина.\\n   Подъехав к крыльцу большого дома у конногвардейских казарм, в котором жил князь Анатоль Курагин, он вспоминал свое обещание, но тут же, как это бывает с людьми, называемыми бесхарактерными, ему так страстно захотелось войти взглянуть еще раз на эту столь знакомую и надоевшую ему беспутную жизнь, и невольно пришла в голову мысль, что данное слово ничего не значит, к тому же, еще прежде, чем князю Андрею, он дал также Анатолю слово привезти долг; наконец, он подумал, что все эти честные слова такие условные вещи, не имеющие никакого определенного смысла, особенно ежели сообразить, что, может быть, завтра же или он умрет, или случится с ним что-нибудь такое необыкновенное, что не будет уже ни честного, ни бесчестного.\\n   Он поднялся на освещенное крыльцо, на лестницу, и вошел в отворенную дверь. В роскошной передней никого не было, валялись пустые бутылки, в углу гора изогнутых карт, плащи, калоши; пахло вином; слышался дальний говор и крик.\\n   Видимо, игра и ужин уже кончились, но гости еще не разъезжались. Пьер скинул плащ и вошел в первую комнату, где посередине стояла статуя скаковой лошади во весь рост. Из третьей комнаты слышались яснее возня и знакомые хохот и крики человек шести или восьми. Он вошел в третью комнату, в которой стояли еще остатки ужина. Человек восемь молодых людей, все без сюртуков и большею частью в военных рейтузах, толпились около открытого окна и все вместе по-русски и по-французски кричали непонятные слова.\\n   -- Держу за Чаплина сто! -- кричал один.\\n   -- Смотри, не поддерживать! -- кричал другой.\\n   -- Я за Долохова! -- кричал третий. -- Разними, Курагин.\\n   -- Одним духом, иначе проиграно! -- кричал четвертый.\\n   -- Яков, давай бутылку, Яков! -- кричал сам хозяин, высокий, статный красавец, стоявший посреди толпы. -- Стойте, господа. Вот он, Пьер!\\n   -- А! Петр! Петруша! Петр Великий!\\n   -- Петр толстый! -- закричали со всех сторон, обступая его.\\n   На всех, красных и с красными пятнами, молодых лицах выразилась радость при виде Пьера, который, сняв очки и протирая их, смотрел на всю эту толпу.\\n   -- Ничего не понимаю. В чем дело? -- сказал он, благодушно улыбаясь.\\n   -- Стойте, он не пьян. Дай бутылку, -- сказал Анатоль и, взяв со стола стакан, подошел к Пьеру.\\n   -- Прежде всего пей.\\n   Пьер молча стал пить стакан за стаканом, исподлобья оглядывая пьяных гостей, которые опять столпились у окна, толкуя о чем-то, ему непонятном. Он выпил один стакан залпом; Анатоль с значительным видом налил ему другой. Пьер покорно выпил, хотя и медленнее первого. Анатоль налил третий. Пьер выпил и этот, хотя остановился два раза, чтобы перевести дух. Анатоль стоял подле, серьезно глядя своими прекрасными большими глазами попеременно на стакан, на бутылку и на Пьера. Анатоль был красавец: высокий, полный, белый, румяный; грудь у него была так высока, что голова откидывалась назад, что придавало ему гордый вид. У него был прекрасный свежий рот, густые русые волосы, навыкате черные глаза и общее выражение силы, здоровья и добродушия свежей молодости. Но прекрасные глаза его с чудесными, правильными, черными бровями как будто были сделаны не столько для того, чтобы смотреть, сколько для того, чтобы на них смотрели. Они казались неспособными изменять выражение. Что он был пьян, это видно было только по его красному лицу, но еще более по неестественно выпученной груди и по разинутости глаз. Несмотря на то, что он был пьян и что верхняя часть его могущественного тела покрывалась только рубашкой, раскрытой на груди, -- по легкому запаху духов и мыла, который сливался вокруг него с запахом выпитого вина, по тщательно напомаженной утром прическе его волос, по изящной чистоте пухлых рук и тончайшего белья, по этой белизне и гладкой нежности кожи, -- и в теперешнем состоянии его был виден аристократ, в смысле вошедшего с детства в привычку тщательного и роскошного ухода за своею особой.\\n   -- Ну, пей же всю! А? -- сказал он серьезно, подавая последний стакан Пьеру.\\n   -- Нет, не хочу, -- сказал Пьер, запинаясь на половине стакана. -- Ну, в чем дело? -- прибавил он с видом человека, исполнившего приготовительную обязанность и теперь считающего себя вправе принять участие в общем деле.\\n   -- Пей же всю. А? -- повторил Анатоль, шире разевая глаза, и поднял своею белою, голою до локтя рукой недопитый стакан. Он имел вид человека, делающего важное дело, потому что всю энергию свою в эту минуту он употреблял на то, чтобы держать стакан прямо, и сказать именно то, что он хотел сказать.\\n   -- Говорю -- не хочу, -- отвечал Пьер, надевая очки и отходя прочь. -- О чем вы кричите? -- спросил он у толпы, собравшейся у окна.\\n   Анатоль постоял, подумал, отдал стакан слуге и, слегка улыбнувшись своим красивым ртом, подошел тоже к окну.\\n   По пятницам Анатоль Курагин принимал всех у себя, у него играли, ужинали и потом проводили ночь большею частью вне дома. В этот день игра в фараон завязалась продолжительная и большая. Анатоль проиграл немного, и так как он не имел страсти к игре, а играл по привычке, то скоро отстал. Один богач, лейб-гусар, проиграл много, а один семеновский офицер, Долохов, выиграл у всех. После игры, сели очень поздно ужинать. Весьма серьезный англичанин, выдававший себя за путешественника, сказал, что он полагал, по дошедшим до него сведениям, что русские гораздо сильнее пьют, чем он это нашел на деле. Он говорил, что в России пьют только шампанское, а что ежели пить ром, то он предлагает пари, что выпьет больше всех присутствовавших. Долохов, тот офицер, который больше всех выиграл в тот вечер, сказал, что просто о бутылке рома не стоит держать пари, а что он вызывается выпить ее, не отводя ее ото рта и сидя на окне третьего этажа со спущенными наружу ногами. Англичанин предложил пари. Анатоль принял пари за Долохова, то есть, что Долохов выпьет бутылку рома на окне. В ту минуту, когда вошел Пьер, лакеи вы?ставляли раму, чтобы можно было сесть на наружный подоконник. Окно в третьем этаже было достаточно высоко для того, чтоб упавший с него мог убиться до смерти. С разных сторон пьяные и дружелюбные лица рассказывали Пьеру, в чем дело, как будто полагая в том, что Пьер будет знать это дело, какую-то особенную важность.\\n   Долохов был гвардейского пехотного полка офицер, среднего роста, мускулистый, как бы сбитый весь, с широкою и полною грудью, чрезвычайно курчавый и с светлыми голубыми глазами. Ему было лет двадцать пять. Он не носил усов, как и все пехотные офицеры, и рот его, самая поразительная черта его лица, был весь виден. Рот этот был чрезвычайно приятен, несмотря на то, что почти никогда не улыбался. Линии этого рта были замечательно тонко изогнуты. В середине верхняя губа энергически опускалась на крепкую нижнюю; острым клином в углах образовывалось постоянно что-то в роде двух улыбок, по одной с каждой стороны, и всё вместе в соединении с прямым, несколько наглым, но огненным и умным взглядом, составляло впечатление такое, что, проходя мимо этого лица, нельзя было не заметить его и не спросить, кто этот обладатель такого красивого и странного лица. Женщинам Долохов нравился, и он искренно был убежден, что безупречных женщин не бывает. Долохов был молодой человек хорошей фамилии, но не богатый; однако он жил роскошно и постоянно играл. Он почти всегда выигрывал; но никто, даже и в отсутствие его, не смел приписывать его постоянный успех чему-нибудь другому, кроме счастья, светлой головы и непоколебимой силы воли. В душе каждый, игравший с ним, предполагал в нем шулера, хотя и не смел сказать этого. Теперь, когда он затеял свое странное пари, пьяное общество приняло особенно живое участие в его намерении. И именно потому, что знавшие его знали, что сказанное им будет сделано. Пьер знал это также и потому только поздоровался с Долоховым и не пытался возражать против его намерения.\\n   Остальное общество состояло из трех офицеров, англичанина, которого видали в Петербурге в самых разнообразных обществах, одного москвича-игрока, женатого толстяка, который был гораздо старше всех, но был однако на ты со всею этою молодежью.\\n   Бутылка рому была принесена; раму, не пускавшую сесть на наружный откос окна, выламывали два лакея в штиблетах и кафтанах, видимо, торопившиеся и робевшие от советов и криков окружавших господ.\\n   Анатоль с выпученной грудью, не переменяя выражения, не обходя и не прося посторониться, продавил своим сильным телом толпу у окна, подошел к раме и, обернув обе белые руки сюртуком, валявшимся на диване, ударил в стекла и пробил их.\\n   -- Ну вот, ваше сиятельство, -- сказал лакей, -- только мешаете и ручки порежете.\\n   -- Пошел, дурак, а?.. -- проговорил Анатоль, взялся за перекладины рамы и стал тянуть. Несколько рук взялись также за дело; потянули, и рама с треском выскочила из окна, так что тянувшие чуть не упали.\\n   -- Всю вон, а то подумают, что я держусь, -- сказал Долохов.\\n   -- Послушай, -- сказал Анатоль Пьеру. -- Понимаешь? Англичанин хвастает... а?.. национальность... а?.. хорошо?..\\n   -- Хорошо, -- сказал Пьер, с замиранием сердца глядя на Долохова, который, взяв в руки бутылку рома, подходил к окну, из которого виднелся свет неба и сливавшихся на нем утренней и вечерней зари. Долохов, засучив для чего-то рукава рубашки, с бутылкою рома в руке, ловко вскочил на окно.\\n'],\n",
              " 'w': ['сын князя Василия',\n",
              "  'Да, я слышал про его план вечного мира, и это очень интересно, но едва ли возможно...',\n",
              "  'вспоминал свое обещание, но тут же, как это бывает с людьми, называемыми бесхарактерными, ему так страстно захотелось войти взглянуть еще раз на эту столь знакомую и надоевшую ему беспутную жизнь, и невольно пришла в голову мысль, что данное слово ничего не значит, к тому же, еще прежде, чем князю Андрею, он дал также Анатолю слово привезти долг; наконец, он подумал, что все эти',\n",
              "  'Бутылка рому была принесена; раму, не пускавшую сесть на наружный откос окна, выламывали два']}"
            ]
          },
          "metadata": {},
          "execution_count": 11
        }
      ]
    },
    {
      "cell_type": "code",
      "source": [
        "def test_func(func):\n",
        "  for test_num in range(len(bad_tests['t'])):\n",
        "    assert func(bad_tests['t'][test_num], bad_tests['w'][test_num]) == bad_tests['t'][test_num].find(bad_tests['w'][test_num])"
      ],
      "metadata": {
        "id": "TDCjyflikDAY"
      },
      "execution_count": null,
      "outputs": []
    },
    {
      "cell_type": "markdown",
      "source": [
        "## Наивный алгоритм "
      ],
      "metadata": {
        "id": "WOBm0eenc_TO"
      }
    },
    {
      "cell_type": "code",
      "source": [
        "def naive_string_matcher(text, pattern, counter=None):\n",
        "  is_found = False\n",
        "  for i in range(0, len(text) - len(pattern) + 1):\n",
        "    for j in range(i, i + len(pattern)):\n",
        "      if text[j] == pattern[j - i]:\n",
        "        if counter:\n",
        "          counter[0] +=1\n",
        "        is_found = True\n",
        "      else: \n",
        "        if counter:\n",
        "          counter[0] +=1\n",
        "        is_found = False\n",
        "        break\n",
        "    if is_found:\n",
        "      return i\n",
        "  return -1"
      ],
      "metadata": {
        "id": "U4Fbvsm1dc7i"
      },
      "execution_count": null,
      "outputs": []
    },
    {
      "cell_type": "markdown",
      "source": [
        "## Алгоритм Бойера-Мура-Хорспула"
      ],
      "metadata": {
        "id": "qOGpiFJbdFkS"
      }
    },
    {
      "cell_type": "code",
      "source": [
        "def get_shift_table(pattern, counter=None):\n",
        "  shifts = {}\n",
        "  ind = 0\n",
        "  for i in range(len(pattern) - 2, -1, -1):\n",
        "    ch = pattern[i]\n",
        "    if counter:\n",
        "      counter[0] += 1\n",
        "    ind += 1\n",
        "    if ch not in shifts:\n",
        "      shifts[ch] = ind\n",
        "  if pattern[-1] not in shifts:\n",
        "    shifts[pattern[-1]] = len(pattern)\n",
        "  return shifts"
      ],
      "metadata": {
        "id": "PwFYofoTw2c1"
      },
      "execution_count": null,
      "outputs": []
    },
    {
      "cell_type": "code",
      "source": [
        "def BoyerMoorHorspool(text, pattern, counter=None):\n",
        "  i = len(pattern) - 1\n",
        "  j = len(pattern) - 1\n",
        "\n",
        "  shifts = get_shift_table(pattern, counter)\n",
        "  while(i < len(text)):\n",
        "    if counter:\n",
        "      counter[0] += 1\n",
        "    if text[i] != pattern[j]:\n",
        "      if j == len(pattern) - 1:\n",
        "        i += shifts[text[i]] if text[i] in shifts else len(pattern)\n",
        "      else:\n",
        "        i += shifts[pattern[-1]] + (len(pattern) - 1 - j)\n",
        "        j = len(pattern) - 1\n",
        "    else:\n",
        "      j -= 1\n",
        "      i -= 1\n",
        "      if j == -1:\n",
        "        return i + 1\n",
        "  return -1\n"
      ],
      "metadata": {
        "id": "bmXsRy4htl-R"
      },
      "execution_count": null,
      "outputs": []
    },
    {
      "cell_type": "markdown",
      "source": [
        "## Алгоритм Кнута-Мориса-Пратта"
      ],
      "metadata": {
        "id": "S591UlFOdOnN"
      }
    },
    {
      "cell_type": "code",
      "source": [
        "def prefix_func(pattern, counter=None):\n",
        "  pi = [0] * len(pattern)\n",
        "  i = 1\n",
        "  j = 0\n",
        "  while i != len(pattern):\n",
        "    if counter:\n",
        "      counter[0] += 1\n",
        "    if pattern[i] == pattern[j]:\n",
        "      j += 1\n",
        "      pi[i] =j \n",
        "      i += 1\n",
        "    else:\n",
        "      if j != 0:\n",
        "        j = pi[j - 1]\n",
        "      else:\n",
        "        pi[i] = 0\n",
        "        i += 1\n",
        "  return pi"
      ],
      "metadata": {
        "id": "Q88Xh-KKo5ve"
      },
      "execution_count": null,
      "outputs": []
    },
    {
      "cell_type": "code",
      "source": [
        "prefix_func('aabaaab')"
      ],
      "metadata": {
        "colab": {
          "base_uri": "https://localhost:8080/"
        },
        "id": "rDL7wS6o-74R",
        "outputId": "f55a0e21-97f9-426f-f7bf-f438f2b5a0e6"
      },
      "execution_count": null,
      "outputs": [
        {
          "output_type": "execute_result",
          "data": {
            "text/plain": [
              "[0, 1, 0, 1, 2, 2, 3]"
            ]
          },
          "metadata": {},
          "execution_count": 4
        }
      ]
    },
    {
      "cell_type": "code",
      "source": [
        "def KnuthMorrisPratt(text, pattern, counter=None):\n",
        "  i = 0\n",
        "  j = 0\n",
        "\n",
        "  pi = prefix_func(pattern, counter)\n",
        "  while i != len(text):\n",
        "    if counter:\n",
        "      counter[0] += 1\n",
        "    if text[i] == pattern[j]:\n",
        "      i += 1\n",
        "      j += 1\n",
        "      if j == len(pattern):\n",
        "        return i - j\n",
        "    else:\n",
        "      if j == 0:\n",
        "        i += 1\n",
        "        if i == len(text):\n",
        "          return -1\n",
        "      else:\n",
        "        j = pi[j - 1]"
      ],
      "metadata": {
        "id": "rRYEb_QNmyNM"
      },
      "execution_count": null,
      "outputs": []
    },
    {
      "cell_type": "markdown",
      "source": [
        "## Тесты"
      ],
      "metadata": {
        "id": "Pe4XfnPS5mdE"
      }
    },
    {
      "cell_type": "code",
      "source": [
        "from time import time"
      ],
      "metadata": {
        "id": "RuNPkbj77eSl"
      },
      "execution_count": null,
      "outputs": []
    },
    {
      "cell_type": "code",
      "source": [
        "def benchmark_func(func):\n",
        "  avg_time = {'bad_tests': 0, 'good_tests': 0}\n",
        "  for _ in range(100):\n",
        "    avg_iter_time = 0\n",
        "    for test_num in range(len(bad_tests['t'])):\n",
        "      start_time = time()\n",
        "      func(bad_tests['t'][test_num], bad_tests['w'][test_num])\n",
        "      avg_iter_time += time() - start_time\n",
        "    avg_time['bad_tests'] += avg_iter_time / len(bad_tests['t'])\n",
        "    avg_iter_time = 0\n",
        "    for test_num in range(len(good_tests['t'])):\n",
        "      start_time = time()\n",
        "      func(good_tests['t'][test_num], good_tests['w'][test_num])\n",
        "      avg_iter_time += time() - start_time\n",
        "    avg_time['good_tests'] += avg_iter_time / len(good_tests['t'])\n",
        "\n",
        "  avg_time['bad_tests'] /= 100\n",
        "  avg_time['good_tests'] /= 100\n",
        "  return avg_time['bad_tests'], avg_time['good_tests']"
      ],
      "metadata": {
        "id": "ZwPhJYJL7wfl"
      },
      "execution_count": null,
      "outputs": []
    },
    {
      "cell_type": "markdown",
      "source": [
        "### Среднее время работы алгоритмов:"
      ],
      "metadata": {
        "id": "9Vr2MW1-PnmW"
      }
    },
    {
      "cell_type": "code",
      "source": [
        "import pandas as pd"
      ],
      "metadata": {
        "id": "903m1iCB-MTf"
      },
      "execution_count": null,
      "outputs": []
    },
    {
      "cell_type": "code",
      "source": [
        "functions = {\n",
        "    'Naive': naive_string_matcher,\n",
        "    'Boyer-Moor-Horspool': BoyerMoorHorspool,\n",
        "    'Knuth-Morris-Pratt': KnuthMorrisPratt\n",
        "}\n",
        "\n",
        "results = {}\n",
        "for name, func in functions.items():\n",
        "  results[name] = benchmark_func(func)\n",
        "pd.DataFrame.from_dict(results, columns=['bad tests', 'good tests'], orient='index')"
      ],
      "metadata": {
        "colab": {
          "base_uri": "https://localhost:8080/",
          "height": 143
        },
        "id": "cw26uJhy-OdR",
        "outputId": "6d723313-801d-44f0-d62c-2d0dff23aa96"
      },
      "execution_count": null,
      "outputs": [
        {
          "output_type": "execute_result",
          "data": {
            "text/plain": [
              "                     bad tests  good tests\n",
              "Naive                 0.130772    0.001548\n",
              "Boyer-Moor-Horspool   0.000674    0.000146\n",
              "Knuth-Morris-Pratt    0.000920    0.001235"
            ],
            "text/html": [
              "\n",
              "  <div id=\"df-dbd57e30-577b-40f1-bbcc-85dc21d73f5f\">\n",
              "    <div class=\"colab-df-container\">\n",
              "      <div>\n",
              "<style scoped>\n",
              "    .dataframe tbody tr th:only-of-type {\n",
              "        vertical-align: middle;\n",
              "    }\n",
              "\n",
              "    .dataframe tbody tr th {\n",
              "        vertical-align: top;\n",
              "    }\n",
              "\n",
              "    .dataframe thead th {\n",
              "        text-align: right;\n",
              "    }\n",
              "</style>\n",
              "<table border=\"1\" class=\"dataframe\">\n",
              "  <thead>\n",
              "    <tr style=\"text-align: right;\">\n",
              "      <th></th>\n",
              "      <th>bad tests</th>\n",
              "      <th>good tests</th>\n",
              "    </tr>\n",
              "  </thead>\n",
              "  <tbody>\n",
              "    <tr>\n",
              "      <th>Naive</th>\n",
              "      <td>0.130772</td>\n",
              "      <td>0.001548</td>\n",
              "    </tr>\n",
              "    <tr>\n",
              "      <th>Boyer-Moor-Horspool</th>\n",
              "      <td>0.000674</td>\n",
              "      <td>0.000146</td>\n",
              "    </tr>\n",
              "    <tr>\n",
              "      <th>Knuth-Morris-Pratt</th>\n",
              "      <td>0.000920</td>\n",
              "      <td>0.001235</td>\n",
              "    </tr>\n",
              "  </tbody>\n",
              "</table>\n",
              "</div>\n",
              "      <button class=\"colab-df-convert\" onclick=\"convertToInteractive('df-dbd57e30-577b-40f1-bbcc-85dc21d73f5f')\"\n",
              "              title=\"Convert this dataframe to an interactive table.\"\n",
              "              style=\"display:none;\">\n",
              "        \n",
              "  <svg xmlns=\"http://www.w3.org/2000/svg\" height=\"24px\"viewBox=\"0 0 24 24\"\n",
              "       width=\"24px\">\n",
              "    <path d=\"M0 0h24v24H0V0z\" fill=\"none\"/>\n",
              "    <path d=\"M18.56 5.44l.94 2.06.94-2.06 2.06-.94-2.06-.94-.94-2.06-.94 2.06-2.06.94zm-11 1L8.5 8.5l.94-2.06 2.06-.94-2.06-.94L8.5 2.5l-.94 2.06-2.06.94zm10 10l.94 2.06.94-2.06 2.06-.94-2.06-.94-.94-2.06-.94 2.06-2.06.94z\"/><path d=\"M17.41 7.96l-1.37-1.37c-.4-.4-.92-.59-1.43-.59-.52 0-1.04.2-1.43.59L10.3 9.45l-7.72 7.72c-.78.78-.78 2.05 0 2.83L4 21.41c.39.39.9.59 1.41.59.51 0 1.02-.2 1.41-.59l7.78-7.78 2.81-2.81c.8-.78.8-2.07 0-2.86zM5.41 20L4 18.59l7.72-7.72 1.47 1.35L5.41 20z\"/>\n",
              "  </svg>\n",
              "      </button>\n",
              "      \n",
              "  <style>\n",
              "    .colab-df-container {\n",
              "      display:flex;\n",
              "      flex-wrap:wrap;\n",
              "      gap: 12px;\n",
              "    }\n",
              "\n",
              "    .colab-df-convert {\n",
              "      background-color: #E8F0FE;\n",
              "      border: none;\n",
              "      border-radius: 50%;\n",
              "      cursor: pointer;\n",
              "      display: none;\n",
              "      fill: #1967D2;\n",
              "      height: 32px;\n",
              "      padding: 0 0 0 0;\n",
              "      width: 32px;\n",
              "    }\n",
              "\n",
              "    .colab-df-convert:hover {\n",
              "      background-color: #E2EBFA;\n",
              "      box-shadow: 0px 1px 2px rgba(60, 64, 67, 0.3), 0px 1px 3px 1px rgba(60, 64, 67, 0.15);\n",
              "      fill: #174EA6;\n",
              "    }\n",
              "\n",
              "    [theme=dark] .colab-df-convert {\n",
              "      background-color: #3B4455;\n",
              "      fill: #D2E3FC;\n",
              "    }\n",
              "\n",
              "    [theme=dark] .colab-df-convert:hover {\n",
              "      background-color: #434B5C;\n",
              "      box-shadow: 0px 1px 3px 1px rgba(0, 0, 0, 0.15);\n",
              "      filter: drop-shadow(0px 1px 2px rgba(0, 0, 0, 0.3));\n",
              "      fill: #FFFFFF;\n",
              "    }\n",
              "  </style>\n",
              "\n",
              "      <script>\n",
              "        const buttonEl =\n",
              "          document.querySelector('#df-dbd57e30-577b-40f1-bbcc-85dc21d73f5f button.colab-df-convert');\n",
              "        buttonEl.style.display =\n",
              "          google.colab.kernel.accessAllowed ? 'block' : 'none';\n",
              "\n",
              "        async function convertToInteractive(key) {\n",
              "          const element = document.querySelector('#df-dbd57e30-577b-40f1-bbcc-85dc21d73f5f');\n",
              "          const dataTable =\n",
              "            await google.colab.kernel.invokeFunction('convertToInteractive',\n",
              "                                                     [key], {});\n",
              "          if (!dataTable) return;\n",
              "\n",
              "          const docLinkHtml = 'Like what you see? Visit the ' +\n",
              "            '<a target=\"_blank\" href=https://colab.research.google.com/notebooks/data_table.ipynb>data table notebook</a>'\n",
              "            + ' to learn more about interactive tables.';\n",
              "          element.innerHTML = '';\n",
              "          dataTable['output_type'] = 'display_data';\n",
              "          await google.colab.output.renderOutput(dataTable, element);\n",
              "          const docLink = document.createElement('div');\n",
              "          docLink.innerHTML = docLinkHtml;\n",
              "          element.appendChild(docLink);\n",
              "        }\n",
              "      </script>\n",
              "    </div>\n",
              "  </div>\n",
              "  "
            ]
          },
          "metadata": {},
          "execution_count": 18
        }
      ]
    },
    {
      "cell_type": "markdown",
      "source": [
        "### Время на каждый тест:"
      ],
      "metadata": {
        "id": "Si_seE_zPozJ"
      }
    },
    {
      "cell_type": "code",
      "source": [
        "def get_time_test(func):\n",
        "  current_bad_time = []\n",
        "  current_good_time = []\n",
        "\n",
        "  for test_num in range(len(bad_tests['t'])):\n",
        "    avg_time = 0\n",
        "    for _ in range(100):\n",
        "      start_time = time()\n",
        "      func(bad_tests['t'][test_num], bad_tests['w'][test_num])\n",
        "      avg_time += time() - start_time\n",
        "    current_bad_time.append(avg_time / 100)\n",
        "\n",
        "\n",
        "  for test_num in range(len(good_tests['t'])):\n",
        "    avg_time = 0\n",
        "    for _ in range(100):\n",
        "      start_time = time()\n",
        "      func(good_tests['t'][test_num], good_tests['w'][test_num])\n",
        "      avg_time += time() - start_time\n",
        "    current_good_time.append(avg_time / 100)\n",
        "    \n",
        "  return current_bad_time + current_good_time"
      ],
      "metadata": {
        "id": "fw9HtKm-P31-"
      },
      "execution_count": null,
      "outputs": []
    },
    {
      "cell_type": "code",
      "source": [
        "columns=['bad_1', 'bad_2', 'bad_3', 'bad_4', 'good_1', 'good_2', 'good_3', 'good_4']\n",
        "results = {}\n",
        "for name, func in functions.items():\n",
        "  results[name] = get_time_test(func)\n",
        "pd.DataFrame.from_dict(results, orient='index', columns=columns)"
      ],
      "metadata": {
        "colab": {
          "base_uri": "https://localhost:8080/",
          "height": 143
        },
        "id": "k2tAlE9AOf2e",
        "outputId": "03d47305-0e4f-4e3b-e8d0-36955fbc6dc0"
      },
      "execution_count": null,
      "outputs": [
        {
          "output_type": "execute_result",
          "data": {
            "text/plain": [
              "                        bad_1     bad_2     bad_3     bad_4    good_1  \\\n",
              "Naive                0.000011  0.000139  0.010798  0.504784  0.000272   \n",
              "Boyer-Moor-Horspool  0.000005  0.000040  0.000415  0.002249  0.000039   \n",
              "Knuth-Morris-Pratt   0.000005  0.000058  0.000594  0.003084  0.000219   \n",
              "\n",
              "                       good_2    good_3    good_4  \n",
              "Naive                0.000292  0.000968  0.004709  \n",
              "Boyer-Moor-Horspool  0.000049  0.000204  0.000251  \n",
              "Knuth-Morris-Pratt   0.000281  0.000851  0.003528  "
            ],
            "text/html": [
              "\n",
              "  <div id=\"df-3f7bd46d-d9f2-4943-a60d-e197b476adc3\">\n",
              "    <div class=\"colab-df-container\">\n",
              "      <div>\n",
              "<style scoped>\n",
              "    .dataframe tbody tr th:only-of-type {\n",
              "        vertical-align: middle;\n",
              "    }\n",
              "\n",
              "    .dataframe tbody tr th {\n",
              "        vertical-align: top;\n",
              "    }\n",
              "\n",
              "    .dataframe thead th {\n",
              "        text-align: right;\n",
              "    }\n",
              "</style>\n",
              "<table border=\"1\" class=\"dataframe\">\n",
              "  <thead>\n",
              "    <tr style=\"text-align: right;\">\n",
              "      <th></th>\n",
              "      <th>bad_1</th>\n",
              "      <th>bad_2</th>\n",
              "      <th>bad_3</th>\n",
              "      <th>bad_4</th>\n",
              "      <th>good_1</th>\n",
              "      <th>good_2</th>\n",
              "      <th>good_3</th>\n",
              "      <th>good_4</th>\n",
              "    </tr>\n",
              "  </thead>\n",
              "  <tbody>\n",
              "    <tr>\n",
              "      <th>Naive</th>\n",
              "      <td>0.000011</td>\n",
              "      <td>0.000139</td>\n",
              "      <td>0.010798</td>\n",
              "      <td>0.504784</td>\n",
              "      <td>0.000272</td>\n",
              "      <td>0.000292</td>\n",
              "      <td>0.000968</td>\n",
              "      <td>0.004709</td>\n",
              "    </tr>\n",
              "    <tr>\n",
              "      <th>Boyer-Moor-Horspool</th>\n",
              "      <td>0.000005</td>\n",
              "      <td>0.000040</td>\n",
              "      <td>0.000415</td>\n",
              "      <td>0.002249</td>\n",
              "      <td>0.000039</td>\n",
              "      <td>0.000049</td>\n",
              "      <td>0.000204</td>\n",
              "      <td>0.000251</td>\n",
              "    </tr>\n",
              "    <tr>\n",
              "      <th>Knuth-Morris-Pratt</th>\n",
              "      <td>0.000005</td>\n",
              "      <td>0.000058</td>\n",
              "      <td>0.000594</td>\n",
              "      <td>0.003084</td>\n",
              "      <td>0.000219</td>\n",
              "      <td>0.000281</td>\n",
              "      <td>0.000851</td>\n",
              "      <td>0.003528</td>\n",
              "    </tr>\n",
              "  </tbody>\n",
              "</table>\n",
              "</div>\n",
              "      <button class=\"colab-df-convert\" onclick=\"convertToInteractive('df-3f7bd46d-d9f2-4943-a60d-e197b476adc3')\"\n",
              "              title=\"Convert this dataframe to an interactive table.\"\n",
              "              style=\"display:none;\">\n",
              "        \n",
              "  <svg xmlns=\"http://www.w3.org/2000/svg\" height=\"24px\"viewBox=\"0 0 24 24\"\n",
              "       width=\"24px\">\n",
              "    <path d=\"M0 0h24v24H0V0z\" fill=\"none\"/>\n",
              "    <path d=\"M18.56 5.44l.94 2.06.94-2.06 2.06-.94-2.06-.94-.94-2.06-.94 2.06-2.06.94zm-11 1L8.5 8.5l.94-2.06 2.06-.94-2.06-.94L8.5 2.5l-.94 2.06-2.06.94zm10 10l.94 2.06.94-2.06 2.06-.94-2.06-.94-.94-2.06-.94 2.06-2.06.94z\"/><path d=\"M17.41 7.96l-1.37-1.37c-.4-.4-.92-.59-1.43-.59-.52 0-1.04.2-1.43.59L10.3 9.45l-7.72 7.72c-.78.78-.78 2.05 0 2.83L4 21.41c.39.39.9.59 1.41.59.51 0 1.02-.2 1.41-.59l7.78-7.78 2.81-2.81c.8-.78.8-2.07 0-2.86zM5.41 20L4 18.59l7.72-7.72 1.47 1.35L5.41 20z\"/>\n",
              "  </svg>\n",
              "      </button>\n",
              "      \n",
              "  <style>\n",
              "    .colab-df-container {\n",
              "      display:flex;\n",
              "      flex-wrap:wrap;\n",
              "      gap: 12px;\n",
              "    }\n",
              "\n",
              "    .colab-df-convert {\n",
              "      background-color: #E8F0FE;\n",
              "      border: none;\n",
              "      border-radius: 50%;\n",
              "      cursor: pointer;\n",
              "      display: none;\n",
              "      fill: #1967D2;\n",
              "      height: 32px;\n",
              "      padding: 0 0 0 0;\n",
              "      width: 32px;\n",
              "    }\n",
              "\n",
              "    .colab-df-convert:hover {\n",
              "      background-color: #E2EBFA;\n",
              "      box-shadow: 0px 1px 2px rgba(60, 64, 67, 0.3), 0px 1px 3px 1px rgba(60, 64, 67, 0.15);\n",
              "      fill: #174EA6;\n",
              "    }\n",
              "\n",
              "    [theme=dark] .colab-df-convert {\n",
              "      background-color: #3B4455;\n",
              "      fill: #D2E3FC;\n",
              "    }\n",
              "\n",
              "    [theme=dark] .colab-df-convert:hover {\n",
              "      background-color: #434B5C;\n",
              "      box-shadow: 0px 1px 3px 1px rgba(0, 0, 0, 0.15);\n",
              "      filter: drop-shadow(0px 1px 2px rgba(0, 0, 0, 0.3));\n",
              "      fill: #FFFFFF;\n",
              "    }\n",
              "  </style>\n",
              "\n",
              "      <script>\n",
              "        const buttonEl =\n",
              "          document.querySelector('#df-3f7bd46d-d9f2-4943-a60d-e197b476adc3 button.colab-df-convert');\n",
              "        buttonEl.style.display =\n",
              "          google.colab.kernel.accessAllowed ? 'block' : 'none';\n",
              "\n",
              "        async function convertToInteractive(key) {\n",
              "          const element = document.querySelector('#df-3f7bd46d-d9f2-4943-a60d-e197b476adc3');\n",
              "          const dataTable =\n",
              "            await google.colab.kernel.invokeFunction('convertToInteractive',\n",
              "                                                     [key], {});\n",
              "          if (!dataTable) return;\n",
              "\n",
              "          const docLinkHtml = 'Like what you see? Visit the ' +\n",
              "            '<a target=\"_blank\" href=https://colab.research.google.com/notebooks/data_table.ipynb>data table notebook</a>'\n",
              "            + ' to learn more about interactive tables.';\n",
              "          element.innerHTML = '';\n",
              "          dataTable['output_type'] = 'display_data';\n",
              "          await google.colab.output.renderOutput(dataTable, element);\n",
              "          const docLink = document.createElement('div');\n",
              "          docLink.innerHTML = docLinkHtml;\n",
              "          element.appendChild(docLink);\n",
              "        }\n",
              "      </script>\n",
              "    </div>\n",
              "  </div>\n",
              "  "
            ]
          },
          "metadata": {},
          "execution_count": 23
        }
      ]
    },
    {
      "cell_type": "markdown",
      "source": [
        "### Количество операций на каждый тест:"
      ],
      "metadata": {
        "id": "rHLBEA0UTnc5"
      }
    },
    {
      "cell_type": "code",
      "source": [
        "def get_operation_amount(func):\n",
        "  counter_all = []\n",
        "\n",
        "  for test_num in range(len(bad_tests['t'])):\n",
        "    counter = [0]\n",
        "    func(bad_tests['t'][test_num], bad_tests['w'][test_num], counter)\n",
        "    counter_all.append(counter[0])\n",
        "\n",
        "  for test_num in range(len(good_tests['t'])):\n",
        "    counter = [0]\n",
        "    func(good_tests['t'][test_num], good_tests['w'][test_num], counter)\n",
        "    counter_all.append(counter[0])\n",
        "\n",
        "  return counter_all"
      ],
      "metadata": {
        "id": "PbXQcVXqTfnZ"
      },
      "execution_count": null,
      "outputs": []
    },
    {
      "cell_type": "code",
      "source": [
        "results = {}\n",
        "for name, func in functions.items():\n",
        "  results[name] = get_operation_amount(func)\n",
        "pd.DataFrame.from_dict(results, orient='index', columns=columns)"
      ],
      "metadata": {
        "colab": {
          "base_uri": "https://localhost:8080/",
          "height": 143
        },
        "id": "-9zXaeU_OgYq",
        "outputId": "5981e1d6-02ee-4f83-e65c-a2415be89fa7"
      },
      "execution_count": null,
      "outputs": [
        {
          "output_type": "execute_result",
          "data": {
            "text/plain": [
              "                     bad_1  bad_2  bad_3    bad_4  good_1  good_2  good_3  \\\n",
              "Naive                   18    910  90100  4001000     633     695    2074   \n",
              "Boyer-Moor-Horspool     11    109   1099     5999      96     191     814   \n",
              "Knuth-Morris-Pratt      19    207   2097    10997     650     779    2459   \n",
              "\n",
              "                     good_4  \n",
              "Naive                  9614  \n",
              "Boyer-Moor-Horspool     601  \n",
              "Knuth-Morris-Pratt     9705  "
            ],
            "text/html": [
              "\n",
              "  <div id=\"df-2e24bbff-255c-4871-9423-67ebb6840063\">\n",
              "    <div class=\"colab-df-container\">\n",
              "      <div>\n",
              "<style scoped>\n",
              "    .dataframe tbody tr th:only-of-type {\n",
              "        vertical-align: middle;\n",
              "    }\n",
              "\n",
              "    .dataframe tbody tr th {\n",
              "        vertical-align: top;\n",
              "    }\n",
              "\n",
              "    .dataframe thead th {\n",
              "        text-align: right;\n",
              "    }\n",
              "</style>\n",
              "<table border=\"1\" class=\"dataframe\">\n",
              "  <thead>\n",
              "    <tr style=\"text-align: right;\">\n",
              "      <th></th>\n",
              "      <th>bad_1</th>\n",
              "      <th>bad_2</th>\n",
              "      <th>bad_3</th>\n",
              "      <th>bad_4</th>\n",
              "      <th>good_1</th>\n",
              "      <th>good_2</th>\n",
              "      <th>good_3</th>\n",
              "      <th>good_4</th>\n",
              "    </tr>\n",
              "  </thead>\n",
              "  <tbody>\n",
              "    <tr>\n",
              "      <th>Naive</th>\n",
              "      <td>18</td>\n",
              "      <td>910</td>\n",
              "      <td>90100</td>\n",
              "      <td>4001000</td>\n",
              "      <td>633</td>\n",
              "      <td>695</td>\n",
              "      <td>2074</td>\n",
              "      <td>9614</td>\n",
              "    </tr>\n",
              "    <tr>\n",
              "      <th>Boyer-Moor-Horspool</th>\n",
              "      <td>11</td>\n",
              "      <td>109</td>\n",
              "      <td>1099</td>\n",
              "      <td>5999</td>\n",
              "      <td>96</td>\n",
              "      <td>191</td>\n",
              "      <td>814</td>\n",
              "      <td>601</td>\n",
              "    </tr>\n",
              "    <tr>\n",
              "      <th>Knuth-Morris-Pratt</th>\n",
              "      <td>19</td>\n",
              "      <td>207</td>\n",
              "      <td>2097</td>\n",
              "      <td>10997</td>\n",
              "      <td>650</td>\n",
              "      <td>779</td>\n",
              "      <td>2459</td>\n",
              "      <td>9705</td>\n",
              "    </tr>\n",
              "  </tbody>\n",
              "</table>\n",
              "</div>\n",
              "      <button class=\"colab-df-convert\" onclick=\"convertToInteractive('df-2e24bbff-255c-4871-9423-67ebb6840063')\"\n",
              "              title=\"Convert this dataframe to an interactive table.\"\n",
              "              style=\"display:none;\">\n",
              "        \n",
              "  <svg xmlns=\"http://www.w3.org/2000/svg\" height=\"24px\"viewBox=\"0 0 24 24\"\n",
              "       width=\"24px\">\n",
              "    <path d=\"M0 0h24v24H0V0z\" fill=\"none\"/>\n",
              "    <path d=\"M18.56 5.44l.94 2.06.94-2.06 2.06-.94-2.06-.94-.94-2.06-.94 2.06-2.06.94zm-11 1L8.5 8.5l.94-2.06 2.06-.94-2.06-.94L8.5 2.5l-.94 2.06-2.06.94zm10 10l.94 2.06.94-2.06 2.06-.94-2.06-.94-.94-2.06-.94 2.06-2.06.94z\"/><path d=\"M17.41 7.96l-1.37-1.37c-.4-.4-.92-.59-1.43-.59-.52 0-1.04.2-1.43.59L10.3 9.45l-7.72 7.72c-.78.78-.78 2.05 0 2.83L4 21.41c.39.39.9.59 1.41.59.51 0 1.02-.2 1.41-.59l7.78-7.78 2.81-2.81c.8-.78.8-2.07 0-2.86zM5.41 20L4 18.59l7.72-7.72 1.47 1.35L5.41 20z\"/>\n",
              "  </svg>\n",
              "      </button>\n",
              "      \n",
              "  <style>\n",
              "    .colab-df-container {\n",
              "      display:flex;\n",
              "      flex-wrap:wrap;\n",
              "      gap: 12px;\n",
              "    }\n",
              "\n",
              "    .colab-df-convert {\n",
              "      background-color: #E8F0FE;\n",
              "      border: none;\n",
              "      border-radius: 50%;\n",
              "      cursor: pointer;\n",
              "      display: none;\n",
              "      fill: #1967D2;\n",
              "      height: 32px;\n",
              "      padding: 0 0 0 0;\n",
              "      width: 32px;\n",
              "    }\n",
              "\n",
              "    .colab-df-convert:hover {\n",
              "      background-color: #E2EBFA;\n",
              "      box-shadow: 0px 1px 2px rgba(60, 64, 67, 0.3), 0px 1px 3px 1px rgba(60, 64, 67, 0.15);\n",
              "      fill: #174EA6;\n",
              "    }\n",
              "\n",
              "    [theme=dark] .colab-df-convert {\n",
              "      background-color: #3B4455;\n",
              "      fill: #D2E3FC;\n",
              "    }\n",
              "\n",
              "    [theme=dark] .colab-df-convert:hover {\n",
              "      background-color: #434B5C;\n",
              "      box-shadow: 0px 1px 3px 1px rgba(0, 0, 0, 0.15);\n",
              "      filter: drop-shadow(0px 1px 2px rgba(0, 0, 0, 0.3));\n",
              "      fill: #FFFFFF;\n",
              "    }\n",
              "  </style>\n",
              "\n",
              "      <script>\n",
              "        const buttonEl =\n",
              "          document.querySelector('#df-2e24bbff-255c-4871-9423-67ebb6840063 button.colab-df-convert');\n",
              "        buttonEl.style.display =\n",
              "          google.colab.kernel.accessAllowed ? 'block' : 'none';\n",
              "\n",
              "        async function convertToInteractive(key) {\n",
              "          const element = document.querySelector('#df-2e24bbff-255c-4871-9423-67ebb6840063');\n",
              "          const dataTable =\n",
              "            await google.colab.kernel.invokeFunction('convertToInteractive',\n",
              "                                                     [key], {});\n",
              "          if (!dataTable) return;\n",
              "\n",
              "          const docLinkHtml = 'Like what you see? Visit the ' +\n",
              "            '<a target=\"_blank\" href=https://colab.research.google.com/notebooks/data_table.ipynb>data table notebook</a>'\n",
              "            + ' to learn more about interactive tables.';\n",
              "          element.innerHTML = '';\n",
              "          dataTable['output_type'] = 'display_data';\n",
              "          await google.colab.output.renderOutput(dataTable, element);\n",
              "          const docLink = document.createElement('div');\n",
              "          docLink.innerHTML = docLinkHtml;\n",
              "          element.appendChild(docLink);\n",
              "        }\n",
              "      </script>\n",
              "    </div>\n",
              "  </div>\n",
              "  "
            ]
          },
          "metadata": {},
          "execution_count": 25
        }
      ]
    },
    {
      "cell_type": "code",
      "source": [
        ""
      ],
      "metadata": {
        "id": "GBUvYU9UgT-R"
      },
      "execution_count": null,
      "outputs": []
    }
  ]
}